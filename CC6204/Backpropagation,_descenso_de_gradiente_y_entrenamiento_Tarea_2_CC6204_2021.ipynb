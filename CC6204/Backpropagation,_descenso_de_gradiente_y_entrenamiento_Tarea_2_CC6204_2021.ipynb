{
  "nbformat": 4,
  "nbformat_minor": 0,
  "metadata": {
    "kernelspec": {
      "display_name": "Python 3",
      "language": "python",
      "name": "python3"
    },
    "language_info": {
      "codemirror_mode": {
        "name": "ipython",
        "version": 3
      },
      "file_extension": ".py",
      "mimetype": "text/x-python",
      "name": "python",
      "nbconvert_exporter": "python",
      "pygments_lexer": "ipython3",
      "version": "3.6.8"
    },
    "colab": {
      "provenance": []
    }
  },
  "cells": [
    {
      "cell_type": "markdown",
      "metadata": {
        "id": "vEJLFL-H5axT"
      },
      "source": [
        "# Tarea 2: Backpropagation, descenso de gradiente y entrenamiento <br/> CC6204 Deep Learning, Universidad de Chile  <br/> Hoja de respuestas\n",
        "## Nombre: Matias Cornejo\n",
        "Fecha de entrega: 6 de octubre de 2021\n",
        "\n",
        "Para la **corrección automática** hemos creado una funcionalidad nueva que les permite comprobar el tiempo que demora su solución. En colab estos tiempos pueden ser variables entre una ejecución y otra del mismo código. No se preocupen si les falla el test por `time` algunas veces. Pueden hacer `time=0` en la ultima linea de cada test para evitar estos errores. También hemos usado nombres para los tests. Estos pueden serles de ayuda para determinar qué partes de su implementación deben corregir ;-)\n"
      ]
    },
    {
      "cell_type": "code",
      "metadata": {
        "id": "9rN1E2MUXDSn",
        "colab": {
          "base_uri": "https://localhost:8080/"
        },
        "outputId": "24052e36-0233-4ac4-f157-d86892fcd0e8"
      },
      "source": [
        "# Este notebook está pensado para correr en CoLaboratory.\n",
        "# Lo único imprescindible por importar es torch\n",
        "import torch\n",
        "\n",
        "# Posiblemenete quieras instalar e importar ipdb para debuggear.\n",
        "# Si es así, descomenta lo siguiente:\n",
        "# !pip install -q ipdb\n",
        "# import ipdb\n",
        "\n",
        "# Aqui instalamos la libreria de correccion del curso\n",
        "!pip install -U \"git+https://github.com/dccuchile/CC6204.git@master#egg=cc6204&subdirectory=autocorrect\"\n",
        "from timeit import default_timer as timer"
      ],
      "execution_count": null,
      "outputs": [
        {
          "output_type": "stream",
          "name": "stdout",
          "text": [
            "Collecting cc6204\n",
            "  Cloning https://github.com/dccuchile/CC6204.git (to revision master) to /tmp/pip-install-cvi23fna/cc6204_daafa5da316440218e73df4dfd5d87e1\n",
            "  Running command git clone -q https://github.com/dccuchile/CC6204.git /tmp/pip-install-cvi23fna/cc6204_daafa5da316440218e73df4dfd5d87e1\n",
            "Requirement already satisfied: requests in /usr/local/lib/python3.7/dist-packages (from cc6204) (2.23.0)\n",
            "Requirement already satisfied: numpy in /usr/local/lib/python3.7/dist-packages (from cc6204) (1.19.5)\n",
            "Requirement already satisfied: torch in /usr/local/lib/python3.7/dist-packages (from cc6204) (1.9.0+cu111)\n",
            "Requirement already satisfied: idna<3,>=2.5 in /usr/local/lib/python3.7/dist-packages (from requests->cc6204) (2.10)\n",
            "Requirement already satisfied: certifi>=2017.4.17 in /usr/local/lib/python3.7/dist-packages (from requests->cc6204) (2021.5.30)\n",
            "Requirement already satisfied: urllib3!=1.25.0,!=1.25.1,<1.26,>=1.21.1 in /usr/local/lib/python3.7/dist-packages (from requests->cc6204) (1.24.3)\n",
            "Requirement already satisfied: chardet<4,>=3.0.2 in /usr/local/lib/python3.7/dist-packages (from requests->cc6204) (3.0.4)\n",
            "Requirement already satisfied: typing-extensions in /usr/local/lib/python3.7/dist-packages (from torch->cc6204) (3.7.4.3)\n",
            "Building wheels for collected packages: cc6204\n",
            "  Building wheel for cc6204 (setup.py) ... \u001b[?25l\u001b[?25hdone\n",
            "  Created wheel for cc6204: filename=cc6204-0.5.0-py3-none-any.whl size=5800 sha256=263e9a977fe195db899842769667ea93b0d78bfdd6d1a147857110d5b3f7f0e2\n",
            "  Stored in directory: /tmp/pip-ephem-wheel-cache-mzp8542a/wheels/3c/26/f5/2abeb546c3ff1ab6e69113a3ae69bc0ac3442642727fd0dcc2\n",
            "Successfully built cc6204\n",
            "Installing collected packages: cc6204\n",
            "Successfully installed cc6204-0.5.0\n"
          ]
        }
      ]
    },
    {
      "cell_type": "code",
      "metadata": {
        "id": "PVhyLn9G5NJV",
        "colab": {
          "base_uri": "https://localhost:8080/"
        },
        "outputId": "fe440da1-e52a-4a4b-b055-7cd7766bfd43"
      },
      "source": [
        "# importamos las herramientas del curso\n",
        "from cc6204 import AutoCorrect, FailedTest\n",
        "\n",
        "# ingresa el host y port que posteamos en u-cursos\n",
        "corrector = AutoCorrect(host=\"cc6204.dcc.uchile.cl\", port=443)\n",
        "\n",
        "# anota el token que te daremos en u-cursos\n",
        "token = \"]ye/Ox;nsz\""
      ],
      "execution_count": null,
      "outputs": [
        {
          "output_type": "stream",
          "name": "stdout",
          "text": [
            "Connection stablished\n"
          ]
        }
      ]
    },
    {
      "cell_type": "markdown",
      "metadata": {
        "id": "fg8i3agyXDSr"
      },
      "source": [
        "# Parte 1: Preliminares: funciones de activación y función de error\n"
      ]
    },
    {
      "cell_type": "markdown",
      "metadata": {
        "id": "NbzcMAkOXDSr"
      },
      "source": [
        "## 1a) Derivando las funciones de activación"
      ]
    },
    {
      "cell_type": "markdown",
      "metadata": {
        "id": "pcybEP7fXDSs"
      },
      "source": [
        "Escribe acá tus respuestas para las derivadas de cada función de activación.\n",
        "\n",
        "$$ relu(x)=   \\left\\{\n",
        "\\begin{array}{ll}\n",
        "      0 & x \\leq 0 \\\\\n",
        "      x & x>0 \\\\\n",
        "\\end{array}\n",
        "\\right.  $$\n",
        "\n",
        "$$ swish(x, \\beta)= x * sigmoid(\\beta * x) $$\n",
        "\n",
        "$$ celu(x, a)=   \\left\\{\n",
        "\\begin{array}{ll}\n",
        "      x & x \\geq 0 \\\\\n",
        "      \\alpha * ( exp(\\frac{ x}{a}) - 1) & x<0 \\\\\n",
        "\\end{array}\n",
        "\\right.  $$\n",
        "\n",
        "<br>\n",
        "$$\n",
        "\\frac{\\partial\\ \\text{relu}(x)}{\\partial x} =  \n",
        " \\left\\{\n",
        "\\begin{array}{ll}\n",
        "      0 & x < 0 \\\\\n",
        "      1 & x>0 \\\\\n",
        "\\end{array}\n",
        "\\right.$$\n",
        "<br>\n",
        "\n",
        "$$\n",
        "\\frac{\\partial\\ \\text{swish}(x, \\beta)}{\\partial x} =  sigmoid(\\beta * x) + x*\\beta *sigmoid(\\beta * x)(1−sigmoid(\\beta * x)) $$\n",
        "$$=  sigmoid(\\beta * x) + x * \\beta * sigmoid(\\beta * x)− x * \\beta * sigmoid^2(\\beta * x) $$\n",
        "$$=   \\beta * swish(\\beta * x) + sigmoid(\\beta * x) − x * \\beta * sigmoid^2(\\beta * x) $$\n",
        "$$=   \\beta * swish(\\beta * x) + sigmoid(\\beta * x) (1 − x * \\beta * sigmoid(\\beta * x)) $$\n",
        "$$=   \\beta *swish(\\beta * x) + sigmoid(\\beta * x) (1 − \\beta * swish(x)) $$\n",
        "\n",
        "<br>\n",
        "\n",
        "$$\n",
        "\\frac{\\partial\\ \\text{swish}(x, \\beta)}{\\partial \\beta} =  x * \\beta * sigmoid(\\beta * x)(1−sigmoid(\\beta * x))$$\n",
        "<br>\n",
        "\n",
        "$$\n",
        "\\frac{\\partial\\ \\text{celu}(x, \\alpha)}{\\partial x} =  \n",
        " \\left\\{\n",
        "\\begin{array}{ll}\n",
        "      1 & x \\geq 0 \\\\\n",
        "      exp(\\frac{ x}{a}) & x<0 \\\\\n",
        "\\end{array}\n",
        "\\right.$$\n",
        "<br>\n",
        "\n",
        "$$\n",
        "\\frac{\\partial\\ \\text{celu}(x, \\alpha)}{\\partial \\alpha} =  \n",
        " \\left\\{\n",
        "\\begin{array}{ll}\n",
        "      0 & x \\geq 0 \\\\\n",
        "      exp(\\frac{ x}{a}) (1- \\frac{x}{a}) -1  & x<0 \\\\\n",
        "\\end{array}\n",
        "\\right.$$"
      ]
    },
    {
      "cell_type": "code",
      "metadata": {
        "id": "6QfQVggvNuv9"
      },
      "source": [
        "# Más adelante en la tarea necesitaremos usar las funciones de activación\n",
        "# que implementaste en la Tarea 1 y sus derivadas.\n",
        "# Acá implementa las derivadas de las funciones de activación\n",
        "\n",
        "# Una forma de implementarlas (tal vez no la mejor) es reutilizando la misma función\n",
        "def sig(T, gradient=False):\n",
        "  if gradient:\n",
        "    sigT = sig(T)\n",
        "    return sigT * (1 - sigT)\n",
        "  return torch.reciprocal(1 + torch.exp(-1 * T))\n",
        "\n",
        "def tanh(T):\n",
        "  E = torch.exp(T)\n",
        "  e = torch.exp(-1 * T)\n",
        "  return (E - e) * torch.reciprocal(E + e)\n",
        "\n",
        "def relu(T):\n",
        "  return torch.max(torch.zeros_like(T),T)\n",
        "\n",
        "def swish(T, b):\n",
        "  return T * (sig(b * T))\n",
        "\n",
        "def celu(T, a): #CELU(x)=max(0,x)+min(0,α∗(exp(x/α)−1))\n",
        "  return relu(T) + torch.min(torch.zeros_like(T), a * (torch.exp( T/a ) - 1))\n",
        "\n",
        "def softmax(T, dim, estable=True):\n",
        "  return torch.exp(T) / torch.sum(torch.exp(T), dim = dim, keepdim=True)"
      ],
      "execution_count": null,
      "outputs": []
    },
    {
      "cell_type": "markdown",
      "metadata": {
        "id": "ifPp_c1eXDSt"
      },
      "source": [
        "## 1b) Entropía Cruzada"
      ]
    },
    {
      "cell_type": "code",
      "metadata": {
        "id": "w4wXj3AUXDSu"
      },
      "source": [
        "# Tu código acá\n",
        "def CELoss(Q, P, estable=True, epsilon=1e-8):\n",
        "  # Q y P: representan distribuciones de probabilidad discreta\n",
        "  #        (mediante matrices con las mismas dimensiones)\n",
        "  # estable y epsilon: nos permiten lograr estabilidad numérica cuando\n",
        "  #       intentamos computar el logaritmo de valores muy pequeños.\n",
        "  #       epsilon limitará el valor mínimo del valor original cuando estable=True\n",
        "  N = Q.shape[0]\n",
        "  M = Q.shape[1]\n",
        "\n",
        "  if estable:\n",
        "    CEi = 0\n",
        "    for i in range(N):\n",
        "      CEi += (-1) * torch.sum(P[i] * torch.log(torch.max(torch.ones_like(Q[i])*epsilon, Q[i])))\n",
        "  else:\n",
        "    CEi = 0\n",
        "    for i in range(N):\n",
        "      CEi += (-1) * torch.sum(P[i] * torch.log(Q[i]))\n",
        "\n",
        "  return CEi / N"
      ],
      "execution_count": null,
      "outputs": []
    },
    {
      "cell_type": "code",
      "metadata": {
        "id": "qrjGpVdg4xi1",
        "colab": {
          "base_uri": "https://localhost:8080/"
        },
        "outputId": "b29f99d0-9332-499d-d08c-6a4833a657f4"
      },
      "source": [
        "# Tests del API del curso\n",
        "for test in ['small', 'estable', 'eps', 'no-estable']:\n",
        "  # Obtengamos dos distribuciones de probabilidad y los parametros estable y epsilon\n",
        "  Q, P, estable, eps = corrector.get_test_data(homework=2, question=\"1b\", test=test, token=token)\n",
        "  # Corramos tu implementacion de CELoss para ver como se comporta\n",
        "  s = timer()\n",
        "  result = CELoss(Q=torch.Tensor(Q), P=torch.Tensor(P), estable=estable, epsilon=eps)\n",
        "  t = timer() - s\n",
        "\n",
        "  # Veamos si todo fue OK :)\n",
        "  # Si el Test te falla algunas veces por [time], puedes hacer time=0 ;-)\n",
        "  t = 0\n",
        "  corrector.submit(homework=2, question=\"1b\", test=test, token=token, answer=result, time=t)"
      ],
      "execution_count": null,
      "outputs": [
        {
          "output_type": "stream",
          "name": "stdout",
          "text": [
            "Correct Test!\n",
            "Correct Test!\n",
            "Correct Test!\n",
            "Correct Test!\n"
          ]
        }
      ]
    },
    {
      "cell_type": "markdown",
      "metadata": {
        "id": "rlLnZM7hi0C2"
      },
      "source": [
        "## 1c) Opcional: Entropía Cruzada Categórica"
      ]
    },
    {
      "cell_type": "code",
      "metadata": {
        "id": "7Qj1GI81izYt"
      },
      "source": [
        "# No es necesario que entregues código en esta parte.\n",
        "# Pero si quieres, igual hay espacio ;-)"
      ],
      "execution_count": null,
      "outputs": []
    },
    {
      "cell_type": "markdown",
      "metadata": {
        "id": "EwedMCZjXDSw"
      },
      "source": [
        "# Parte 2: Más derivadas y back propagation"
      ]
    },
    {
      "cell_type": "markdown",
      "metadata": {
        "id": "nftKKxlBXDSx"
      },
      "source": [
        "## 2a) Derivando la última capa"
      ]
    },
    {
      "cell_type": "markdown",
      "metadata": {
        "id": "WDBD96xWXDSx"
      },
      "source": [
        "Escribe tu cálculo acá.\n",
        "<br>\n",
        "\n",
        "\\begin{equation}\n",
        "\\frac{\\partial \\cal L}{\\partial u^{(L+1)}} =\n",
        "\\end{equation}\n",
        "<br>\n",
        "\n",
        "\\begin{equation}\n",
        "\\frac{\\partial \\cal L}{\\partial u_i^{(L+1)}} = \\frac{\\partial \\cal L}{\\partial \\hat y_j} \\frac{\\partial \\hat y_j}{\\partial u_i^{(L+1)}}\n",
        "\\end{equation}\n",
        "\n",
        "Primero $$\\cal L=-\\frac{1}{N} \\sum_{x}p(x)\\log q(x) = =-\\frac{1}{N} \\sum_{k}y_k \\log q(\\hat y_k)$$\n",
        "Entonces, \\begin{equation}\n",
        "\\frac{\\partial \\cal L}{\\partial u_i^{(L+1)}} = -\\frac{1}{N} \\sum_{k}y_k \\frac{\\partial\\log \\hat y_k}{\\partial u_i^{(L+1)}} = -\\frac{1}{N} \\sum_{k} \\frac{y_k}{\\hat y_k} \\frac{\\partial \\hat y_k}{\\partial u_i^{(L+1)}}\n",
        "\\end{equation}\n",
        "<br>\n",
        "\n",
        "\n",
        "Sabemos  que $\\hat y=\\text{softmax}(u_i^{(L+1)})$ y que $\\text{softmax}(x_k) = s(x_k) = \\frac{exp(x_k)}{\\sum_{j}exp(x_j)}$\n",
        "\n",
        "Por partes,  $\\frac{\\partial exp(x_k)}{\\partial x_i} = exp(x_k) \\frac{\\partial x_k}{\\partial x_i} = exp(x_k) * (1\\{i=k\\})$\n",
        "<br>\n",
        "\n",
        "y, $\\frac{\\partial \\sum_{j} exp(x_j)}{\\partial x_i} = \\sum_{j} \\frac{ \\partial exp(x_j)}{\\partial x_i} = \\sum_{j} exp(x_j)\\frac{ \\partial x_j}{\\partial x_i} = exp(x_i)$\n",
        "\n",
        "Entonces,\n",
        "\n",
        "\\begin{equation}\n",
        "\\frac{\\partial s(x_k)}{\\partial x_i} = \\frac{(exp(x_k) * (1\\{i=k\\}))(\\sum_{j} exp(x_j)) - (exp(x_i))(exp(x_k))}{[\\sum_{j} exp(x_j)]^2}\n",
        "\\end{equation}\n",
        "\n",
        "\\begin{equation}\n",
        "= \\frac{exp(x_k)}{\\sum_{j} exp(x_j) } * (1\\{i=k\\}) - \\frac{exp(x_i)}{\\sum_{j} exp(x_j) }\\frac{exp(x_k)}{\\sum_{j} exp(x_j) }\n",
        "\\end{equation}\n",
        "<br>\n",
        "\n",
        "\\begin{equation}\n",
        "= s(x_k) * (1\\{i=k\\}) - s(x_i)*s(x_k)\n",
        "\\end{equation}\n",
        "<br>\n",
        "\\begin{equation}\n",
        "= s(x_k) * ((1\\{i=k\\}) - s(x_i))\n",
        "\\end{equation}\n",
        "<br>\n",
        "\n",
        "Finalmente,\n",
        "\n",
        "\\begin{equation}\n",
        "\\frac{\\partial \\cal L}{\\partial \\theta_{i}} = -\\frac{1}{N} \\sum_{k} \\frac{y_k}{\\hat y_k} * \\hat y_k * ((1\\{i=k\\}) - \\hat y_{i}) = -\\frac{1}{N} \\sum_{k} y_k ((1\\{i=k\\}) - \\hat y_{i})\n",
        "\\end{equation}\n",
        "\n",
        "$$ = \\frac{1}{N} [(\\sum_{k \\neq i } y_k * \\hat y_{i}) -  y_i + y_i * \\hat y_i)] = \\frac{1}{N} [(\\sum_{k } y_k * \\hat y_{i}) -  y_i] = \\frac{1}{N} [(\\hat y_{i}\\sum_{k } y_k) - y_i]  $$\n",
        "$y$ es una distribución de probabilidad, por lo que $\\sum_k y_k = 1$, es decir:\n",
        "\n",
        "<br>\n",
        "$$\\frac{\\partial \\cal L}{\\partial \\theta_{i}} =\\frac{1}{N} [\\hat y_{i} - y_i]$$"
      ]
    },
    {
      "cell_type": "code",
      "metadata": {
        "id": "QhURlNqKel2I"
      },
      "source": [
        "# Para ir chequeando que al menos las dimensiones de los tensores son\n",
        "# consistentes usaremos las varibles *dummy* a continuación.\n",
        "B, C = 5, 10\n",
        "y = torch.ones(B,C)\n",
        "y_pred = torch.ones(B,C)"
      ],
      "execution_count": null,
      "outputs": []
    },
    {
      "cell_type": "code",
      "metadata": {
        "id": "P1z0WZ7XemdN"
      },
      "source": [
        "# Acá tu trozo de código.\n",
        "# Primero agregamos algunas variables dummy para chequear\n",
        "# que al menos las dimensiones están correctas\n",
        "dimL = 40\n",
        "hL = torch.ones(B,dimL)\n",
        "U = torch.ones(dimL,C)\n",
        "c = torch.ones(C)\n",
        "uLm1 = hL @ U + c\n",
        "\n",
        "result = CELoss(y, y_pred)\n",
        "\n",
        "# Ahora define aca tu fórmula para el gradiente\n",
        "dL_duLm1 = (1 / B) * (y_pred - y)\n",
        "\n",
        "# El gradiente debe coincidir en dimensiones con la variable\n",
        "assert dL_duLm1.size() == uLm1.size()"
      ],
      "execution_count": null,
      "outputs": []
    },
    {
      "cell_type": "markdown",
      "metadata": {
        "id": "Nzp5SWKBXDSy"
      },
      "source": [
        "## 2b) Derivando la última capa (continuación)"
      ]
    },
    {
      "cell_type": "markdown",
      "metadata": {
        "id": "n9cubvpeXDSz"
      },
      "source": [
        "<br>\n",
        "tenemos que: $u^{(L+1)}_{s,j} = h^{(L)}_{s,i}U_{i,j}+c_{j}$\n",
        "<br>\n",
        "Por lo que,\n",
        "\\begin{equation}\n",
        "\\frac{\\partial\\cal L}{\\partial U_{i,j}} = \\frac{\\partial\\cal L}{\\partial u^{L+1}_{s,j}} \\frac{\\partial u^{L+1}_{s,j}}{\\partial U_{i,j}} \\\\\n",
        "\\end{equation}\n",
        "<br>\n",
        "\n",
        "donde $\\frac{\\partial u^{L+1}_{s,j}}{\\partial U_{i,j}} = h^{(L)}_{s,i}$ y $ \\frac{\\partial\\cal L}{\\partial u^{L+1}_{s,j}} $ la conocemos del paso anterior\n",
        "\n",
        "Quedando: $\\frac{\\partial\\cal L}{\\partial U_{i,j}} = (h^{(L)}_{s,i})^T \\ @ \\ \\frac{\\partial\\cal L}{\\partial u^{L+1}_{s,j}}$\n",
        "\n",
        "de igual manera:\n",
        "\\begin{equation}\n",
        "\\frac{\\partial\\cal L}{\\partial c_j} = \\frac{\\partial\\cal L}{\\partial u^{L+1}_{s,j}} \\frac{\\partial u^{L+1}_{s,j}}{\\partial c_j}\\\\\n",
        "\\end{equation}\n",
        "<br>\n",
        "\n",
        "donde $\\frac{\\partial u^{L+1}_{s,j}}{\\partial c_j} = 1_j $\n",
        "\n",
        "Quedando: $\\frac{\\partial\\cal L}{\\partial c_{j}} = \\frac{\\partial\\cal L}{\\partial u^{L+1}_{s,j}} * 1_j = sum(\\frac{\\partial\\cal L}{\\partial u^{L+1}_{s,j}})$\n",
        "\n",
        "\\begin{equation}\n",
        "\\frac{\\partial\\cal L}{\\partial h_{i,j}^{L}} = \\frac{\\partial\\cal L}{\\partial u^{L+1}_{s,j}} \\frac{\\partial u^{L+1}_{s,j}}{\\partial h_{i,j}^{L}} \\\\\n",
        "\\end{equation}\n",
        "<br>\n",
        "\n",
        "\n",
        "donde $\\frac{\\partial u^{L+1}_{s,j}}{\\partial h_{i,j}^{L}} = U_{i,j}$\n",
        "\n",
        "Quedando: $\\frac{\\partial\\cal L}{\\partial c_{j}} = \\frac{\\partial\\cal L}{\\partial u^{L+1}_{s,j}} * U_{i,j} = \\frac{\\partial\\cal L}{\\partial u^{L+1}_{s,j}}\\ @ \\ (U_{i,j})^T $\n",
        "\n"
      ]
    },
    {
      "cell_type": "markdown",
      "metadata": {
        "id": "1WNYoTIHXDS0"
      },
      "source": [
        "## 2c) Derivando desde las capas escondidas"
      ]
    },
    {
      "cell_type": "markdown",
      "metadata": {
        "id": "vz7TChQ8XDS0"
      },
      "source": [
        "Escribe tus respuestas acá. Repite los siguientes cálculos para $\\text{relu}, \\text{celu}, \\text{swish}$\n",
        "<br>\n",
        "\n",
        "\\begin{equation}\n",
        "\\frac{\\partial\\cal L}{\\partial u^{(k)}} = \\frac{\\partial\\cal L}{\\partial h^{(k)}} \\frac{\\partial h^{(k)}}{\\partial u^{(k)}} \\\\\n",
        "\\end{equation}\n",
        "<br>\n",
        "\n",
        "Con $h^{(k)} = f(h^{(k-1)}W^{(k)}+b^{(k)}) = f(u^{(k)})$, y $\\frac{\\partial\\cal L}{\\partial h^{(k)}}$ conocido del paso anterior.\n",
        "\n",
        "Para $h^{(k)}= \\text{relu}$,\n",
        "$$\n",
        "\\frac{\\partial\\ h^{(k)}(u^{(k)})}{\\partial u^{(k)}} =  \n",
        " \\left\\{\n",
        "\\begin{array}{ll}\n",
        "      0 & u^{(k)} < 0 \\\\\n",
        "      1 & u^{(k)} >0 \\\\\n",
        "\\end{array}\n",
        "\\right.$$\n",
        "\n",
        "Para $h^{(k)}= \\text{celu}$,\n",
        "$$\n",
        "\\frac{\\partial\\ h^{(k)}(u^{(k)}, \\alpha)}{\\partial  u^{(k)}} =  \n",
        " \\left\\{\n",
        "\\begin{array}{ll}\n",
        "      1 &  u^{(k)} \\geq 0 \\\\\n",
        "      exp(\\frac{ u^{(k)}}{a}) &  u^{(k)}<0 \\\\\n",
        "\\end{array}\n",
        "\\right.$$\n",
        "<br>\n",
        "\n",
        "Para $h^{(k)}= \\text{swish}$,\n",
        "$$\\frac{\\partial\\ h^{(k)}(u^{(k)}, \\beta)}{\\partial  u^{(k)}} = \\beta *swish(\\beta * u^{(k)}) + sigmoid(\\beta * u^{(k)}) (1 − \\beta * swish(u^{(k)})) $$\n",
        "\n",
        "<br>\n",
        "Nuevamente,\n",
        "\n",
        "\\begin{equation}\n",
        "\\frac{\\partial\\cal L}{\\partial W^{(k)}} = \\frac{\\partial\\cal L}{\\partial u^{(k)}} \\frac{\\partial u^{(k)}}{\\partial  W^{(k)}} \\\\\n",
        "\\end{equation}\n",
        "<br>\n",
        "\n",
        "Con $u^{(k)} = h^{(k-1)}W^{(k)}+b^{(k)}$, y $\\frac{\\partial\\cal L}{\\partial u^{(k)}}$ conocido del paso anterior.\n",
        "\n",
        "Entonces, \\\\\n",
        "\n",
        "$$ \\frac{\\partial u^{(k)}}{\\partial W^{(k)}} = h^{(k-1)}$$\n",
        "\n",
        "<br>\n",
        "\n",
        "Nuevamente,\n",
        "\n",
        "\\begin{equation}\n",
        "\\frac{\\partial\\cal L}{\\partial b^{(k)}} = \\frac{\\partial\\cal L}{\\partial u^{(k)}} \\frac{\\partial u^{(k)}}{\\partial  b^{(k)}} \\\\\n",
        "\\end{equation}\n",
        "<br>\n",
        "\n",
        "Con $u^{(k)} = h^{(k-1)}W^{(k)}+b^{(k)}$, y $\\frac{\\partial\\cal L}{\\partial u^{(k)}}$ conocido del paso anterior.\n",
        "\n",
        "Entonces, \\\\\n",
        "\n",
        "$$ \\frac{\\partial u^{(k)}}{\\partial b^{(k)}} = 1_j$$\n",
        "\n",
        "<br>\n",
        "\n",
        "Nuevamente,\n",
        "\n",
        "\\begin{equation}\n",
        "\\frac{\\partial\\cal L}{\\partial h^{(k-1)}} = \\frac{\\partial\\cal L}{\\partial u^{(k)}} \\frac{\\partial u^{(k)}}{\\partial  h^{(k-1)}} \\\\\n",
        "\\end{equation}\n",
        "<br>\n",
        "\n",
        "Con $u^{(k)} = h^{(k-1)}W^{(k)}+b^{(k)}$, y $\\frac{\\partial\\cal L}{\\partial u^{(k)}}$ conocido del paso anterior.\n",
        "\n",
        "Entonces, \\\\\n",
        "\n",
        "$$ \\frac{\\partial u^{(k)}}{\\partial h^{(k-1)}} = W^{(k)}$$"
      ]
    },
    {
      "cell_type": "code",
      "metadata": {
        "id": "AuH1jtxPZKPH"
      },
      "source": [
        "# Acá puedes probar tus cálculos usando código.\n",
        "# Primero agregamos algunas variables dummy para chequear\n",
        "# que al menos las dimensiones están correctas.\n",
        "dimk = 20\n",
        "dimkm1 = 30\n",
        "hk = torch.ones(B,dimk)\n",
        "Wk = torch.ones(dimk,dimkm1)\n",
        "bk = torch.ones(dimkm1)\n",
        "uk = hk @ Wk + bk\n",
        "dL_dhkm1 = torch.ones(B,dimkm1)\n",
        "\n",
        "# Ahora tu fórmula para el gradiente.\n",
        "# Esto puedes repetirlo con tus expresiones para relu, celu, y swish.\n",
        "\n",
        "#relu\n",
        "dL_duk = dL_dhkm1 * torch.as_tensor(uk > 0, dtype=torch.int32)  #\n",
        "dL_dWk = hk.t() @ dL_duk\n",
        "dL_dbk = torch.sum(dL_duk, 0)\n",
        "dL_dhk = dL_duk @ Wk.t()\n",
        "\n",
        "# El gradiente debe coincidir en dimensiones con las variables.\n",
        "assert dL_dWk.size() == Wk.size()\n",
        "assert dL_dbk.size() == bk.size()\n",
        "assert dL_dhk.size() == hk.size()\n",
        "\n",
        "#celu\n",
        "#torch.as_tensor(uk < 0, dtype=torch.int32)*uk devuelve 0 si es mayor a 0 y uk si es menor a 0\n",
        "dL_duk = dL_dhkm1 * (torch.exp(torch.as_tensor(uk < 0, dtype=torch.int32)*uk/0.5))  #en este caso alpha = 0.5\n",
        "dL_dWk = hk.t() @ dL_duk\n",
        "dL_dbk = torch.sum(dL_duk, 0)\n",
        "dL_dhk = dL_duk @ Wk.t()\n",
        "\n",
        "# El gradiente debe coincidir en dimensiones con las variables.\n",
        "assert dL_dWk.size() == Wk.size()\n",
        "assert dL_dbk.size() == bk.size()\n",
        "assert dL_dhk.size() == hk.size()\n",
        "\n",
        "#swish\n",
        "dL_duk = dL_dhkm1 * (uk * 0.5 * sig(0.5 * uk) * (1 - sig(0.5 * uk)))  #beta = 0.5\n",
        "dL_dWk = hk.t() @ dL_duk\n",
        "dL_dbk = torch.sum(dL_duk, 0)\n",
        "dL_dhk = dL_duk @ Wk.t()\n",
        "\n",
        "# El gradiente debe coincidir en dimensiones con las variables.\n",
        "assert dL_dWk.size() == Wk.size()\n",
        "assert dL_dbk.size() == bk.size()\n",
        "assert dL_dhk.size() == hk.size()"
      ],
      "execution_count": null,
      "outputs": []
    },
    {
      "cell_type": "markdown",
      "metadata": {
        "id": "0n29s-6zXDS1"
      },
      "source": [
        "# Parte 3: Backpropagation en nuestra red"
      ]
    },
    {
      "cell_type": "markdown",
      "metadata": {
        "id": "do04-nhfXDS2"
      },
      "source": [
        "## 3a) Método `backward` + parte 3b) Opcional"
      ]
    },
    {
      "cell_type": "code",
      "metadata": {
        "id": "ytN2y-FMXDS3"
      },
      "source": [
        "# Acá solo deberías programar la función backward.\n",
        "# El resto del código viene de la Tarea 1 (a menos que hayas programado\n",
        "# la parte opcional en cuyo caso también deberías cambiar el inicializador).\n",
        "# Puedes incluir todo el código de la Tarea 1 que quieras.\n",
        "class FFNN(torch.nn.Module):\n",
        "  # código desde la Tarea 1\n",
        "  def __init__(self, F, l_h, l_a, C):\n",
        "    super(FFNN, self).__init__()\n",
        "    # Crea los tensores como parámetros\n",
        "    self.W_h1 = torch.nn.Parameter(torch.randn(F, l_h[0]), requires_grad=True)\n",
        "    self.b1 = torch.nn.Parameter(torch.zeros(l_h[0]), requires_grad=True)\n",
        "    self.W_h2 = torch.nn.Parameter(torch.randn(l_h[0], l_h[1]), requires_grad=True)\n",
        "    self.b2 = torch.nn.Parameter(torch.zeros(l_h[1]), requires_grad=True)\n",
        "    self.U = torch.nn.Parameter(torch.randn(l_h[1], C), requires_grad=True)\n",
        "    self.c = torch.nn.Parameter(torch.zeros(C), requires_grad=True)\n",
        "    self.acv1 = l_a[0]\n",
        "    self.acv2 = l_a[1]\n",
        "\n",
        "    #self.params = torch.nn.ParameterList([self.W_h1, self.b1, self.W_h2, self.b2, self.U, self.c])\n",
        "\n",
        "  # código desde la Tarea 1\n",
        "  def load_weights(self, Ws, U, bs, c):\n",
        "    self.W_h1 = torch.nn.Parameter(Ws[0], requires_grad=True)\n",
        "    self.b1 = torch.nn.Parameter(bs[0], requires_grad=True)\n",
        "    self.W_h2 = torch.nn.Parameter(Ws[1], requires_grad=True)\n",
        "    self.b2 = torch.nn.Parameter(bs[1], requires_grad=True)\n",
        "    self.U = torch.nn.Parameter(U, requires_grad=True)\n",
        "    self.c = torch.nn.Parameter(c, requires_grad=True)\n",
        "    #self.params = torch.nn.ParameterList([W_h1, b1, W_h2, b2, U, c])\n",
        "\n",
        "  def resumen(self):\n",
        "    # usa self.parameters() o self.named_parameters()\n",
        "    self.params = self.parameters()\n",
        "\n",
        "  def forward(self, x):\n",
        "    # Usa los parámetros y funciones de activación.\n",
        "    # El valor de retorno debiera ser y = softmax(capa_de_salida).\n",
        "    u1 = x @ self.W_h1 + self.b1\n",
        "    h1 = self.acv1(u1)\n",
        "    u2 = h1 @ self.W_h2 + self.b2\n",
        "    h2 = self.acv2(u2)\n",
        "    u3 = h2 @ self.U + self.c\n",
        "    y_pred = softmax(u3, dim=1)\n",
        "\n",
        "    self._cache = [u1, u2] # podemos usar un mejor cache?\n",
        "    return y_pred\n",
        "\n",
        "  # nuevo código Tarea 2\n",
        "  def backward(self, x, y, y_pred):\n",
        "    # Computar acá todos los gradientes con respecto a L\n",
        "    # Hint: Los gradientes deben quedar almacenados en\n",
        "    #       el atributo `grad` para cada parámetro.\n",
        "    #       Más info sobre este atributo en\n",
        "    #       https://pytorch.org/docs/stable/autograd.html#torch.Tensor.grad\n",
        "\n",
        "\n",
        "    # recuperamos el \"cache\"\n",
        "    u1, u2 = self._cache # podemos usar un mejor cache?\n",
        "\n",
        "    b = x.size()[0]\n",
        "\n",
        "\n",
        "\n",
        "\n",
        "    # Estas son derivadas calculadas a mano\n",
        "    dL_du3 = (1/b) * (y_pred - y)\n",
        "    dL_dU  = torch.nn.functional.softmax(u2, dim=1).t() @ dL_du3\n",
        "    dL_dc  = torch.sum(dL_du3, 0)\n",
        "    dL_dh2 = dL_du3 @ self.U.t()\n",
        "\n",
        "    if(self.acv2 == relu):\n",
        "      dL_du2 = dL_dh2 * torch.as_tensor(u2 > 0, dtype=torch.int32)\n",
        "\n",
        "    elif(self.acv2 == celu):\n",
        "      dL_du2 = dL_dh2 * (torch.exp(torch.as_tensor(u2 < 0, dtype=torch.int32)*u2/0.5))\n",
        "\n",
        "    elif(self.acv2 == swish):\n",
        "      dL_du2 = dL_dh2 * (u2 * 0.5 * sig(0.5 * u2) * (1 - sig(0.5 * u2)))  #beta = 0.5\n",
        "\n",
        "    elif(self.acv2 == sig):\n",
        "      dL_du2 = dL_dh2 * sig(u2) * (1 - sig(u2))\n",
        "\n",
        "    dL_dW2 = self.acv2(u1).t() @ dL_du2\n",
        "    dL_db2 = torch.sum(dL_du2, 0)\n",
        "    dL_dh1 = dL_du2 @ self.W_h2.t()\n",
        "\n",
        "    #dL_du1 = dL_dh1 * (1 - tanh(u1) * tanh(u1))\n",
        "    if(self.acv1 == relu):\n",
        "      dL_du1 = dL_dh1 * torch.as_tensor(u1 > 0, dtype=torch.int32)\n",
        "\n",
        "    elif(self.acv1 == celu):\n",
        "      dL_du1 = dL_dh1 * (torch.exp(torch.as_tensor(u1 < 0, dtype=torch.int32)*u1/0.5))\n",
        "\n",
        "    elif(self.acv1 == swish):\n",
        "      dL_du1 = dL_dh1 * (u1 * 0.5 * sig(0.5 * u1) * (1 - sig(0.5 * u1)))  #beta = 0.5\n",
        "\n",
        "    elif(self.acv1 == sig):\n",
        "      dL_du1 = dL_dh1 * sig(u1) * (1 - sig(u1))\n",
        "\n",
        "    dL_dW1 = x.t() @ dL_du1\n",
        "    dL_db1 = torch.sum(dL_du1,0)\n",
        "\n",
        "    # Registra los valores de gradientes en cada tensor (que nos interesa)\n",
        "    grads = [dL_dW1, dL_db1, dL_dW2, dL_db2, dL_dU, dL_dc]\n",
        "    params = [self.W_h1, self.b1, self.W_h2, self.b2, self.U, self.c]\n",
        "    for p, g in zip(params, grads):\n",
        "      p.grad = g\n",
        ""
      ],
      "execution_count": null,
      "outputs": []
    },
    {
      "cell_type": "code",
      "metadata": {
        "id": "1S3suoQ2tZfX",
        "colab": {
          "base_uri": "https://localhost:8080/"
        },
        "outputId": "cc16d352-3da7-434c-b283-a9f4db309c18"
      },
      "source": [
        "# Tests del API del curso\n",
        "# (estos Tests NO sustituyen al anterior en la verificación de los gradientes)\n",
        "for test in ['mnist-model']:\n",
        "  # Obtenemos los parámetos de la red desde el API\n",
        "  F, l_h, l_a, C, Ws, U, bs, c, X, y = corrector.get_test_data(homework=2, question=\"3a\", test=test, token=token)\n",
        "  l_a = [f for s in l_a for f in [sig, tanh, relu, celu] if f.__name__ == s]\n",
        "\n",
        "  # Inicializamos modelo con parámetros del API\n",
        "  your_model = FFNN(F=F, l_h=l_h, l_a=l_a, C=C)\n",
        "  your_model.load_weights([torch.Tensor(l) for l in Ws], torch.Tensor(U), [torch.Tensor(l) for l in bs], torch.Tensor(c))\n",
        "\n",
        "\n",
        "  # Obtenemos el índice del parámetro Ws[1] en la lista de parámetros de tu modelo\n",
        "  idx = next(i for i, p in enumerate(your_model.parameters()) if p.size() == torch.Tensor(Ws[1]).size() and torch.all(torch.Tensor(Ws[1])==p))\n",
        "\n",
        "  # Ejecutemos el forward de para input del API\n",
        "  y_pred = your_model(torch.Tensor(X))\n",
        "\n",
        "  # Ejecutemos el backward de tu modelo para ver como se comporta\n",
        "  s = timer()\n",
        "  your_model.backward(torch.Tensor(X), torch.Tensor(y), y_pred)\n",
        "  t = timer() - s\n",
        "\n",
        "  # Veamos todo fue OK :)\n",
        "  # Si el Test te falla algunas veces por [time], puedes hacer time=0 ;-)\n",
        "  corrector.submit(homework=2, question=\"3a\", test=test, token=token,\n",
        "                   answer=list(your_model.parameters())[idx].grad.mean(), time=t)"
      ],
      "execution_count": null,
      "outputs": [
        {
          "output_type": "stream",
          "name": "stdout",
          "text": [
            "Correct Test!\n"
          ]
        }
      ]
    },
    {
      "cell_type": "markdown",
      "metadata": {
        "id": "s6_7qOkAlcTX"
      },
      "source": [
        "## 3c) Opcional: Chequeo de gradiente"
      ]
    },
    {
      "cell_type": "code",
      "metadata": {
        "id": "AjfsSKLIlgKj"
      },
      "source": [
        "# No es necesario que entregues código en esta parte dado\n",
        "# que solo es necesario para debuggear que tu implementación está correcta.\n",
        "# Pero si quieres, igual hay espacio ;-)"
      ],
      "execution_count": null,
      "outputs": []
    },
    {
      "cell_type": "markdown",
      "metadata": {
        "id": "SDSYiQQ6nkjX"
      },
      "source": [
        "# Parte 4: Descenso de gradiente y optimización"
      ]
    },
    {
      "cell_type": "markdown",
      "metadata": {
        "id": "yqBwusuXnsjO"
      },
      "source": [
        "## 4a) Descenso de gradiente (estocástico)"
      ]
    },
    {
      "cell_type": "code",
      "metadata": {
        "id": "tId-cHk7ntDW"
      },
      "source": [
        "class SGD():\n",
        "  def __init__(self, parameters, lr):\n",
        "    self.parameters = parameters\n",
        "    self.lr = lr\n",
        "\n",
        "  def step(self):\n",
        "    # actualiza acá los parámetros a partir del gradiente de cada uno\n",
        "    for p in self.parameters:\n",
        "        p.data -= self.lr * p.grad"
      ],
      "execution_count": null,
      "outputs": []
    },
    {
      "cell_type": "code",
      "metadata": {
        "id": "yN9Bh70SJGgI",
        "colab": {
          "base_uri": "https://localhost:8080/"
        },
        "outputId": "02e820b8-ec9b-40da-841e-c7d222f68b70"
      },
      "source": [
        "# Tests del API del curso\n",
        "from torch.nn import Parameter\n",
        "for test in ['small-step', 'big-step', 'random']:\n",
        "  # Obtengamos una lista de parámetros (con gradientes en .grad) y un valor lr\n",
        "  ds, gs, lr, idx = corrector.get_test_data(homework=2, question=\"4a\", test=test, token=token)\n",
        "  parameters = [Parameter(torch.Tensor(d)) for d in ds]\n",
        "  for p, g in zip(parameters, gs):\n",
        "    p.grad = torch.Tensor(g)\n",
        "\n",
        "  # Inicialicemos tu SGD\n",
        "  optimizer = SGD(parameters, lr)\n",
        "\n",
        "  # Ejecutemos un paso de tu SGD para ver como se comporta\n",
        "  s = timer()\n",
        "  optimizer.step()\n",
        "  t = timer() - s\n",
        "\n",
        "  # Veamos si todo fue OK :)\n",
        "  # Si el Test te falla algunas veces por [time], puedes hacer time=0 ;-)\n",
        "  corrector.sumbit(homework=2, question=\"4a\", test=test, token=token,\n",
        "                   answer=parameters[idx].data, time=0)"
      ],
      "execution_count": null,
      "outputs": [
        {
          "output_type": "stream",
          "name": "stderr",
          "text": [
            "/usr/local/lib/python3.7/dist-packages/ipykernel_launcher.py:21: FutureWarning: Old method `sumbit` has been renamed to `submit`, please use that instead.\n"
          ]
        },
        {
          "output_type": "stream",
          "name": "stdout",
          "text": [
            "Correct Test!\n",
            "Correct Test!\n",
            "Correct Test!\n"
          ]
        }
      ]
    },
    {
      "cell_type": "markdown",
      "metadata": {
        "id": "wy0KFSX4nzP0"
      },
      "source": [
        "## 4b) Datos para carga"
      ]
    },
    {
      "cell_type": "code",
      "metadata": {
        "id": "bByG7kXlnwAQ"
      },
      "source": [
        "from torch.utils.data import Dataset, DataLoader\n",
        "\n",
        "# Aquí tu código.\n",
        "# Tu clase debiera verse así\n",
        "class RandomDataset(Dataset):\n",
        "  def __init__(self, N, F, C):\n",
        "    R_N_f = torch.rand(N,F)\n",
        "    self.X = torch.bernoulli(R_N_f)\n",
        "    self.Y = torch.zeros((N,C))\n",
        "    idxs = torch.tensor(list([[i,j] for i,j in enumerate(torch.randint(C, (N, 1)))]))\n",
        "    self.Y[idxs[:,0],idxs[:,1]] = 1\n",
        "\n",
        "    self.num_features = F\n",
        "    self.num_classes = C\n",
        "\n",
        "  def __len__(self):\n",
        "    return self.X.size()[0]\n",
        "\n",
        "  def __getitem__(self, i):\n",
        "    return self.X[i], self.Y[i]"
      ],
      "execution_count": null,
      "outputs": []
    },
    {
      "cell_type": "code",
      "metadata": {
        "id": "x49Wy06IsJDU",
        "colab": {
          "base_uri": "https://localhost:8080/"
        },
        "outputId": "fd2b3d79-b68d-4a65-e6c1-6cb394d15ba2"
      },
      "source": [
        "# Inicialicemos un RandomDataset de prueba\n",
        "N,F,C=100,300,10\n",
        "your_dataset = RandomDataset(N,F,C)\n",
        "\n",
        "# Veamos como se comportan __len__ y __getitem__\n",
        "print(\"Correct Test!\" if len(your_dataset) == N else \"Failed Test [len]\")\n",
        "print(\"Correct Test!\" if type(your_dataset[N//2]) == tuple and len(your_dataset[N//3]) == 2 else \"Failed Test [getitem]\")"
      ],
      "execution_count": null,
      "outputs": [
        {
          "output_type": "stream",
          "name": "stdout",
          "text": [
            "Correct Test!\n",
            "Correct Test!\n"
          ]
        }
      ]
    },
    {
      "cell_type": "markdown",
      "metadata": {
        "id": "2-q8vJOMn3AA"
      },
      "source": [
        "## 4c) Optimizando los parámetros de la red para datos al azar"
      ]
    },
    {
      "cell_type": "code",
      "metadata": {
        "id": "Ap0AKJijn5DY"
      },
      "source": [
        "# Tu código acá\n",
        "def entrenar_FFNN(red, dataset, optimizador, epochs=1, batch_size=1, device='cuda'):\n",
        "  red.to(device)\n",
        "\n",
        "  # Inicialicemos un DataLoader para los ejemplos de dataset\n",
        "  data = DataLoader(dataset, batch_size, shuffle=True)\n",
        "\n",
        "  # Comienza el entrenamiento\n",
        "  loss, acc = [], []\n",
        "  for e in range(1,epochs+1):\n",
        "    for x, y in data:\n",
        "      x, y = x.to(device), y.to(device)\n",
        "      y_pred = red.forward(x)\n",
        "\n",
        "      l = CELoss(y_pred, y)\n",
        "\n",
        "      red.backward(x, y, y_pred)\n",
        "\n",
        "      optimizador.step()\n",
        "\n",
        "    #Calculo de acc en cada epoca\n",
        "    sum = 0\n",
        "    tot = 0\n",
        "    for x, y in data:\n",
        "      pred = red.forward(x)\n",
        "      _, pred = torch.max(pred,1)\n",
        "      _, y = torch.max(y,1)\n",
        "      sum += torch.sum(torch.eq(pred, y))\n",
        "      tot += len(y)\n",
        "    acc.append(sum / tot)\n",
        "    loss.append(l)\n",
        "\n",
        "\n",
        "  return loss, acc"
      ],
      "execution_count": null,
      "outputs": []
    },
    {
      "cell_type": "code",
      "metadata": {
        "id": "M0VbGtY5aWLk"
      },
      "source": [
        "F, C = 300, 10\n",
        "dataset = RandomDataset(N, F, C)\n",
        "red = FFNN(F, [50,30], [relu,sig], C)\n",
        "optimizador = SGD(red.parameters(), 0.001)\n",
        "with torch.no_grad():\n",
        "  loss, acc = entrenar_FFNN(red, dataset, optimizador, epochs=20, batch_size=8, device='cpu')"
      ],
      "execution_count": null,
      "outputs": []
    },
    {
      "cell_type": "markdown",
      "metadata": {
        "id": "NDnYdhV0n_X-"
      },
      "source": [
        "## 4d) Graficando la pérdida/error en el tiempo"
      ]
    },
    {
      "cell_type": "code",
      "metadata": {
        "id": "oufOfvyIRvAT"
      },
      "source": [
        "import matplotlib.pyplot as plt\n",
        "\n",
        "def plot_results(loss, acc):\n",
        "  # Muestra dos figuras:\n",
        "  #  (1) gráfico para la lista `loss` (Loss) y\n",
        "  #  (2) gráfico para la lista `acc` (Accuracy)\n",
        "\n",
        "  f1 = plt.figure(1)\n",
        "  ax1 = f1.add_subplot(111)\n",
        "  ax1.set_title(\"Loss\")\n",
        "  ax1.set_xlabel('epochs')\n",
        "  ax1.set_ylabel('loss')\n",
        "  ax1.plot(loss, c='r')\n",
        "  f1.show()\n",
        "\n",
        "  f2 = plt.figure(2)\n",
        "  ax2 = f2.add_subplot(111)\n",
        "  ax2.set_title(\"Accuracy\")\n",
        "  ax2.set_xlabel('epochs')\n",
        "  ax2.set_ylabel('acc')\n",
        "  ax2.plot(acc, c='b')\n",
        "  f2.show()"
      ],
      "execution_count": null,
      "outputs": []
    },
    {
      "cell_type": "code",
      "metadata": {
        "id": "Cf_2mJWvJUJv"
      },
      "source": [
        "#Dataset\n",
        "F, C = 300, 10\n",
        "dataset = RandomDataset(N, F, C)"
      ],
      "execution_count": null,
      "outputs": []
    },
    {
      "cell_type": "code",
      "metadata": {
        "colab": {
          "base_uri": "https://localhost:8080/",
          "height": 573
        },
        "id": "wrKIS2SmIFxp",
        "outputId": "4b062aea-30e8-46fc-b818-19a282daa570"
      },
      "source": [
        "red = FFNN(F, [50,30], [relu,sig], C)\n",
        "optimizador = SGD(red.parameters(), 0.001)\n",
        "with torch.no_grad():\n",
        "  loss, acc = entrenar_FFNN(red, dataset, optimizador, epochs=20, batch_size=8, device='cpu')\n",
        "plot_results(loss,acc)"
      ],
      "execution_count": null,
      "outputs": [
        {
          "output_type": "display_data",
          "data": {
            "image/png": "[encoded data removed]",
            "text/plain": [
              "<Figure size 432x288 with 1 Axes>"
            ]
          },
          "metadata": {
            "needs_background": "light"
          }
        },
        {
          "output_type": "display_data",
          "data": {
            "image/png": "[encoded data removed]",
            "text/plain": [
              "<Figure size 432x288 with 1 Axes>"
            ]
          },
          "metadata": {
            "needs_background": "light"
          }
        }
      ]
    },
    {
      "cell_type": "code",
      "metadata": {
        "colab": {
          "base_uri": "https://localhost:8080/",
          "height": 573
        },
        "id": "8pRggGrQIQws",
        "outputId": "ee0c5799-e8ec-437e-b0e3-03605591d1d9"
      },
      "source": [
        "red = FFNN(F, [100,30], [relu,sig], C)\n",
        "optimizador = SGD(red.parameters(), 0.001)\n",
        "with torch.no_grad():\n",
        "  loss, acc = entrenar_FFNN(red, dataset, optimizador, epochs=20, batch_size=8, device='cpu')\n",
        "plot_results(loss,acc)"
      ],
      "execution_count": null,
      "outputs": [
        {
          "output_type": "display_data",
          "data": {
            "image/png": "[encoded data removed]",
            "text/plain": [
              "<Figure size 432x288 with 1 Axes>"
            ]
          },
          "metadata": {
            "needs_background": "light"
          }
        },
        {
          "output_type": "display_data",
          "data": {
            "image/png": "[encoded data removed]",
            "text/plain": [
              "<Figure size 432x288 with 1 Axes>"
            ]
          },
          "metadata": {
            "needs_background": "light"
          }
        }
      ]
    },
    {
      "cell_type": "code",
      "metadata": {
        "colab": {
          "base_uri": "https://localhost:8080/",
          "height": 573
        },
        "id": "dd7UnvU9IZw7",
        "outputId": "d2019677-4196-42ff-f17e-4aec1041b089"
      },
      "source": [
        "red = FFNN(F, [100,80], [relu,sig], C)\n",
        "optimizador = SGD(red.parameters(), 0.0001)\n",
        "with torch.no_grad():\n",
        "  loss, acc = entrenar_FFNN(red, dataset, optimizador, epochs=200, batch_size=20, device='cpu')\n",
        "plot_results(loss,acc)"
      ],
      "execution_count": null,
      "outputs": [
        {
          "output_type": "display_data",
          "data": {
            "image/png": "[encoded data removed]",
            "text/plain": [
              "<Figure size 432x288 with 1 Axes>"
            ]
          },
          "metadata": {
            "needs_background": "light"
          }
        },
        {
          "output_type": "display_data",
          "data": {
            "image/png": "[encoded data removed]",
            "text/plain": [
              "<Figure size 432x288 with 1 Axes>"
            ]
          },
          "metadata": {
            "needs_background": "light"
          }
        }
      ]
    },
    {
      "cell_type": "markdown",
      "metadata": {
        "id": "s_VYXjH9Ju_M"
      },
      "source": [
        "Dado que el dataset está generado aleatoriamente con 10 clases, dada la ley de los grandes números tiene sentido que la red tenga un resultado de 1/10 = 0.1 de acc aproximadamente. Esto es bastante invariante a la red en si, ya que esta no puede aprender los factores aleatorios del dataset."
      ]
    },
    {
      "cell_type": "markdown",
      "metadata": {
        "id": "ICCODVV9oF9d"
      },
      "source": [
        "## 4e) Opcional: Optimizando tu red para MNIST"
      ]
    },
    {
      "cell_type": "code",
      "metadata": {
        "id": "-cRIuWQroDW9"
      },
      "source": [
        "# Tu código de carga de datos, creación de la red,\n",
        "# entrenamiento/optimización y reportes acá"
      ],
      "execution_count": null,
      "outputs": []
    }
  ]
}