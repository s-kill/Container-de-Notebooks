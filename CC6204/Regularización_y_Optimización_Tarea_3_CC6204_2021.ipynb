{
  "nbformat": 4,
  "nbformat_minor": 0,
  "metadata": {
    "kernelspec": {
      "display_name": "Python 3",
      "language": "python",
      "name": "python3"
    },
    "language_info": {
      "codemirror_mode": {
        "name": "ipython",
        "version": 3
      },
      "file_extension": ".py",
      "mimetype": "text/x-python",
      "name": "python",
      "nbconvert_exporter": "python",
      "pygments_lexer": "ipython3",
      "version": "3.6.8"
    },
    "colab": {
      "provenance": []
    },
    "accelerator": "GPU",
    "widgets": {
      "application/vnd.jupyter.widget-state+json": {
        "df91f358e08a4adcb452e3f620044106": {
          "model_module": "@jupyter-widgets/controls",
          "model_name": "HBoxModel",
          "model_module_version": "1.5.0",
          "state": {
            "_view_name": "HBoxView",
            "_dom_classes": [],
            "_model_name": "HBoxModel",
            "_view_module": "@jupyter-widgets/controls",
            "_model_module_version": "1.5.0",
            "_view_count": null,
            "_view_module_version": "1.5.0",
            "box_style": "",
            "layout": "IPY_MODEL_539345201e9647ceb195e0f4e9026f57",
            "_model_module": "@jupyter-widgets/controls",
            "children": [
              "IPY_MODEL_84e2262849584eca8e7dce0384b83c0e",
              "IPY_MODEL_c66b5b84c6284eb1a5ef26f6864c0315",
              "IPY_MODEL_30320518022c4b40a68464e79263eab9"
            ]
          }
        },
        "539345201e9647ceb195e0f4e9026f57": {
          "model_module": "@jupyter-widgets/base",
          "model_name": "LayoutModel",
          "model_module_version": "1.2.0",
          "state": {
            "_view_name": "LayoutView",
            "grid_template_rows": null,
            "right": null,
            "justify_content": null,
            "_view_module": "@jupyter-widgets/base",
            "overflow": null,
            "_model_module_version": "1.2.0",
            "_view_count": null,
            "flex_flow": null,
            "width": null,
            "min_width": null,
            "border": null,
            "align_items": null,
            "bottom": null,
            "_model_module": "@jupyter-widgets/base",
            "top": null,
            "grid_column": null,
            "overflow_y": null,
            "overflow_x": null,
            "grid_auto_flow": null,
            "grid_area": null,
            "grid_template_columns": null,
            "flex": null,
            "_model_name": "LayoutModel",
            "justify_items": null,
            "grid_row": null,
            "max_height": null,
            "align_content": null,
            "visibility": null,
            "align_self": null,
            "height": null,
            "min_height": null,
            "padding": null,
            "grid_auto_rows": null,
            "grid_gap": null,
            "max_width": null,
            "order": null,
            "_view_module_version": "1.2.0",
            "grid_template_areas": null,
            "object_position": null,
            "object_fit": null,
            "grid_auto_columns": null,
            "margin": null,
            "display": null,
            "left": null
          }
        },
        "84e2262849584eca8e7dce0384b83c0e": {
          "model_module": "@jupyter-widgets/controls",
          "model_name": "HTMLModel",
          "model_module_version": "1.5.0",
          "state": {
            "_view_name": "HTMLView",
            "style": "IPY_MODEL_184fbe19eb3f42c382e1a664d2877053",
            "_dom_classes": [],
            "description": "",
            "_model_name": "HTMLModel",
            "placeholder": "​",
            "_view_module": "@jupyter-widgets/controls",
            "_model_module_version": "1.5.0",
            "value": "",
            "_view_count": null,
            "_view_module_version": "1.5.0",
            "description_tooltip": null,
            "_model_module": "@jupyter-widgets/controls",
            "layout": "IPY_MODEL_a6faf043151e4c3181c6e4a25ed3286a"
          }
        },
        "c66b5b84c6284eb1a5ef26f6864c0315": {
          "model_module": "@jupyter-widgets/controls",
          "model_name": "FloatProgressModel",
          "model_module_version": "1.5.0",
          "state": {
            "_view_name": "ProgressView",
            "style": "IPY_MODEL_63b1918cd3a64a5fbb8e30a6e8b20983",
            "_dom_classes": [],
            "description": "",
            "_model_name": "FloatProgressModel",
            "bar_style": "success",
            "max": 9912422,
            "_view_module": "@jupyter-widgets/controls",
            "_model_module_version": "1.5.0",
            "value": 9912422,
            "_view_count": null,
            "_view_module_version": "1.5.0",
            "orientation": "horizontal",
            "min": 0,
            "description_tooltip": null,
            "_model_module": "@jupyter-widgets/controls",
            "layout": "IPY_MODEL_344b969a46e8435d9726fa210abd70d4"
          }
        },
        "30320518022c4b40a68464e79263eab9": {
          "model_module": "@jupyter-widgets/controls",
          "model_name": "HTMLModel",
          "model_module_version": "1.5.0",
          "state": {
            "_view_name": "HTMLView",
            "style": "IPY_MODEL_42b3a0e366ff4385b2f3d80f792a2b6e",
            "_dom_classes": [],
            "description": "",
            "_model_name": "HTMLModel",
            "placeholder": "​",
            "_view_module": "@jupyter-widgets/controls",
            "_model_module_version": "1.5.0",
            "value": " 9913344/? [00:00&lt;00:00, 17732417.03it/s]",
            "_view_count": null,
            "_view_module_version": "1.5.0",
            "description_tooltip": null,
            "_model_module": "@jupyter-widgets/controls",
            "layout": "IPY_MODEL_f07899ab0a374ed0be51e7cbc6b04ae9"
          }
        },
        "184fbe19eb3f42c382e1a664d2877053": {
          "model_module": "@jupyter-widgets/controls",
          "model_name": "DescriptionStyleModel",
          "model_module_version": "1.5.0",
          "state": {
            "_view_name": "StyleView",
            "_model_name": "DescriptionStyleModel",
            "description_width": "",
            "_view_module": "@jupyter-widgets/base",
            "_model_module_version": "1.5.0",
            "_view_count": null,
            "_view_module_version": "1.2.0",
            "_model_module": "@jupyter-widgets/controls"
          }
        },
        "a6faf043151e4c3181c6e4a25ed3286a": {
          "model_module": "@jupyter-widgets/base",
          "model_name": "LayoutModel",
          "model_module_version": "1.2.0",
          "state": {
            "_view_name": "LayoutView",
            "grid_template_rows": null,
            "right": null,
            "justify_content": null,
            "_view_module": "@jupyter-widgets/base",
            "overflow": null,
            "_model_module_version": "1.2.0",
            "_view_count": null,
            "flex_flow": null,
            "width": null,
            "min_width": null,
            "border": null,
            "align_items": null,
            "bottom": null,
            "_model_module": "@jupyter-widgets/base",
            "top": null,
            "grid_column": null,
            "overflow_y": null,
            "overflow_x": null,
            "grid_auto_flow": null,
            "grid_area": null,
            "grid_template_columns": null,
            "flex": null,
            "_model_name": "LayoutModel",
            "justify_items": null,
            "grid_row": null,
            "max_height": null,
            "align_content": null,
            "visibility": null,
            "align_self": null,
            "height": null,
            "min_height": null,
            "padding": null,
            "grid_auto_rows": null,
            "grid_gap": null,
            "max_width": null,
            "order": null,
            "_view_module_version": "1.2.0",
            "grid_template_areas": null,
            "object_position": null,
            "object_fit": null,
            "grid_auto_columns": null,
            "margin": null,
            "display": null,
            "left": null
          }
        },
        "63b1918cd3a64a5fbb8e30a6e8b20983": {
          "model_module": "@jupyter-widgets/controls",
          "model_name": "ProgressStyleModel",
          "model_module_version": "1.5.0",
          "state": {
            "_view_name": "StyleView",
            "_model_name": "ProgressStyleModel",
            "description_width": "",
            "_view_module": "@jupyter-widgets/base",
            "_model_module_version": "1.5.0",
            "_view_count": null,
            "_view_module_version": "1.2.0",
            "bar_color": null,
            "_model_module": "@jupyter-widgets/controls"
          }
        },
        "344b969a46e8435d9726fa210abd70d4": {
          "model_module": "@jupyter-widgets/base",
          "model_name": "LayoutModel",
          "model_module_version": "1.2.0",
          "state": {
            "_view_name": "LayoutView",
            "grid_template_rows": null,
            "right": null,
            "justify_content": null,
            "_view_module": "@jupyter-widgets/base",
            "overflow": null,
            "_model_module_version": "1.2.0",
            "_view_count": null,
            "flex_flow": null,
            "width": null,
            "min_width": null,
            "border": null,
            "align_items": null,
            "bottom": null,
            "_model_module": "@jupyter-widgets/base",
            "top": null,
            "grid_column": null,
            "overflow_y": null,
            "overflow_x": null,
            "grid_auto_flow": null,
            "grid_area": null,
            "grid_template_columns": null,
            "flex": null,
            "_model_name": "LayoutModel",
            "justify_items": null,
            "grid_row": null,
            "max_height": null,
            "align_content": null,
            "visibility": null,
            "align_self": null,
            "height": null,
            "min_height": null,
            "padding": null,
            "grid_auto_rows": null,
            "grid_gap": null,
            "max_width": null,
            "order": null,
            "_view_module_version": "1.2.0",
            "grid_template_areas": null,
            "object_position": null,
            "object_fit": null,
            "grid_auto_columns": null,
            "margin": null,
            "display": null,
            "left": null
          }
        },
        "42b3a0e366ff4385b2f3d80f792a2b6e": {
          "model_module": "@jupyter-widgets/controls",
          "model_name": "DescriptionStyleModel",
          "model_module_version": "1.5.0",
          "state": {
            "_view_name": "StyleView",
            "_model_name": "DescriptionStyleModel",
            "description_width": "",
            "_view_module": "@jupyter-widgets/base",
            "_model_module_version": "1.5.0",
            "_view_count": null,
            "_view_module_version": "1.2.0",
            "_model_module": "@jupyter-widgets/controls"
          }
        },
        "f07899ab0a374ed0be51e7cbc6b04ae9": {
          "model_module": "@jupyter-widgets/base",
          "model_name": "LayoutModel",
          "model_module_version": "1.2.0",
          "state": {
            "_view_name": "LayoutView",
            "grid_template_rows": null,
            "right": null,
            "justify_content": null,
            "_view_module": "@jupyter-widgets/base",
            "overflow": null,
            "_model_module_version": "1.2.0",
            "_view_count": null,
            "flex_flow": null,
            "width": null,
            "min_width": null,
            "border": null,
            "align_items": null,
            "bottom": null,
            "_model_module": "@jupyter-widgets/base",
            "top": null,
            "grid_column": null,
            "overflow_y": null,
            "overflow_x": null,
            "grid_auto_flow": null,
            "grid_area": null,
            "grid_template_columns": null,
            "flex": null,
            "_model_name": "LayoutModel",
            "justify_items": null,
            "grid_row": null,
            "max_height": null,
            "align_content": null,
            "visibility": null,
            "align_self": null,
            "height": null,
            "min_height": null,
            "padding": null,
            "grid_auto_rows": null,
            "grid_gap": null,
            "max_width": null,
            "order": null,
            "_view_module_version": "1.2.0",
            "grid_template_areas": null,
            "object_position": null,
            "object_fit": null,
            "grid_auto_columns": null,
            "margin": null,
            "display": null,
            "left": null
          }
        },
        "e01bf1d706344067a53ea71fd198d6d3": {
          "model_module": "@jupyter-widgets/controls",
          "model_name": "HBoxModel",
          "model_module_version": "1.5.0",
          "state": {
            "_view_name": "HBoxView",
            "_dom_classes": [],
            "_model_name": "HBoxModel",
            "_view_module": "@jupyter-widgets/controls",
            "_model_module_version": "1.5.0",
            "_view_count": null,
            "_view_module_version": "1.5.0",
            "box_style": "",
            "layout": "IPY_MODEL_22cc903492254e169710fbf6c092dfc2",
            "_model_module": "@jupyter-widgets/controls",
            "children": [
              "IPY_MODEL_95cd8c18e499401a899058c2be5aaf6b",
              "IPY_MODEL_522c91af5060484e9fd8f7de17eca049",
              "IPY_MODEL_62837ba84db648fd846f3756c6a9af95"
            ]
          }
        },
        "22cc903492254e169710fbf6c092dfc2": {
          "model_module": "@jupyter-widgets/base",
          "model_name": "LayoutModel",
          "model_module_version": "1.2.0",
          "state": {
            "_view_name": "LayoutView",
            "grid_template_rows": null,
            "right": null,
            "justify_content": null,
            "_view_module": "@jupyter-widgets/base",
            "overflow": null,
            "_model_module_version": "1.2.0",
            "_view_count": null,
            "flex_flow": null,
            "width": null,
            "min_width": null,
            "border": null,
            "align_items": null,
            "bottom": null,
            "_model_module": "@jupyter-widgets/base",
            "top": null,
            "grid_column": null,
            "overflow_y": null,
            "overflow_x": null,
            "grid_auto_flow": null,
            "grid_area": null,
            "grid_template_columns": null,
            "flex": null,
            "_model_name": "LayoutModel",
            "justify_items": null,
            "grid_row": null,
            "max_height": null,
            "align_content": null,
            "visibility": null,
            "align_self": null,
            "height": null,
            "min_height": null,
            "padding": null,
            "grid_auto_rows": null,
            "grid_gap": null,
            "max_width": null,
            "order": null,
            "_view_module_version": "1.2.0",
            "grid_template_areas": null,
            "object_position": null,
            "object_fit": null,
            "grid_auto_columns": null,
            "margin": null,
            "display": null,
            "left": null
          }
        },
        "95cd8c18e499401a899058c2be5aaf6b": {
          "model_module": "@jupyter-widgets/controls",
          "model_name": "HTMLModel",
          "model_module_version": "1.5.0",
          "state": {
            "_view_name": "HTMLView",
            "style": "IPY_MODEL_93d7fa0b365f46da8ea45ca8b6cfdb6a",
            "_dom_classes": [],
            "description": "",
            "_model_name": "HTMLModel",
            "placeholder": "​",
            "_view_module": "@jupyter-widgets/controls",
            "_model_module_version": "1.5.0",
            "value": "",
            "_view_count": null,
            "_view_module_version": "1.5.0",
            "description_tooltip": null,
            "_model_module": "@jupyter-widgets/controls",
            "layout": "IPY_MODEL_cc5f75680286497889e0a9782a1c845e"
          }
        },
        "522c91af5060484e9fd8f7de17eca049": {
          "model_module": "@jupyter-widgets/controls",
          "model_name": "FloatProgressModel",
          "model_module_version": "1.5.0",
          "state": {
            "_view_name": "ProgressView",
            "style": "IPY_MODEL_d629d40bde82453398e14ac155ea8701",
            "_dom_classes": [],
            "description": "",
            "_model_name": "FloatProgressModel",
            "bar_style": "success",
            "max": 28881,
            "_view_module": "@jupyter-widgets/controls",
            "_model_module_version": "1.5.0",
            "value": 28881,
            "_view_count": null,
            "_view_module_version": "1.5.0",
            "orientation": "horizontal",
            "min": 0,
            "description_tooltip": null,
            "_model_module": "@jupyter-widgets/controls",
            "layout": "IPY_MODEL_0ede80a78cb14d2cbbf960484482fb6b"
          }
        },
        "62837ba84db648fd846f3756c6a9af95": {
          "model_module": "@jupyter-widgets/controls",
          "model_name": "HTMLModel",
          "model_module_version": "1.5.0",
          "state": {
            "_view_name": "HTMLView",
            "style": "IPY_MODEL_672243339cf64e60a5fbdc7d6e5ee8d5",
            "_dom_classes": [],
            "description": "",
            "_model_name": "HTMLModel",
            "placeholder": "​",
            "_view_module": "@jupyter-widgets/controls",
            "_model_module_version": "1.5.0",
            "value": " 29696/? [00:00&lt;00:00, 652306.71it/s]",
            "_view_count": null,
            "_view_module_version": "1.5.0",
            "description_tooltip": null,
            "_model_module": "@jupyter-widgets/controls",
            "layout": "IPY_MODEL_b49b609d86624a8a9884d5c57dcde030"
          }
        },
        "93d7fa0b365f46da8ea45ca8b6cfdb6a": {
          "model_module": "@jupyter-widgets/controls",
          "model_name": "DescriptionStyleModel",
          "model_module_version": "1.5.0",
          "state": {
            "_view_name": "StyleView",
            "_model_name": "DescriptionStyleModel",
            "description_width": "",
            "_view_module": "@jupyter-widgets/base",
            "_model_module_version": "1.5.0",
            "_view_count": null,
            "_view_module_version": "1.2.0",
            "_model_module": "@jupyter-widgets/controls"
          }
        },
        "cc5f75680286497889e0a9782a1c845e": {
          "model_module": "@jupyter-widgets/base",
          "model_name": "LayoutModel",
          "model_module_version": "1.2.0",
          "state": {
            "_view_name": "LayoutView",
            "grid_template_rows": null,
            "right": null,
            "justify_content": null,
            "_view_module": "@jupyter-widgets/base",
            "overflow": null,
            "_model_module_version": "1.2.0",
            "_view_count": null,
            "flex_flow": null,
            "width": null,
            "min_width": null,
            "border": null,
            "align_items": null,
            "bottom": null,
            "_model_module": "@jupyter-widgets/base",
            "top": null,
            "grid_column": null,
            "overflow_y": null,
            "overflow_x": null,
            "grid_auto_flow": null,
            "grid_area": null,
            "grid_template_columns": null,
            "flex": null,
            "_model_name": "LayoutModel",
            "justify_items": null,
            "grid_row": null,
            "max_height": null,
            "align_content": null,
            "visibility": null,
            "align_self": null,
            "height": null,
            "min_height": null,
            "padding": null,
            "grid_auto_rows": null,
            "grid_gap": null,
            "max_width": null,
            "order": null,
            "_view_module_version": "1.2.0",
            "grid_template_areas": null,
            "object_position": null,
            "object_fit": null,
            "grid_auto_columns": null,
            "margin": null,
            "display": null,
            "left": null
          }
        },
        "d629d40bde82453398e14ac155ea8701": {
          "model_module": "@jupyter-widgets/controls",
          "model_name": "ProgressStyleModel",
          "model_module_version": "1.5.0",
          "state": {
            "_view_name": "StyleView",
            "_model_name": "ProgressStyleModel",
            "description_width": "",
            "_view_module": "@jupyter-widgets/base",
            "_model_module_version": "1.5.0",
            "_view_count": null,
            "_view_module_version": "1.2.0",
            "bar_color": null,
            "_model_module": "@jupyter-widgets/controls"
          }
        },
        "0ede80a78cb14d2cbbf960484482fb6b": {
          "model_module": "@jupyter-widgets/base",
          "model_name": "LayoutModel",
          "model_module_version": "1.2.0",
          "state": {
            "_view_name": "LayoutView",
            "grid_template_rows": null,
            "right": null,
            "justify_content": null,
            "_view_module": "@jupyter-widgets/base",
            "overflow": null,
            "_model_module_version": "1.2.0",
            "_view_count": null,
            "flex_flow": null,
            "width": null,
            "min_width": null,
            "border": null,
            "align_items": null,
            "bottom": null,
            "_model_module": "@jupyter-widgets/base",
            "top": null,
            "grid_column": null,
            "overflow_y": null,
            "overflow_x": null,
            "grid_auto_flow": null,
            "grid_area": null,
            "grid_template_columns": null,
            "flex": null,
            "_model_name": "LayoutModel",
            "justify_items": null,
            "grid_row": null,
            "max_height": null,
            "align_content": null,
            "visibility": null,
            "align_self": null,
            "height": null,
            "min_height": null,
            "padding": null,
            "grid_auto_rows": null,
            "grid_gap": null,
            "max_width": null,
            "order": null,
            "_view_module_version": "1.2.0",
            "grid_template_areas": null,
            "object_position": null,
            "object_fit": null,
            "grid_auto_columns": null,
            "margin": null,
            "display": null,
            "left": null
          }
        },
        "672243339cf64e60a5fbdc7d6e5ee8d5": {
          "model_module": "@jupyter-widgets/controls",
          "model_name": "DescriptionStyleModel",
          "model_module_version": "1.5.0",
          "state": {
            "_view_name": "StyleView",
            "_model_name": "DescriptionStyleModel",
            "description_width": "",
            "_view_module": "@jupyter-widgets/base",
            "_model_module_version": "1.5.0",
            "_view_count": null,
            "_view_module_version": "1.2.0",
            "_model_module": "@jupyter-widgets/controls"
          }
        },
        "b49b609d86624a8a9884d5c57dcde030": {
          "model_module": "@jupyter-widgets/base",
          "model_name": "LayoutModel",
          "model_module_version": "1.2.0",
          "state": {
            "_view_name": "LayoutView",
            "grid_template_rows": null,
            "right": null,
            "justify_content": null,
            "_view_module": "@jupyter-widgets/base",
            "overflow": null,
            "_model_module_version": "1.2.0",
            "_view_count": null,
            "flex_flow": null,
            "width": null,
            "min_width": null,
            "border": null,
            "align_items": null,
            "bottom": null,
            "_model_module": "@jupyter-widgets/base",
            "top": null,
            "grid_column": null,
            "overflow_y": null,
            "overflow_x": null,
            "grid_auto_flow": null,
            "grid_area": null,
            "grid_template_columns": null,
            "flex": null,
            "_model_name": "LayoutModel",
            "justify_items": null,
            "grid_row": null,
            "max_height": null,
            "align_content": null,
            "visibility": null,
            "align_self": null,
            "height": null,
            "min_height": null,
            "padding": null,
            "grid_auto_rows": null,
            "grid_gap": null,
            "max_width": null,
            "order": null,
            "_view_module_version": "1.2.0",
            "grid_template_areas": null,
            "object_position": null,
            "object_fit": null,
            "grid_auto_columns": null,
            "margin": null,
            "display": null,
            "left": null
          }
        },
        "6b8c7b93d03445c8bfa5c96fce4b05d7": {
          "model_module": "@jupyter-widgets/controls",
          "model_name": "HBoxModel",
          "model_module_version": "1.5.0",
          "state": {
            "_view_name": "HBoxView",
            "_dom_classes": [],
            "_model_name": "HBoxModel",
            "_view_module": "@jupyter-widgets/controls",
            "_model_module_version": "1.5.0",
            "_view_count": null,
            "_view_module_version": "1.5.0",
            "box_style": "",
            "layout": "IPY_MODEL_eabf6e67f4894c26b3314eb24813879e",
            "_model_module": "@jupyter-widgets/controls",
            "children": [
              "IPY_MODEL_eac4a039f61d4a3da07360435e6ba764",
              "IPY_MODEL_3665906c6d85486f8ffa691ab306a288",
              "IPY_MODEL_246e775fd6b742b29b40a051064fe6cf"
            ]
          }
        },
        "eabf6e67f4894c26b3314eb24813879e": {
          "model_module": "@jupyter-widgets/base",
          "model_name": "LayoutModel",
          "model_module_version": "1.2.0",
          "state": {
            "_view_name": "LayoutView",
            "grid_template_rows": null,
            "right": null,
            "justify_content": null,
            "_view_module": "@jupyter-widgets/base",
            "overflow": null,
            "_model_module_version": "1.2.0",
            "_view_count": null,
            "flex_flow": null,
            "width": null,
            "min_width": null,
            "border": null,
            "align_items": null,
            "bottom": null,
            "_model_module": "@jupyter-widgets/base",
            "top": null,
            "grid_column": null,
            "overflow_y": null,
            "overflow_x": null,
            "grid_auto_flow": null,
            "grid_area": null,
            "grid_template_columns": null,
            "flex": null,
            "_model_name": "LayoutModel",
            "justify_items": null,
            "grid_row": null,
            "max_height": null,
            "align_content": null,
            "visibility": null,
            "align_self": null,
            "height": null,
            "min_height": null,
            "padding": null,
            "grid_auto_rows": null,
            "grid_gap": null,
            "max_width": null,
            "order": null,
            "_view_module_version": "1.2.0",
            "grid_template_areas": null,
            "object_position": null,
            "object_fit": null,
            "grid_auto_columns": null,
            "margin": null,
            "display": null,
            "left": null
          }
        },
        "eac4a039f61d4a3da07360435e6ba764": {
          "model_module": "@jupyter-widgets/controls",
          "model_name": "HTMLModel",
          "model_module_version": "1.5.0",
          "state": {
            "_view_name": "HTMLView",
            "style": "IPY_MODEL_356f6f72e6d048c381b88162787bc795",
            "_dom_classes": [],
            "description": "",
            "_model_name": "HTMLModel",
            "placeholder": "​",
            "_view_module": "@jupyter-widgets/controls",
            "_model_module_version": "1.5.0",
            "value": "",
            "_view_count": null,
            "_view_module_version": "1.5.0",
            "description_tooltip": null,
            "_model_module": "@jupyter-widgets/controls",
            "layout": "IPY_MODEL_642f0f37460f43d49c071d6ac51cb729"
          }
        },
        "3665906c6d85486f8ffa691ab306a288": {
          "model_module": "@jupyter-widgets/controls",
          "model_name": "FloatProgressModel",
          "model_module_version": "1.5.0",
          "state": {
            "_view_name": "ProgressView",
            "style": "IPY_MODEL_9b0e4760945940409508b1fcc7a8318b",
            "_dom_classes": [],
            "description": "",
            "_model_name": "FloatProgressModel",
            "bar_style": "success",
            "max": 1648877,
            "_view_module": "@jupyter-widgets/controls",
            "_model_module_version": "1.5.0",
            "value": 1648877,
            "_view_count": null,
            "_view_module_version": "1.5.0",
            "orientation": "horizontal",
            "min": 0,
            "description_tooltip": null,
            "_model_module": "@jupyter-widgets/controls",
            "layout": "IPY_MODEL_95e23ae8f34b4c85bc44d98c8ebe9349"
          }
        },
        "246e775fd6b742b29b40a051064fe6cf": {
          "model_module": "@jupyter-widgets/controls",
          "model_name": "HTMLModel",
          "model_module_version": "1.5.0",
          "state": {
            "_view_name": "HTMLView",
            "style": "IPY_MODEL_754e58fc5a7d4abdaf4dedc63b3483e8",
            "_dom_classes": [],
            "description": "",
            "_model_name": "HTMLModel",
            "placeholder": "​",
            "_view_module": "@jupyter-widgets/controls",
            "_model_module_version": "1.5.0",
            "value": " 1649664/? [00:00&lt;00:00, 17349334.82it/s]",
            "_view_count": null,
            "_view_module_version": "1.5.0",
            "description_tooltip": null,
            "_model_module": "@jupyter-widgets/controls",
            "layout": "IPY_MODEL_21f343755d174fd883fbc19eaef9d28a"
          }
        },
        "356f6f72e6d048c381b88162787bc795": {
          "model_module": "@jupyter-widgets/controls",
          "model_name": "DescriptionStyleModel",
          "model_module_version": "1.5.0",
          "state": {
            "_view_name": "StyleView",
            "_model_name": "DescriptionStyleModel",
            "description_width": "",
            "_view_module": "@jupyter-widgets/base",
            "_model_module_version": "1.5.0",
            "_view_count": null,
            "_view_module_version": "1.2.0",
            "_model_module": "@jupyter-widgets/controls"
          }
        },
        "642f0f37460f43d49c071d6ac51cb729": {
          "model_module": "@jupyter-widgets/base",
          "model_name": "LayoutModel",
          "model_module_version": "1.2.0",
          "state": {
            "_view_name": "LayoutView",
            "grid_template_rows": null,
            "right": null,
            "justify_content": null,
            "_view_module": "@jupyter-widgets/base",
            "overflow": null,
            "_model_module_version": "1.2.0",
            "_view_count": null,
            "flex_flow": null,
            "width": null,
            "min_width": null,
            "border": null,
            "align_items": null,
            "bottom": null,
            "_model_module": "@jupyter-widgets/base",
            "top": null,
            "grid_column": null,
            "overflow_y": null,
            "overflow_x": null,
            "grid_auto_flow": null,
            "grid_area": null,
            "grid_template_columns": null,
            "flex": null,
            "_model_name": "LayoutModel",
            "justify_items": null,
            "grid_row": null,
            "max_height": null,
            "align_content": null,
            "visibility": null,
            "align_self": null,
            "height": null,
            "min_height": null,
            "padding": null,
            "grid_auto_rows": null,
            "grid_gap": null,
            "max_width": null,
            "order": null,
            "_view_module_version": "1.2.0",
            "grid_template_areas": null,
            "object_position": null,
            "object_fit": null,
            "grid_auto_columns": null,
            "margin": null,
            "display": null,
            "left": null
          }
        },
        "9b0e4760945940409508b1fcc7a8318b": {
          "model_module": "@jupyter-widgets/controls",
          "model_name": "ProgressStyleModel",
          "model_module_version": "1.5.0",
          "state": {
            "_view_name": "StyleView",
            "_model_name": "ProgressStyleModel",
            "description_width": "",
            "_view_module": "@jupyter-widgets/base",
            "_model_module_version": "1.5.0",
            "_view_count": null,
            "_view_module_version": "1.2.0",
            "bar_color": null,
            "_model_module": "@jupyter-widgets/controls"
          }
        },
        "95e23ae8f34b4c85bc44d98c8ebe9349": {
          "model_module": "@jupyter-widgets/base",
          "model_name": "LayoutModel",
          "model_module_version": "1.2.0",
          "state": {
            "_view_name": "LayoutView",
            "grid_template_rows": null,
            "right": null,
            "justify_content": null,
            "_view_module": "@jupyter-widgets/base",
            "overflow": null,
            "_model_module_version": "1.2.0",
            "_view_count": null,
            "flex_flow": null,
            "width": null,
            "min_width": null,
            "border": null,
            "align_items": null,
            "bottom": null,
            "_model_module": "@jupyter-widgets/base",
            "top": null,
            "grid_column": null,
            "overflow_y": null,
            "overflow_x": null,
            "grid_auto_flow": null,
            "grid_area": null,
            "grid_template_columns": null,
            "flex": null,
            "_model_name": "LayoutModel",
            "justify_items": null,
            "grid_row": null,
            "max_height": null,
            "align_content": null,
            "visibility": null,
            "align_self": null,
            "height": null,
            "min_height": null,
            "padding": null,
            "grid_auto_rows": null,
            "grid_gap": null,
            "max_width": null,
            "order": null,
            "_view_module_version": "1.2.0",
            "grid_template_areas": null,
            "object_position": null,
            "object_fit": null,
            "grid_auto_columns": null,
            "margin": null,
            "display": null,
            "left": null
          }
        },
        "754e58fc5a7d4abdaf4dedc63b3483e8": {
          "model_module": "@jupyter-widgets/controls",
          "model_name": "DescriptionStyleModel",
          "model_module_version": "1.5.0",
          "state": {
            "_view_name": "StyleView",
            "_model_name": "DescriptionStyleModel",
            "description_width": "",
            "_view_module": "@jupyter-widgets/base",
            "_model_module_version": "1.5.0",
            "_view_count": null,
            "_view_module_version": "1.2.0",
            "_model_module": "@jupyter-widgets/controls"
          }
        },
        "21f343755d174fd883fbc19eaef9d28a": {
          "model_module": "@jupyter-widgets/base",
          "model_name": "LayoutModel",
          "model_module_version": "1.2.0",
          "state": {
            "_view_name": "LayoutView",
            "grid_template_rows": null,
            "right": null,
            "justify_content": null,
            "_view_module": "@jupyter-widgets/base",
            "overflow": null,
            "_model_module_version": "1.2.0",
            "_view_count": null,
            "flex_flow": null,
            "width": null,
            "min_width": null,
            "border": null,
            "align_items": null,
            "bottom": null,
            "_model_module": "@jupyter-widgets/base",
            "top": null,
            "grid_column": null,
            "overflow_y": null,
            "overflow_x": null,
            "grid_auto_flow": null,
            "grid_area": null,
            "grid_template_columns": null,
            "flex": null,
            "_model_name": "LayoutModel",
            "justify_items": null,
            "grid_row": null,
            "max_height": null,
            "align_content": null,
            "visibility": null,
            "align_self": null,
            "height": null,
            "min_height": null,
            "padding": null,
            "grid_auto_rows": null,
            "grid_gap": null,
            "max_width": null,
            "order": null,
            "_view_module_version": "1.2.0",
            "grid_template_areas": null,
            "object_position": null,
            "object_fit": null,
            "grid_auto_columns": null,
            "margin": null,
            "display": null,
            "left": null
          }
        },
        "e477c2c4013e49ebb86fb098618b91cb": {
          "model_module": "@jupyter-widgets/controls",
          "model_name": "HBoxModel",
          "model_module_version": "1.5.0",
          "state": {
            "_view_name": "HBoxView",
            "_dom_classes": [],
            "_model_name": "HBoxModel",
            "_view_module": "@jupyter-widgets/controls",
            "_model_module_version": "1.5.0",
            "_view_count": null,
            "_view_module_version": "1.5.0",
            "box_style": "",
            "layout": "IPY_MODEL_e1aa1bcc94c745259a354b3763f97259",
            "_model_module": "@jupyter-widgets/controls",
            "children": [
              "IPY_MODEL_370062f07593418dae32bf7597d27756",
              "IPY_MODEL_5e18ba4a2a094889baf4bd646ac6f88a",
              "IPY_MODEL_30601d3d08914705b3e996c76cfe170f"
            ]
          }
        },
        "e1aa1bcc94c745259a354b3763f97259": {
          "model_module": "@jupyter-widgets/base",
          "model_name": "LayoutModel",
          "model_module_version": "1.2.0",
          "state": {
            "_view_name": "LayoutView",
            "grid_template_rows": null,
            "right": null,
            "justify_content": null,
            "_view_module": "@jupyter-widgets/base",
            "overflow": null,
            "_model_module_version": "1.2.0",
            "_view_count": null,
            "flex_flow": null,
            "width": null,
            "min_width": null,
            "border": null,
            "align_items": null,
            "bottom": null,
            "_model_module": "@jupyter-widgets/base",
            "top": null,
            "grid_column": null,
            "overflow_y": null,
            "overflow_x": null,
            "grid_auto_flow": null,
            "grid_area": null,
            "grid_template_columns": null,
            "flex": null,
            "_model_name": "LayoutModel",
            "justify_items": null,
            "grid_row": null,
            "max_height": null,
            "align_content": null,
            "visibility": null,
            "align_self": null,
            "height": null,
            "min_height": null,
            "padding": null,
            "grid_auto_rows": null,
            "grid_gap": null,
            "max_width": null,
            "order": null,
            "_view_module_version": "1.2.0",
            "grid_template_areas": null,
            "object_position": null,
            "object_fit": null,
            "grid_auto_columns": null,
            "margin": null,
            "display": null,
            "left": null
          }
        },
        "370062f07593418dae32bf7597d27756": {
          "model_module": "@jupyter-widgets/controls",
          "model_name": "HTMLModel",
          "model_module_version": "1.5.0",
          "state": {
            "_view_name": "HTMLView",
            "style": "IPY_MODEL_500f2b752b4940edbce002b159cef09f",
            "_dom_classes": [],
            "description": "",
            "_model_name": "HTMLModel",
            "placeholder": "​",
            "_view_module": "@jupyter-widgets/controls",
            "_model_module_version": "1.5.0",
            "value": "",
            "_view_count": null,
            "_view_module_version": "1.5.0",
            "description_tooltip": null,
            "_model_module": "@jupyter-widgets/controls",
            "layout": "IPY_MODEL_bb84a6872d11404c9c707200046a523c"
          }
        },
        "5e18ba4a2a094889baf4bd646ac6f88a": {
          "model_module": "@jupyter-widgets/controls",
          "model_name": "FloatProgressModel",
          "model_module_version": "1.5.0",
          "state": {
            "_view_name": "ProgressView",
            "style": "IPY_MODEL_41d7e55dd7084713ba2592523fb95ca9",
            "_dom_classes": [],
            "description": "",
            "_model_name": "FloatProgressModel",
            "bar_style": "success",
            "max": 4542,
            "_view_module": "@jupyter-widgets/controls",
            "_model_module_version": "1.5.0",
            "value": 4542,
            "_view_count": null,
            "_view_module_version": "1.5.0",
            "orientation": "horizontal",
            "min": 0,
            "description_tooltip": null,
            "_model_module": "@jupyter-widgets/controls",
            "layout": "IPY_MODEL_9d24e259f45d47cabc5450a3510202a2"
          }
        },
        "30601d3d08914705b3e996c76cfe170f": {
          "model_module": "@jupyter-widgets/controls",
          "model_name": "HTMLModel",
          "model_module_version": "1.5.0",
          "state": {
            "_view_name": "HTMLView",
            "style": "IPY_MODEL_4537f33fea754632b342a7d35d32a7c9",
            "_dom_classes": [],
            "description": "",
            "_model_name": "HTMLModel",
            "placeholder": "​",
            "_view_module": "@jupyter-widgets/controls",
            "_model_module_version": "1.5.0",
            "value": " 5120/? [00:00&lt;00:00, 124781.15it/s]",
            "_view_count": null,
            "_view_module_version": "1.5.0",
            "description_tooltip": null,
            "_model_module": "@jupyter-widgets/controls",
            "layout": "IPY_MODEL_7671869a3f1a4d68b1aef261d3837ffc"
          }
        },
        "500f2b752b4940edbce002b159cef09f": {
          "model_module": "@jupyter-widgets/controls",
          "model_name": "DescriptionStyleModel",
          "model_module_version": "1.5.0",
          "state": {
            "_view_name": "StyleView",
            "_model_name": "DescriptionStyleModel",
            "description_width": "",
            "_view_module": "@jupyter-widgets/base",
            "_model_module_version": "1.5.0",
            "_view_count": null,
            "_view_module_version": "1.2.0",
            "_model_module": "@jupyter-widgets/controls"
          }
        },
        "bb84a6872d11404c9c707200046a523c": {
          "model_module": "@jupyter-widgets/base",
          "model_name": "LayoutModel",
          "model_module_version": "1.2.0",
          "state": {
            "_view_name": "LayoutView",
            "grid_template_rows": null,
            "right": null,
            "justify_content": null,
            "_view_module": "@jupyter-widgets/base",
            "overflow": null,
            "_model_module_version": "1.2.0",
            "_view_count": null,
            "flex_flow": null,
            "width": null,
            "min_width": null,
            "border": null,
            "align_items": null,
            "bottom": null,
            "_model_module": "@jupyter-widgets/base",
            "top": null,
            "grid_column": null,
            "overflow_y": null,
            "overflow_x": null,
            "grid_auto_flow": null,
            "grid_area": null,
            "grid_template_columns": null,
            "flex": null,
            "_model_name": "LayoutModel",
            "justify_items": null,
            "grid_row": null,
            "max_height": null,
            "align_content": null,
            "visibility": null,
            "align_self": null,
            "height": null,
            "min_height": null,
            "padding": null,
            "grid_auto_rows": null,
            "grid_gap": null,
            "max_width": null,
            "order": null,
            "_view_module_version": "1.2.0",
            "grid_template_areas": null,
            "object_position": null,
            "object_fit": null,
            "grid_auto_columns": null,
            "margin": null,
            "display": null,
            "left": null
          }
        },
        "41d7e55dd7084713ba2592523fb95ca9": {
          "model_module": "@jupyter-widgets/controls",
          "model_name": "ProgressStyleModel",
          "model_module_version": "1.5.0",
          "state": {
            "_view_name": "StyleView",
            "_model_name": "ProgressStyleModel",
            "description_width": "",
            "_view_module": "@jupyter-widgets/base",
            "_model_module_version": "1.5.0",
            "_view_count": null,
            "_view_module_version": "1.2.0",
            "bar_color": null,
            "_model_module": "@jupyter-widgets/controls"
          }
        },
        "9d24e259f45d47cabc5450a3510202a2": {
          "model_module": "@jupyter-widgets/base",
          "model_name": "LayoutModel",
          "model_module_version": "1.2.0",
          "state": {
            "_view_name": "LayoutView",
            "grid_template_rows": null,
            "right": null,
            "justify_content": null,
            "_view_module": "@jupyter-widgets/base",
            "overflow": null,
            "_model_module_version": "1.2.0",
            "_view_count": null,
            "flex_flow": null,
            "width": null,
            "min_width": null,
            "border": null,
            "align_items": null,
            "bottom": null,
            "_model_module": "@jupyter-widgets/base",
            "top": null,
            "grid_column": null,
            "overflow_y": null,
            "overflow_x": null,
            "grid_auto_flow": null,
            "grid_area": null,
            "grid_template_columns": null,
            "flex": null,
            "_model_name": "LayoutModel",
            "justify_items": null,
            "grid_row": null,
            "max_height": null,
            "align_content": null,
            "visibility": null,
            "align_self": null,
            "height": null,
            "min_height": null,
            "padding": null,
            "grid_auto_rows": null,
            "grid_gap": null,
            "max_width": null,
            "order": null,
            "_view_module_version": "1.2.0",
            "grid_template_areas": null,
            "object_position": null,
            "object_fit": null,
            "grid_auto_columns": null,
            "margin": null,
            "display": null,
            "left": null
          }
        },
        "4537f33fea754632b342a7d35d32a7c9": {
          "model_module": "@jupyter-widgets/controls",
          "model_name": "DescriptionStyleModel",
          "model_module_version": "1.5.0",
          "state": {
            "_view_name": "StyleView",
            "_model_name": "DescriptionStyleModel",
            "description_width": "",
            "_view_module": "@jupyter-widgets/base",
            "_model_module_version": "1.5.0",
            "_view_count": null,
            "_view_module_version": "1.2.0",
            "_model_module": "@jupyter-widgets/controls"
          }
        },
        "7671869a3f1a4d68b1aef261d3837ffc": {
          "model_module": "@jupyter-widgets/base",
          "model_name": "LayoutModel",
          "model_module_version": "1.2.0",
          "state": {
            "_view_name": "LayoutView",
            "grid_template_rows": null,
            "right": null,
            "justify_content": null,
            "_view_module": "@jupyter-widgets/base",
            "overflow": null,
            "_model_module_version": "1.2.0",
            "_view_count": null,
            "flex_flow": null,
            "width": null,
            "min_width": null,
            "border": null,
            "align_items": null,
            "bottom": null,
            "_model_module": "@jupyter-widgets/base",
            "top": null,
            "grid_column": null,
            "overflow_y": null,
            "overflow_x": null,
            "grid_auto_flow": null,
            "grid_area": null,
            "grid_template_columns": null,
            "flex": null,
            "_model_name": "LayoutModel",
            "justify_items": null,
            "grid_row": null,
            "max_height": null,
            "align_content": null,
            "visibility": null,
            "align_self": null,
            "height": null,
            "min_height": null,
            "padding": null,
            "grid_auto_rows": null,
            "grid_gap": null,
            "max_width": null,
            "order": null,
            "_view_module_version": "1.2.0",
            "grid_template_areas": null,
            "object_position": null,
            "object_fit": null,
            "grid_auto_columns": null,
            "margin": null,
            "display": null,
            "left": null
          }
        }
      }
    }
  },
  "cells": [
    {
      "cell_type": "markdown",
      "metadata": {
        "id": "vEJLFL-H5axT"
      },
      "source": [
        "# Tarea 3: Regularización y Optimización <br/> CC6204 Deep Learning, Universidad de Chile  <br/> Hoja de respuestas\n",
        "## Nombre: Matias Cornejo\n",
        "\n",
        "**Fecha de entrega: 29 de Octubre**\n"
      ]
    },
    {
      "cell_type": "code",
      "metadata": {
        "id": "54d9w9Y7XXmc",
        "colab": {
          "base_uri": "https://localhost:8080/"
        },
        "outputId": "5ca4f0c8-15a4-416e-bc0a-0bc64747b5b7"
      },
      "source": [
        "# Este notebook está pensado para correr en CoLaboratory.\n",
        "# Lo único imprescindible por importar es torch\n",
        "import torch\n",
        "\n",
        "# Posiblemenete quieras instalar e importar ipdb para debuggear.\n",
        "# Si es así, descomenta lo siguiente:\n",
        "# !pip install -q ipdb\n",
        "# import ipdb\n",
        "\n",
        "# Aqui instalamos la libreria de correccion del curso\n",
        "!pip install -U \"git+https://github.com/dccuchile/CC6204.git@master#egg=cc6204&subdirectory=autocorrect\"\n",
        "from timeit import default_timer as timer"
      ],
      "execution_count": null,
      "outputs": [
        {
          "output_type": "stream",
          "name": "stdout",
          "text": [
            "Collecting cc6204\n",
            "  Cloning https://github.com/dccuchile/CC6204.git (to revision master) to /tmp/pip-install-xw23m7gz/cc6204_c0d94cfd4838439498dffe50a707aca4\n",
            "  Running command git clone -q https://github.com/dccuchile/CC6204.git /tmp/pip-install-xw23m7gz/cc6204_c0d94cfd4838439498dffe50a707aca4\n",
            "Requirement already satisfied: requests in /usr/local/lib/python3.7/dist-packages (from cc6204) (2.23.0)\n",
            "Requirement already satisfied: numpy in /usr/local/lib/python3.7/dist-packages (from cc6204) (1.19.5)\n",
            "Requirement already satisfied: torch in /usr/local/lib/python3.7/dist-packages (from cc6204) (1.9.0+cu111)\n",
            "Requirement already satisfied: chardet<4,>=3.0.2 in /usr/local/lib/python3.7/dist-packages (from requests->cc6204) (3.0.4)\n",
            "Requirement already satisfied: certifi>=2017.4.17 in /usr/local/lib/python3.7/dist-packages (from requests->cc6204) (2021.5.30)\n",
            "Requirement already satisfied: idna<3,>=2.5 in /usr/local/lib/python3.7/dist-packages (from requests->cc6204) (2.10)\n",
            "Requirement already satisfied: urllib3!=1.25.0,!=1.25.1,<1.26,>=1.21.1 in /usr/local/lib/python3.7/dist-packages (from requests->cc6204) (1.24.3)\n",
            "Requirement already satisfied: typing-extensions in /usr/local/lib/python3.7/dist-packages (from torch->cc6204) (3.7.4.3)\n",
            "Building wheels for collected packages: cc6204\n",
            "  Building wheel for cc6204 (setup.py) ... \u001b[?25l\u001b[?25hdone\n",
            "  Created wheel for cc6204: filename=cc6204-0.5.0-py3-none-any.whl size=5800 sha256=45da1506a6e768362181753ea3c4e9e0b8d54da79caa6ea35855c92687c26ad0\n",
            "  Stored in directory: /tmp/pip-ephem-wheel-cache-qkonvr5i/wheels/3c/26/f5/2abeb546c3ff1ab6e69113a3ae69bc0ac3442642727fd0dcc2\n",
            "Successfully built cc6204\n",
            "Installing collected packages: cc6204\n",
            "Successfully installed cc6204-0.5.0\n"
          ]
        }
      ]
    },
    {
      "cell_type": "code",
      "metadata": {
        "id": "xDYIQbJuXY9U",
        "colab": {
          "base_uri": "https://localhost:8080/"
        },
        "outputId": "fa4ad57b-0a92-447e-8e5a-bc0296336597"
      },
      "source": [
        "# importamos las herramientas del curso\n",
        "from cc6204 import AutoCorrect, FailedTest\n",
        "\n",
        "# ingresa el host y port que posteamos en u-cursos\n",
        "corrector = AutoCorrect(host=\"cc6204.dcc.uchile.cl\", port=443)\n",
        "\n",
        "# anota el token que te daremos en u-cursos\n",
        "token = \"]ye/Ox;nsz\""
      ],
      "execution_count": null,
      "outputs": [
        {
          "output_type": "stream",
          "name": "stdout",
          "text": [
            "Connection stablished\n"
          ]
        }
      ]
    },
    {
      "cell_type": "markdown",
      "metadata": {
        "id": "HSUjcty632E1"
      },
      "source": [
        "Codigo util de Tarea 2"
      ]
    },
    {
      "cell_type": "code",
      "metadata": {
        "id": "ccnjHYH9h6qv"
      },
      "source": [
        "import matplotlib.pyplot as plt\n",
        "def plot_results(loss, acc):\n",
        "  # Muestra dos figuras:\n",
        "  #  (1) gráfico para la lista `loss` (Loss) y\n",
        "  #  (2) gráfico para la lista `acc` (Accuracy)\n",
        "\n",
        "  f1 = plt.figure(1)\n",
        "  ax1 = f1.add_subplot(111)\n",
        "  ax1.set_title(\"Loss\")\n",
        "  ax1.set_xlabel('epochs')\n",
        "  ax1.set_ylabel('loss')\n",
        "  ax1.plot(loss, c='r')\n",
        "  f1.show()\n",
        "\n",
        "  f2 = plt.figure(2)\n",
        "  ax2 = f2.add_subplot(111)\n",
        "  ax2.set_title(\"Accuracy\")\n",
        "  ax2.set_xlabel('epochs')\n",
        "  ax2.set_ylabel('acc')\n",
        "  ax2.plot(acc, c='b')\n",
        "  f2.show()"
      ],
      "execution_count": null,
      "outputs": []
    },
    {
      "cell_type": "code",
      "metadata": {
        "id": "Z1jkiPme31OO"
      },
      "source": [
        "#Extraido de solución tarea 2\n",
        "def sig(T, gradient=False):\n",
        "  if gradient:\n",
        "    sigT = sig(T)\n",
        "    return sigT * (1 - sigT)\n",
        "  return torch.reciprocal(1 + torch.exp(-1 * T))\n",
        "\n",
        "def tanh(T, gradient=False):\n",
        "  if gradient:\n",
        "    tanhT = tanh(T)\n",
        "    return 1 - tanhT * tanhT\n",
        "  E = torch.exp(T)\n",
        "  e = torch.exp(-1 * T)\n",
        "  return (E - e) * torch.reciprocal(E + e)\n",
        "\n",
        "def relu(T, gradient=False):\n",
        "  if gradient:\n",
        "    outT = torch.zeros_like(T)\n",
        "    outT[T>=0] = 1\n",
        "    return outT\n",
        "  return torch.max(T, torch.zeros_like(T))\n",
        "\n",
        "def swish(T, beta=1, gradient=False):\n",
        "  if gradient:\n",
        "    sigbT = sig(beta * T)\n",
        "    swishT = T * sigbT\n",
        "    return sigbT + beta * swishT * (1 - sigbT), swishT * (T - swishT)\n",
        "  return T * torch.reciprocal(1 + torch.exp(-beta * T))\n",
        "\n",
        "def celu(T, alpha=1, gradient=False):\n",
        "  if alpha == 0:\n",
        "    raise ValueError(\"alpha cannot be 0\")\n",
        "\n",
        "  zeros = torch.zeros_like(T)\n",
        "  Talpha = T / alpha\n",
        "\n",
        "  if gradient:\n",
        "    e = Talpha.exp()\n",
        "    d_dx = torch.ones_like(T)\n",
        "    d_dx[T<0] = e[T<0]\n",
        "    zeros[T<0] = (celu(T)[T<0] - T[T<0] * e[T<0]) / alpha\n",
        "    return d_dx, zeros # d_dx, d_da\n",
        "\n",
        "  return torch.max(zeros, T) + torch.min(zeros, alpha * (Talpha).expm1())\n",
        "\n",
        "def softmax(T, dim, estable=True):\n",
        "  if estable:\n",
        "    T -= T.max(dim=dim, keepdim=True)[0]  # keepdim=True => output has dim with size 1. Otherwise, dim is squeezed\n",
        "  exp = torch.exp(T)\n",
        "  return exp / torch.sum(exp, dim=dim, keepdim=True)  # keepdim=True => output has dim with size 1. Otherwise, dim is squeezed"
      ],
      "execution_count": null,
      "outputs": []
    },
    {
      "cell_type": "code",
      "metadata": {
        "id": "knwP78HbyrYK"
      },
      "source": [
        "def CELoss(Q, P, estable=True, epsilon=1e-8):\n",
        "  # Q y P: representan distribuciones de probabilidad discreta\n",
        "  #        (mediante matrices con las mismas dimensiones)\n",
        "  # estable y epsilon: nos permiten lograr estabilidad numérica cuando\n",
        "  #       intentamos computar el logaritmo de valores muy pequeños.\n",
        "  #       epsilon limitará el valor mínimo del valor original cuando estable=True\n",
        "  N = Q.shape[0]\n",
        "  M = Q.shape[1]\n",
        "\n",
        "  if estable:\n",
        "    CEi = 0\n",
        "    for i in range(N):\n",
        "      CEi += (-1) * torch.sum(P[i] * torch.log(torch.max(torch.ones_like(Q[i])*epsilon, Q[i])))\n",
        "  else:\n",
        "    CEi = 0\n",
        "    for i in range(N):\n",
        "      CEi += (-1) * torch.sum(P[i] * torch.log(Q[i]))\n",
        "\n",
        "  return CEi / N"
      ],
      "execution_count": null,
      "outputs": []
    },
    {
      "cell_type": "code",
      "metadata": {
        "id": "GmT0EfY9zKUG"
      },
      "source": [
        "# Tu código acá\n",
        "def CELoss(Q, P, estable=True, epsilon=1e-8):\n",
        "  N = Q.shape[0]\n",
        "  if estable:\n",
        "    Q = Q.clamp(epsilon, 1-epsilon)\n",
        "  return -(P * Q.log()).sum()/N"
      ],
      "execution_count": null,
      "outputs": []
    },
    {
      "cell_type": "markdown",
      "metadata": {
        "id": "fg8i3agyXDSr"
      },
      "source": [
        "# Parte 1: Regularización y Generalización\n",
        "\n"
      ]
    },
    {
      "cell_type": "markdown",
      "metadata": {
        "id": "NbzcMAkOXDSr"
      },
      "source": [
        "## 1a) Regularización por *weight decay*"
      ]
    },
    {
      "cell_type": "code",
      "metadata": {
        "id": "6QfQVggvNuv9"
      },
      "source": [
        "# Tu código debiera continuar así\n",
        "class SGD():\n",
        "  def __init__(self, parameters, lr, beta=0):\n",
        "    #p = (1-beta)*p - lr*p.grad\n",
        "    # lo que sea necesario inicializar\n",
        "    self.params = [p for p in parameters if p is not None]\n",
        "    self.lr = lr\n",
        "    self.beta = beta\n",
        "\n",
        "  def step(self):\n",
        "    # actualiza acá los parámetros a partir de los gradientes\n",
        "    # y considera el nuevo valor beta\n",
        "\n",
        "    for p in self.params:\n",
        "      p.data = (1-self.beta)*p.data - self.lr * p.grad"
      ],
      "execution_count": null,
      "outputs": []
    },
    {
      "cell_type": "code",
      "metadata": {
        "id": "jJMKrtjZcXDH",
        "colab": {
          "base_uri": "https://localhost:8080/"
        },
        "outputId": "936b5b3f-7b68-4db5-9789-ae69cbea1809"
      },
      "source": [
        "# Tests del API del curso\n",
        "weight, grad = corrector.get_test_data(homework=3, question=\"1a\", test=1, token=token)\n",
        "\n",
        "weight = torch.tensor(weight, requires_grad=True)\n",
        "weight.grad = torch.tensor(grad)\n",
        "\n",
        "optimizer = SGD([weight], lr=0.1, beta=0.1)\n",
        "optimizer.step()\n",
        "\n",
        "# Submit\n",
        "corrector.submit(homework=3, question=\"1a\", test=1, token=token, answer=weight)"
      ],
      "execution_count": null,
      "outputs": [
        {
          "output_type": "stream",
          "name": "stdout",
          "text": [
            "Correct Test!\n"
          ]
        }
      ]
    },
    {
      "cell_type": "markdown",
      "metadata": {
        "id": "ifPp_c1eXDSt"
      },
      "source": [
        "## 1b) Regularización por dropout"
      ]
    },
    {
      "cell_type": "markdown",
      "metadata": {
        "id": "InfEB_1uPfcA"
      },
      "source": [
        "Para esta parte de la tarea, va a ser necesario modificar el método `forward` para que entregue el valor a la salida de la i-esima capa escondida. Para esto se modifica el método forward para que reciba un parámetro `output_layer` que indica luego de que capa escondida se espera el output."
      ]
    },
    {
      "cell_type": "code",
      "metadata": {
        "id": "w4wXj3AUXDSu"
      },
      "source": [
        "# Tu código debiera continuar como sigue\n",
        "from torch.nn import Parameter, ParameterList\n",
        "\n",
        "class FFNN(torch.nn.Module): #red = FFNN(10, [1000], [sig], [None], 1, l_keep_prob=[1.0, 0.5]) /// red = FFNN(F, [50,30], [relu,sig], C)\n",
        "  def __init__(self, F, l_h, l_a, l_a_params, C, l_keep_prob):\n",
        "    super(FFNN, self).__init__()\n",
        "\n",
        "    #From sol tarea 2\n",
        "    sizes = [F] + l_h + [C] #En nuestro caso [784, 50, 30, 10]\n",
        "    self.Ws = ParameterList([Parameter(torch.randn(sizes[i], sizes[i+1])) for i in range(len(sizes)-1)])\n",
        "    self.bs = ParameterList([Parameter(torch.zeros(h)) for h in sizes[1:]])\n",
        "    self.fs = l_a\n",
        "    if l_a_params is not None:\n",
        "      self.fs_ps_mask = [Parameter(torch.tensor(p)) if p else None for p in l_a_params]\n",
        "    else:\n",
        "      self.fs_ps_mask = [None for _ in l_a]\n",
        "    self.fs_ps = ParameterList([p for p in self.fs_ps_mask if p])\n",
        "\n",
        "    self.l_keep_prob = l_keep_prob\n",
        "\n",
        "  def forward(self, x, predict=False):\n",
        "    self.cacheU = [] #, self.cacheH = [], []\n",
        "    self.cacheM = []\n",
        "    i = 0\n",
        "    for W, b, f, p in zip(self.Ws[:-1], self.bs[:-1], self.fs, self.fs_ps_mask):\n",
        "      x = torch.mm(x, W) + b #u\n",
        "      self.cacheU.append(x)\n",
        "      x = f(x, p.item()) if p else f(x)  #h\n",
        "      if(not predict):\n",
        "        binomial = torch.distributions.binomial.Binomial(probs=self.l_keep_prob[i])\n",
        "        i += 1\n",
        "        b_mask  =  binomial.sample(x.size())\n",
        "        self.cacheM.append(b_mask)\n",
        "        x = (x * b_mask)\n",
        "\n",
        "    return softmax(torch.mm(x, self.Ws[-1]) + self.bs[-1], dim=1)\n",
        "\n",
        "  def backward(self, x, y, y_pred):\n",
        "    current_grad = (y_pred - y) / y.size(0)\n",
        "\n",
        "    for i in range(len(self.Ws)-1, 0, -1):\n",
        "      if self.fs_ps_mask[i-1] is None:\n",
        "        # funcion de activacion sin parametro\n",
        "        self.Ws[i].grad = self.fs[i-1](self.cacheU[i-1]).t() @ current_grad\n",
        "      else:\n",
        "        # funcion de activacion con parametro\n",
        "        self.Ws[i].grad = self.fs[i-1](self.cacheU[i-1], self.fs_ps_mask[i-1].item()).t() @ current_grad\n",
        "      self.bs[i].grad = current_grad.sum(dim=0)\n",
        "      h_grad = current_grad @ self.Ws[i].t()\n",
        "\n",
        "      if self.fs_ps_mask[i-1] is None:\n",
        "        # funcion de activacion sin parametro\n",
        "        current_grad = self.fs[i-1](self.cacheU[i-1], gradient=True) * h_grad\n",
        "      else:\n",
        "        # funcion de activacion con parametro\n",
        "        current_grad, p_grad = self.fs[i-1](self.cacheU[i-1], self.fs_ps_mask[i-1], gradient=True)\n",
        "        current_grad *= h_grad\n",
        "        self.fs_ps_mask[i-1].grad = (p_grad * h_grad).sum()\n",
        "\n",
        "    self.Ws[0].grad = x.t() @ current_grad\n",
        "    self.bs[0].grad = current_grad.sum(dim=0)"
      ],
      "execution_count": null,
      "outputs": []
    },
    {
      "cell_type": "code",
      "metadata": {
        "id": "qrjGpVdg4xi1",
        "colab": {
          "base_uri": "https://localhost:8080/"
        },
        "outputId": "23e9e8ae-f557-4f97-d4dc-cd67fa701c6e"
      },
      "source": [
        "# Tests del API del curso\n",
        "torch.manual_seed(0)\n",
        "sample = torch.rand(1, 10)\n",
        "red = FFNN(10, [1000], [sig], [None], 1, l_keep_prob=[1.0, 0.5])\n",
        "y = red(sample)\n",
        "output_mask = (y == 0)\n",
        "percent = torch.sum(output_mask).item() / list(output_mask.size())[-1]\n",
        "\n",
        "# Submit\n",
        "corrector.submit(homework=3, question=\"1b\", test=1, token=token, answer=percent)"
      ],
      "execution_count": null,
      "outputs": [
        {
          "output_type": "stream",
          "name": "stdout",
          "text": [
            "Correct Test!\n"
          ]
        }
      ]
    },
    {
      "cell_type": "markdown",
      "metadata": {
        "id": "rlLnZM7hi0C2"
      },
      "source": [
        "## 1c) Entrenamiento y generalización sobre MNIST"
      ]
    },
    {
      "cell_type": "code",
      "metadata": {
        "id": "7Qj1GI81izYt",
        "colab": {
          "base_uri": "https://localhost:8080/",
          "height": 502,
          "referenced_widgets": [
            "df91f358e08a4adcb452e3f620044106",
            "539345201e9647ceb195e0f4e9026f57",
            "84e2262849584eca8e7dce0384b83c0e",
            "c66b5b84c6284eb1a5ef26f6864c0315",
            "30320518022c4b40a68464e79263eab9",
            "184fbe19eb3f42c382e1a664d2877053",
            "a6faf043151e4c3181c6e4a25ed3286a",
            "63b1918cd3a64a5fbb8e30a6e8b20983",
            "344b969a46e8435d9726fa210abd70d4",
            "42b3a0e366ff4385b2f3d80f792a2b6e",
            "f07899ab0a374ed0be51e7cbc6b04ae9",
            "e01bf1d706344067a53ea71fd198d6d3",
            "22cc903492254e169710fbf6c092dfc2",
            "95cd8c18e499401a899058c2be5aaf6b",
            "522c91af5060484e9fd8f7de17eca049",
            "62837ba84db648fd846f3756c6a9af95",
            "93d7fa0b365f46da8ea45ca8b6cfdb6a",
            "cc5f75680286497889e0a9782a1c845e",
            "d629d40bde82453398e14ac155ea8701",
            "0ede80a78cb14d2cbbf960484482fb6b",
            "672243339cf64e60a5fbdc7d6e5ee8d5",
            "b49b609d86624a8a9884d5c57dcde030",
            "6b8c7b93d03445c8bfa5c96fce4b05d7",
            "eabf6e67f4894c26b3314eb24813879e",
            "eac4a039f61d4a3da07360435e6ba764",
            "3665906c6d85486f8ffa691ab306a288",
            "246e775fd6b742b29b40a051064fe6cf",
            "356f6f72e6d048c381b88162787bc795",
            "642f0f37460f43d49c071d6ac51cb729",
            "9b0e4760945940409508b1fcc7a8318b",
            "95e23ae8f34b4c85bc44d98c8ebe9349",
            "754e58fc5a7d4abdaf4dedc63b3483e8",
            "21f343755d174fd883fbc19eaef9d28a",
            "e477c2c4013e49ebb86fb098618b91cb",
            "e1aa1bcc94c745259a354b3763f97259",
            "370062f07593418dae32bf7597d27756",
            "5e18ba4a2a094889baf4bd646ac6f88a",
            "30601d3d08914705b3e996c76cfe170f",
            "500f2b752b4940edbce002b159cef09f",
            "bb84a6872d11404c9c707200046a523c",
            "41d7e55dd7084713ba2592523fb95ca9",
            "9d24e259f45d47cabc5450a3510202a2",
            "4537f33fea754632b342a7d35d32a7c9",
            "7671869a3f1a4d68b1aef261d3837ffc"
          ]
        },
        "outputId": "7adb553e-3b02-4a0b-984d-055cf42ad745"
      },
      "source": [
        "#Codigo extraido de: https://github.com/amitrajitbose/handwritten-digit-recognition\n",
        "from google.colab import drive\n",
        "\n",
        "from torchvision.datasets import MNIST\n",
        "from torchvision.transforms import ToTensor\n",
        "from torch.utils.data import DataLoader\n",
        "\n",
        "# Download and load the training data\n",
        "mnist_dataset = MNIST('mnist', train=True, transform=ToTensor(), download=True)\n",
        "print('Cantidad total de datos:',len(mnist_dataset))"
      ],
      "execution_count": null,
      "outputs": [
        {
          "output_type": "stream",
          "name": "stdout",
          "text": [
            "Downloading http://yann.lecun.com/exdb/mnist/train-images-idx3-ubyte.gz\n",
            "Downloading http://yann.lecun.com/exdb/mnist/train-images-idx3-ubyte.gz to mnist/MNIST/raw/train-images-idx3-ubyte.gz\n"
          ]
        },
        {
          "output_type": "display_data",
          "data": {
            "application/vnd.jupyter.widget-view+json": {
              "model_id": "df91f358e08a4adcb452e3f620044106",
              "version_minor": 0,
              "version_major": 2
            },
            "text/plain": [
              "  0%|          | 0/9912422 [00:00<?, ?it/s]"
            ]
          },
          "metadata": {}
        },
        {
          "output_type": "stream",
          "name": "stdout",
          "text": [
            "Extracting mnist/MNIST/raw/train-images-idx3-ubyte.gz to mnist/MNIST/raw\n",
            "\n",
            "Downloading http://yann.lecun.com/exdb/mnist/train-labels-idx1-ubyte.gz\n",
            "Downloading http://yann.lecun.com/exdb/mnist/train-labels-idx1-ubyte.gz to mnist/MNIST/raw/train-labels-idx1-ubyte.gz\n"
          ]
        },
        {
          "output_type": "display_data",
          "data": {
            "application/vnd.jupyter.widget-view+json": {
              "model_id": "e01bf1d706344067a53ea71fd198d6d3",
              "version_minor": 0,
              "version_major": 2
            },
            "text/plain": [
              "  0%|          | 0/28881 [00:00<?, ?it/s]"
            ]
          },
          "metadata": {}
        },
        {
          "output_type": "stream",
          "name": "stdout",
          "text": [
            "Extracting mnist/MNIST/raw/train-labels-idx1-ubyte.gz to mnist/MNIST/raw\n",
            "\n",
            "Downloading http://yann.lecun.com/exdb/mnist/t10k-images-idx3-ubyte.gz\n",
            "Downloading http://yann.lecun.com/exdb/mnist/t10k-images-idx3-ubyte.gz to mnist/MNIST/raw/t10k-images-idx3-ubyte.gz\n"
          ]
        },
        {
          "output_type": "display_data",
          "data": {
            "application/vnd.jupyter.widget-view+json": {
              "model_id": "6b8c7b93d03445c8bfa5c96fce4b05d7",
              "version_minor": 0,
              "version_major": 2
            },
            "text/plain": [
              "  0%|          | 0/1648877 [00:00<?, ?it/s]"
            ]
          },
          "metadata": {}
        },
        {
          "output_type": "stream",
          "name": "stdout",
          "text": [
            "Extracting mnist/MNIST/raw/t10k-images-idx3-ubyte.gz to mnist/MNIST/raw\n",
            "\n",
            "Downloading http://yann.lecun.com/exdb/mnist/t10k-labels-idx1-ubyte.gz\n",
            "Downloading http://yann.lecun.com/exdb/mnist/t10k-labels-idx1-ubyte.gz to mnist/MNIST/raw/t10k-labels-idx1-ubyte.gz\n"
          ]
        },
        {
          "output_type": "display_data",
          "data": {
            "application/vnd.jupyter.widget-view+json": {
              "model_id": "e477c2c4013e49ebb86fb098618b91cb",
              "version_minor": 0,
              "version_major": 2
            },
            "text/plain": [
              "  0%|          | 0/4542 [00:00<?, ?it/s]"
            ]
          },
          "metadata": {}
        },
        {
          "output_type": "stream",
          "name": "stdout",
          "text": [
            "Extracting mnist/MNIST/raw/t10k-labels-idx1-ubyte.gz to mnist/MNIST/raw\n",
            "\n",
            "Cantidad total de datos: 60000\n"
          ]
        },
        {
          "output_type": "stream",
          "name": "stderr",
          "text": [
            "/usr/local/lib/python3.7/dist-packages/torchvision/datasets/mnist.py:498: UserWarning: The given NumPy array is not writeable, and PyTorch does not support non-writeable tensors. This means you can write to the underlying (supposedly non-writeable) NumPy array using the tensor. You may want to copy the array to protect its data or make it writeable before converting it to a tensor. This type of warning will be suppressed for the rest of this program. (Triggered internally at  /pytorch/torch/csrc/utils/tensor_numpy.cpp:180.)\n",
            "  return torch.from_numpy(parsed.astype(m[2], copy=False)).view(*s)\n"
          ]
        }
      ]
    },
    {
      "cell_type": "code",
      "metadata": {
        "id": "EZCLqGxwvBVl"
      },
      "source": [
        "from tqdm import tqdm\n",
        "def entrenar_FFNN(red, dataset, optimizador, epochs=1, batch_size=1, device='cuda'):\n",
        "  red.to(device)\n",
        "\n",
        "  # Inicialicemos un DataLoader para los ejemplos de dataset\n",
        "  data = DataLoader(dataset, batch_size, shuffle=True)\n",
        "  total=len(dataset)\n",
        "\n",
        "  # Comienza el entrenamiento\n",
        "  loss, acc = [], []\n",
        "  for e in tqdm(range(1,epochs+1)):\n",
        "    for x, y in data: #size(x) = (B,1,28,28)\n",
        "      #x = x.view(x.shape[0],-1)      #size(x) = (B,28*28)\n",
        "      #x, y = x.to(device), y.to(device)\n",
        "      x, y = x.view(x.size(0), -1).float().to(device), y.to(device)\n",
        "\n",
        "      y_pred = red(x)\n",
        "      y_onehot = torch.zeros_like(y_pred)\n",
        "      y_onehot[torch.arange(x.size(0)), y] = 1.\n",
        "\n",
        "      red.backward(x, y_onehot, y_pred)\n",
        "\n",
        "      optimizador.step()\n",
        "\n",
        "    #Calculo de acc en cada epoca\n",
        "    X = dataset.data.view(len(dataset), -1).float().to(device)\n",
        "    Y = dataset.targets.to(device)\n",
        "    Y_PRED = red.forward(X,predict=True).to(device)\n",
        "\n",
        "    Y_onehot = torch.zeros_like(Y_PRED)\n",
        "    Y_onehot[torch.arange(X.size(0)), Y] = 1.\n",
        "\n",
        "    L_total = CELoss(Y_PRED, Y_onehot)\n",
        "    loss.append(L_total)\n",
        "    diff = Y-torch.argmax(Y_PRED,1)\n",
        "    errores = torch.nonzero(diff).size(0)\n",
        "\n",
        "    Acc=100*(total-errores)/total\n",
        "    acc.append(Acc)\n",
        "\n",
        "\n",
        "  return loss, acc"
      ],
      "execution_count": null,
      "outputs": []
    },
    {
      "cell_type": "code",
      "metadata": {
        "colab": {
          "base_uri": "https://localhost:8080/",
          "height": 591
        },
        "id": "rEe3L0SqDEXY",
        "outputId": "7185b3d6-2245-4418-d634-7ccf4f7d3d61"
      },
      "source": [
        "red = FFNN(784, [512, 1024, 128], [relu, relu, relu], [None,None,None], 10, l_keep_prob=[1.0, 0.7, 0.5]) #red = FFNN(F, [50,30], [relu,sig], C)\n",
        "optimizer = SGD(red.parameters(), lr=1e-5, beta=0) #optimizador = SGD(red.parameters(), 0.001)\n",
        "\n",
        "with torch.no_grad():\n",
        "  loss, acc = entrenar_FFNN(red, mnist_dataset, optimizer, epochs=20, batch_size=32, device='cuda')\n",
        "\n",
        "plot_results(loss,acc)"
      ],
      "execution_count": null,
      "outputs": [
        {
          "output_type": "stream",
          "name": "stderr",
          "text": [
            "100%|██████████| 20/20 [07:28<00:00, 22.41s/it]\n"
          ]
        },
        {
          "output_type": "display_data",
          "data": {
            "image/png": "[encoded data removed]",
            "text/plain": [
              "<Figure size 432x288 with 1 Axes>"
            ]
          },
          "metadata": {
            "needs_background": "light"
          }
        },
        {
          "output_type": "display_data",
          "data": {
            "image/png": "[encoded data removed]",
            "text/plain": [
              "<Figure size 432x288 with 1 Axes>"
            ]
          },
          "metadata": {
            "needs_background": "light"
          }
        }
      ]
    },
    {
      "cell_type": "code",
      "metadata": {
        "colab": {
          "base_uri": "https://localhost:8080/",
          "height": 591
        },
        "id": "wkYaXErPvK6r",
        "outputId": "2771bfcd-281d-4bd0-8a8e-5395f32830f4"
      },
      "source": [
        "red = FFNN(784, [512, 1024, 128], [relu, relu, relu], [None,None,None], 10, l_keep_prob=[1.0, 1.0, 1.0]) #red = FFNN(F, [50,30], [relu,sig], C)\n",
        "optimizer = SGD(red.parameters(), lr=1e-5, beta=0) #optimizador = SGD(red.parameters(), 0.001)\n",
        "\n",
        "with torch.no_grad():\n",
        "  loss, acc = entrenar_FFNN(red, mnist_dataset, optimizer, epochs=30, batch_size=32, device='cuda')\n",
        "\n",
        "plot_results(loss,acc)"
      ],
      "execution_count": null,
      "outputs": [
        {
          "output_type": "stream",
          "name": "stderr",
          "text": [
            "100%|██████████| 30/30 [08:29<00:00, 16.99s/it]\n"
          ]
        },
        {
          "output_type": "display_data",
          "data": {
            "image/png": "[encoded data removed]",
            "text/plain": [
              "<Figure size 432x288 with 1 Axes>"
            ]
          },
          "metadata": {
            "needs_background": "light"
          }
        },
        {
          "output_type": "display_data",
          "data": {
            "image/png": "[encoded data removed]",
            "text/plain": [
              "<Figure size 432x288 with 1 Axes>"
            ]
          },
          "metadata": {
            "needs_background": "light"
          }
        }
      ]
    },
    {
      "cell_type": "markdown",
      "metadata": {
        "id": "EwedMCZjXDSw"
      },
      "source": [
        "# Parte 2: Optimización"
      ]
    },
    {
      "cell_type": "markdown",
      "metadata": {
        "id": "nftKKxlBXDSx"
      },
      "source": [
        "## 2a) Inicialización de Xavier/He"
      ]
    },
    {
      "cell_type": "markdown",
      "metadata": {
        "id": "yxEVEoeJTq81"
      },
      "source": [
        "Para los test de esta parte vamos a necesitar que modifiques tu código para que se pueda entregar valores predeterminados de `r`. Ahora tu código para las inicializaciones debe ser: `xavier_init(first_dim, second_dim, r=None)`, `he_init(first_dim, second_dim, r=None)`."
      ]
    },
    {
      "cell_type": "code",
      "metadata": {
        "id": "F7DHcaQDTimb"
      },
      "source": [
        "# Tu código debiera continuar como sigue\n",
        "from numpy import sqrt\n",
        "def xavier_init(first_dim, second_dim, r=None):\n",
        "  if(r==None):\n",
        "    W_xr = torch.randn(first_dim, second_dim) * sqrt( 1 / first_dim )\n",
        "  else:\n",
        "    W_xr = r * sqrt( 1 / first_dim )\n",
        "\n",
        "  return W_xr\n",
        "\n",
        "def he_init(first_dim, second_dim, r=None):\n",
        "  if(r==None):\n",
        "    W_he = torch.randn(first_dim, second_dim) * sqrt( 2 / first_dim )\n",
        "  else:\n",
        "    W_he = r * sqrt( 2 / first_dim )\n",
        "  return W_he"
      ],
      "execution_count": null,
      "outputs": []
    },
    {
      "cell_type": "code",
      "metadata": {
        "id": "7Rl25Jr5UAgv",
        "colab": {
          "base_uri": "https://localhost:8080/"
        },
        "outputId": "36aa6b39-6246-445f-f46f-ebdb1cd3e9ad"
      },
      "source": [
        "# Tests del API del curso\n",
        "r_xavier = corrector.get_test_data(homework=3, question=\"2a\", test=1, token=token)\n",
        "r_he = corrector.get_test_data(homework=3, question=\"2a\", test=2, token=token)\n",
        "\n",
        "w_xavier = xavier_init(50, 50, torch.tensor(r_xavier))\n",
        "w_he = he_init(50, 50, torch.tensor(r_he))\n",
        "\n",
        "corrector.submit(homework=3, question=\"2a\", test=1, token=token, answer=w_xavier)\n",
        "corrector.submit(homework=3, question=\"2a\", test=2, token=token, answer=w_he)"
      ],
      "execution_count": null,
      "outputs": [
        {
          "output_type": "stream",
          "name": "stdout",
          "text": [
            "Correct Test!\n",
            "Correct Test!\n"
          ]
        }
      ]
    },
    {
      "cell_type": "markdown",
      "metadata": {
        "id": "Nzp5SWKBXDSy"
      },
      "source": [
        "## 2b) Descenso de gradiente con momentum"
      ]
    },
    {
      "cell_type": "code",
      "metadata": {
        "id": "whoBUewrUgWB"
      },
      "source": [
        "class SGD():\n",
        "  def __init__(self, parameters, lr, beta=0, momentum=0):\n",
        "    self.params = [p for p in parameters if p is not None]\n",
        "    self.lr = lr\n",
        "    self.momentum = momentum\n",
        "    self.beta = beta\n",
        "    self.v = [None for p in self.params]\n",
        "\n",
        "  def step(self):\n",
        "    # actualiza acá los parámetros a partir de los gradientes\n",
        "    # y considerando el valor de momentum que acabámos de agregar\n",
        "    for i, p in enumerate(self.params):\n",
        "      if(self.v[i] == None):\n",
        "        self.v[i] = torch.zeros_like(p.data)\n",
        "\n",
        "      self.v[i] = self.momentum * self.v[i] - self.lr * p.grad\n",
        "      p.data = (1-self.beta)*p.data + self.v[i] #p.data = (1-self.beta)*p.data - self.lr * p.grad"
      ],
      "execution_count": null,
      "outputs": []
    },
    {
      "cell_type": "code",
      "metadata": {
        "id": "8WIcvmWUVl9r",
        "colab": {
          "base_uri": "https://localhost:8080/"
        },
        "outputId": "e9abb5a3-d173-45bf-c65c-e34ffac1078c"
      },
      "source": [
        "# Tests del API del curso\n",
        "weight, grad = corrector.get_test_data(homework=3, question=\"2b\", test=1, token=token)\n",
        "\n",
        "weight = torch.tensor(weight, requires_grad=True)\n",
        "weight.grad = torch.tensor(grad)\n",
        "\n",
        "optimizer = SGD([weight], lr=0.1, momentum=0.9)\n",
        "optimizer.step()\n",
        "\n",
        "# Submit\n",
        "corrector.submit(homework=3, question=\"2b\", test=1, token=token, answer=weight)\n",
        "optimizer.step()\n",
        "corrector.submit(homework=3, question=\"2b\", test=2, token=token, answer=weight)"
      ],
      "execution_count": null,
      "outputs": [
        {
          "output_type": "stream",
          "name": "stdout",
          "text": [
            "Correct Test!\n",
            "Correct Test!\n"
          ]
        }
      ]
    },
    {
      "cell_type": "markdown",
      "metadata": {
        "id": "1WNYoTIHXDS0"
      },
      "source": [
        "## 2c) RMSProp"
      ]
    },
    {
      "cell_type": "code",
      "metadata": {
        "id": "IjLGmGoXV_kG"
      },
      "source": [
        "# Tu código acá\n",
        "\n",
        "class RMSProp():\n",
        "  def __init__(self, parameters, lr=0.001, beta=0.9, epsilon=1e-8):\n",
        "    self.params = [p for p in parameters if p is not None]\n",
        "    self.lr = lr\n",
        "    self.beta = beta\n",
        "    self.epsilon = epsilon\n",
        "    self.s = [None for p in self.params]\n",
        "\n",
        "  def step(self):\n",
        "    for i, p in enumerate(self.params):\n",
        "      if(self.s[i] == None):\n",
        "        self.s[i] = torch.zeros_like(p.data)\n",
        "\n",
        "      self.s[i] = self.beta * self.s[i] + (1 - self.beta) * (p.grad * p.grad)       #self.momentum * self.v - self.lr * p.grad\n",
        "      p.data = p.data -  (self.lr / (sqrt(self.s[i]) + self.epsilon) ) * p.grad                                            #p.data = (1-self.beta)*p.data - self.lr * p.grad"
      ],
      "execution_count": null,
      "outputs": []
    },
    {
      "cell_type": "code",
      "metadata": {
        "id": "PNnw6obOWDC4",
        "colab": {
          "base_uri": "https://localhost:8080/"
        },
        "outputId": "8b5e315d-9a26-459f-c20b-a33e08cbe0fd"
      },
      "source": [
        "# Tests del API del curso\n",
        "weight, grad = corrector.get_test_data(homework=3, question=\"2c\", test=1, token=token)\n",
        "\n",
        "weight = torch.tensor(weight, requires_grad=True)\n",
        "weight.grad = torch.tensor(grad)\n",
        "\n",
        "optimizer = RMSProp([weight], lr=0.001, beta=0.9, epsilon=1e-8)\n",
        "optimizer.step()\n",
        "\n",
        "# Submit\n",
        "corrector.submit(homework=3, question=\"2c\", test=1, token=token, answer=weight)\n",
        "optimizer.step()\n",
        "corrector.submit(homework=3, question=\"2c\", test=2, token=token, answer=weight)"
      ],
      "execution_count": null,
      "outputs": [
        {
          "output_type": "stream",
          "name": "stdout",
          "text": [
            "Using cached test data\n",
            "Correct Test!\n",
            "Correct Test!\n"
          ]
        }
      ]
    },
    {
      "cell_type": "markdown",
      "metadata": {
        "id": "QJTTDpeTWTwY"
      },
      "source": [
        "## 2d) Adam"
      ]
    },
    {
      "cell_type": "code",
      "metadata": {
        "id": "ola7FuFdWZH6"
      },
      "source": [
        "# Tu código acá\n",
        "\n",
        "class Adam():\n",
        "  def __init__(self, parameters, lr=0.001, beta1=0.9, beta2=0.999, epsilon=1e-8):\n",
        "    self.params = [p for p in parameters if p is not None]\n",
        "    self.lr = lr\n",
        "    self.beta1 = beta1\n",
        "    self.beta2 = beta2\n",
        "    self.epsilon = epsilon\n",
        "    self.p = [None for p in self.params]\n",
        "    self.s = [None for p in self.params]\n",
        "    self.n = 1\n",
        "\n",
        "  def step(self):\n",
        "    for i, par in enumerate(self.params):\n",
        "      if(self.p[i] == None):\n",
        "        self.p[i] = torch.zeros_like(par.data)\n",
        "      if(self.s[i] == None):\n",
        "        self.s[i] = torch.zeros_like(par.data) # self.s = self.beta * self.s + (1 - self.beta) * (p.grad * p.grad)\n",
        "\n",
        "      self.p[i] = self.beta1 * self.p[i] + (1 - self.beta1) * par.grad\n",
        "      self.s[i] = self.beta2 * self.s[i] + (1 - self.beta2) * (par.grad * par.grad)\n",
        "\n",
        "      p_m = self.p[i] / (1 - self.beta1 ** self.n)\n",
        "      s_m = self.s[i] / (1 - self.beta2 ** self.n)\n",
        "\n",
        "      self.n += 1\n",
        "\n",
        "      par.data = par.data -  (self.lr / (sqrt(s_m) + self.epsilon) ) * p_m"
      ],
      "execution_count": null,
      "outputs": []
    },
    {
      "cell_type": "code",
      "metadata": {
        "id": "8OdCG4RjWeMJ",
        "colab": {
          "base_uri": "https://localhost:8080/"
        },
        "outputId": "02c7e265-1b19-415f-a161-5605d7ef3a16"
      },
      "source": [
        "# Tests del API del curso\n",
        "weight, grad = corrector.get_test_data(homework=3, question=\"2d\", test=1, token=token)\n",
        "\n",
        "weight = torch.tensor(weight, requires_grad=True)\n",
        "weight.grad = torch.tensor(grad)\n",
        "\n",
        "optimizer = Adam([weight], lr=0.001, beta1=0.9, beta2=0.999, epsilon=1e-8)\n",
        "optimizer.step()\n",
        "\n",
        "# Submit\n",
        "corrector.submit(homework=3, question=\"2d\", test=1, token=token, answer=weight)\n",
        "optimizer.step()\n",
        "corrector.submit_check_some(homework=3, question=\"2d\", tests=[2, 3], token=token,\n",
        "                            answer_dict={2: weight, 3: weight}, required_number=1)"
      ],
      "execution_count": null,
      "outputs": [
        {
          "output_type": "stream",
          "name": "stdout",
          "text": [
            "Correct Test!\n",
            "Correct Test!\n"
          ]
        }
      ]
    },
    {
      "cell_type": "markdown",
      "metadata": {
        "id": "isKfnQt_Wszx"
      },
      "source": [
        "## 2e) Entrenamiento en MNIST\n",
        "\n",
        "Usa tu red neuronal para entrenar con los datos de MNIST y compara cómo cambian las curvas de entrenamiento dependiendo de factores como la inicialización y los algoritmos que utilices. Presenta al menos dos gráficos en donde compares. Por ejemplo, puedes presentar uno que para la misma estrategia de inicialización, los tres algoritmos de optimización para varias épocas y cómo evoluciona la pérdida y el acierto. En cada caso comenta que conclusiones puedes sacar. Algunos ejemplos de preguntas que podrías tratar de responder son:\n",
        "* ¿cómo afecta el algoritmo de optimización al tiempo de convergencia de la red para los datos de entrenamiento?\n",
        "* ¿cómo afecta el algoritmo de optimización en el acierto alcanzado por la red en los datos de prueba?\n",
        "* Si haces la parte opcional de Batch Normalization, puedes también preguntarte cosas como si aplicar, o no, BN afecta a todos los algoritmos de optimización por igual."
      ]
    },
    {
      "cell_type": "code",
      "metadata": {
        "id": "nl3FiBzeun67"
      },
      "source": [
        "# Tu código debiera continuar como sigue\n",
        "from torch.nn import Parameter, ParameterList\n",
        "\n",
        "class FFNN(torch.nn.Module): #red = FFNN(10, [1000], [sig], [None], 1, l_keep_prob=[1.0, 0.5]) /// red = FFNN(F, [50,30], [relu,sig], C)\n",
        "  def __init__(self, F, l_h, l_a, l_a_params, C, l_keep_prob):\n",
        "    super(FFNN, self).__init__()\n",
        "\n",
        "    #From sol tarea 2\n",
        "    sizes = [F] + l_h + [C] #En nuestro caso [784, 50, 30, 10]\n",
        "    self.Ws = ParameterList([Parameter(xavier_init(sizes[i], sizes[i+1])) for i in range(len(sizes)-1)])\n",
        "    self.bs = ParameterList([Parameter(torch.zeros(h)) for h in sizes[1:]])\n",
        "    self.fs = l_a\n",
        "    if l_a_params is not None:\n",
        "      self.fs_ps_mask = [Parameter(torch.tensor(p)) if p else None for p in l_a_params]\n",
        "    else:\n",
        "      self.fs_ps_mask = [None for _ in l_a]\n",
        "    self.fs_ps = ParameterList([p for p in self.fs_ps_mask if p])\n",
        "\n",
        "    self.l_keep_prob = l_keep_prob\n",
        "\n",
        "  def forward(self, x, predict=False):\n",
        "    self.cacheU = [] #, self.cacheH = [], []\n",
        "    self.cacheM = []\n",
        "    i = 0\n",
        "    for W, b, f, p in zip(self.Ws[:-1], self.bs[:-1], self.fs, self.fs_ps_mask):\n",
        "      x = torch.mm(x, W) + b #u\n",
        "      self.cacheU.append(x)\n",
        "      x = f(x, p.item()) if p else f(x)  #h\n",
        "      if(not predict):\n",
        "        binomial = torch.distributions.binomial.Binomial(probs=self.l_keep_prob[i])\n",
        "        i += 1\n",
        "        b_mask  =  binomial.sample(x.size())#.to('cuda')\n",
        "        self.cacheM.append(b_mask)\n",
        "        x = (x * b_mask)\n",
        "\n",
        "    return softmax(torch.mm(x, self.Ws[-1]) + self.bs[-1], dim=1)\n",
        "\n",
        "  def backward(self, x, y, y_pred):\n",
        "    current_grad = (y_pred - y) / y.size(0)\n",
        "\n",
        "    for i in range(len(self.Ws)-1, 0, -1):\n",
        "      if self.fs_ps_mask[i-1] is None:\n",
        "        # funcion de activacion sin parametro\n",
        "        self.Ws[i].grad = self.fs[i-1](self.cacheU[i-1]).t() @ current_grad\n",
        "      else:\n",
        "        # funcion de activacion con parametro\n",
        "        self.Ws[i].grad = self.fs[i-1](self.cacheU[i-1], self.fs_ps_mask[i-1].item()).t() @ current_grad\n",
        "      self.bs[i].grad = current_grad.sum(dim=0)\n",
        "      h_grad = current_grad @ self.Ws[i].t()\n",
        "\n",
        "      if self.fs_ps_mask[i-1] is None:\n",
        "        # funcion de activacion sin parametro\n",
        "        current_grad = self.fs[i-1](self.cacheU[i-1], gradient=True) * h_grad\n",
        "      else:\n",
        "        # funcion de activacion con parametro\n",
        "        current_grad, p_grad = self.fs[i-1](self.cacheU[i-1], self.fs_ps_mask[i-1], gradient=True)\n",
        "        current_grad *= h_grad\n",
        "        self.fs_ps_mask[i-1].grad = (p_grad * h_grad).sum()\n",
        "\n",
        "    self.Ws[0].grad = x.t() @ current_grad\n",
        "    self.bs[0].grad = current_grad.sum(dim=0)"
      ],
      "execution_count": null,
      "outputs": []
    },
    {
      "cell_type": "code",
      "metadata": {
        "id": "ccy31ejpWt3P",
        "colab": {
          "base_uri": "https://localhost:8080/",
          "height": 591
        },
        "outputId": "2052f228-1e09-42f3-96de-35490f2a1617"
      },
      "source": [
        "red = FFNN(784, [512, 1024, 128], [relu, relu, relu], [None,None,None], 10, l_keep_prob=[1.0, 0.7, 0.5]) #red = FFNN(F, [50,30], [relu,sig], C)\n",
        "optimizer = SGD(red.parameters(), lr=1e-2, beta=0) #optimizador = SGD(red.parameters(), 0.001)\n",
        "#optimizer = SGD([weight], lr=1e-5, momentum=0.9)\n",
        "\n",
        "with torch.no_grad():\n",
        "  loss, acc = entrenar_FFNN(red, mnist_dataset, optimizer, epochs=25, batch_size=32, device='cpu')\n",
        "\n",
        "plot_results(loss,acc)"
      ],
      "execution_count": null,
      "outputs": [
        {
          "output_type": "stream",
          "name": "stderr",
          "text": [
            "100%|██████████| 25/25 [23:50<00:00, 57.23s/it]\n"
          ]
        },
        {
          "output_type": "display_data",
          "data": {
            "image/png": "[encoded data removed]",
            "text/plain": [
              "<Figure size 432x288 with 1 Axes>"
            ]
          },
          "metadata": {
            "needs_background": "light"
          }
        },
        {
          "output_type": "display_data",
          "data": {
            "image/png": "[encoded data removed]",
            "text/plain": [
              "<Figure size 432x288 with 1 Axes>"
            ]
          },
          "metadata": {
            "needs_background": "light"
          }
        }
      ]
    },
    {
      "cell_type": "markdown",
      "metadata": {
        "id": "ZxVml6D4KjlW"
      },
      "source": [
        "Comparando este gráfico con los de SGD anteriores, se aprecia que se necesitan menos epocas para lograr una buena presición, es decir converge antes.\n"
      ]
    },
    {
      "cell_type": "code",
      "metadata": {
        "colab": {
          "base_uri": "https://localhost:8080/",
          "height": 591
        },
        "id": "l3nbx0DcXNry",
        "outputId": "2ce49d31-0bdc-491d-a13d-45e375902681"
      },
      "source": [
        "red = FFNN(784, [512, 1024, 128], [relu, relu, relu], [None,None,None], 10, l_keep_prob=[1.0, 0.7, 0.5]) #red = FFNN(F, [50,30], [relu,sig], C)\n",
        "#optimizer = SGD(red.parameters(), lr=1e-2, beta=0) #optimizador = SGD(red.parameters(), 0.001)\n",
        "optimizer = SGD(red.parameters(), lr=1e-3, momentum=0.9)\n",
        "\n",
        "with torch.no_grad():\n",
        "  loss, acc = entrenar_FFNN(red, mnist_dataset, optimizer, epochs=25, batch_size=32, device='cpu')\n",
        "\n",
        "plot_results(loss,acc)"
      ],
      "execution_count": null,
      "outputs": [
        {
          "output_type": "stream",
          "name": "stderr",
          "text": [
            "100%|██████████| 25/25 [24:18<00:00, 58.33s/it]\n"
          ]
        },
        {
          "output_type": "display_data",
          "data": {
            "image/png": "[encoded data removed]",
            "text/plain": [
              "<Figure size 432x288 with 1 Axes>"
            ]
          },
          "metadata": {
            "needs_background": "light"
          }
        },
        {
          "output_type": "display_data",
          "data": {
            "image/png": "[encoded data removed]",
            "text/plain": [
              "<Figure size 432x288 with 1 Axes>"
            ]
          },
          "metadata": {
            "needs_background": "light"
          }
        }
      ]
    },
    {
      "cell_type": "markdown",
      "metadata": {
        "id": "mWQQIeUPLMDm"
      },
      "source": [
        "Al utilizar momentun no se observa un cambio tan grande, pero cabe destacar que el gráfico de Loss tiene una variación más leve con respecto al optimizador sin momentum."
      ]
    },
    {
      "cell_type": "code",
      "metadata": {
        "colab": {
          "base_uri": "https://localhost:8080/",
          "height": 591
        },
        "id": "0QRTbdl7cq2v",
        "outputId": "9474ee41-a80c-4db0-d32e-cc001c133b9f"
      },
      "source": [
        "red = FFNN(784, [512, 1024, 128], [relu, relu, relu], [None,None,None], 10, l_keep_prob=[1.0, 0.7, 0.5]) #red = FFNN(F, [50,30], [relu,sig], C)\n",
        "#optimizer = SGD(red.parameters(), lr=1e-2, beta=0) #optimizador = SGD(red.parameters(), 0.001)\n",
        "optimizer = SGD(red.parameters(), lr=1e-1, momentum=0.9)\n",
        "\n",
        "with torch.no_grad():\n",
        "  loss, acc = entrenar_FFNN(red, mnist_dataset, optimizer, epochs=25, batch_size=32, device='cpu')\n",
        "\n",
        "plot_results(loss,acc)"
      ],
      "execution_count": null,
      "outputs": [
        {
          "output_type": "stream",
          "name": "stderr",
          "text": [
            "100%|██████████| 25/25 [17:21<00:00, 41.66s/it]\n"
          ]
        },
        {
          "output_type": "display_data",
          "data": {
            "image/png": "[encoded data removed]",
            "text/plain": [
              "<Figure size 432x288 with 1 Axes>"
            ]
          },
          "metadata": {
            "needs_background": "light"
          }
        },
        {
          "output_type": "display_data",
          "data": {
            "image/png": "[encoded data removed]",
            "text/plain": [
              "<Figure size 432x288 with 1 Axes>"
            ]
          },
          "metadata": {
            "needs_background": "light"
          }
        }
      ]
    },
    {
      "cell_type": "markdown",
      "metadata": {
        "id": "pn1KkVRSLhAb"
      },
      "source": [
        "Aca se utiliza un lr más grande y tampoco hay una variación tan grande"
      ]
    },
    {
      "cell_type": "code",
      "metadata": {
        "colab": {
          "base_uri": "https://localhost:8080/",
          "height": 591
        },
        "id": "d-VubeNppWBF",
        "outputId": "f5eaf779-111d-4512-c048-12388e608f89"
      },
      "source": [
        "red = FFNN(784, [512, 1024, 128], [relu, relu, relu], [None,None,None], 10, l_keep_prob=[1.0, 0.7, 0.5]) #red = FFNN(F, [50,30], [relu,sig], C)\n",
        "#optimizer = SGD(red.parameters(), lr=1e-2, beta=0) #optimizador = SGD(red.parameters(), 0.001)\n",
        "#optimizer = SGD(red.parameters(), lr=1e-1, momentum=0.9)\n",
        "optimizer = RMSProp(red.parameters(), lr=1e-1, beta=0.9, epsilon=1e-8)\n",
        "\n",
        "with torch.no_grad():\n",
        "  loss, acc = entrenar_FFNN(red, mnist_dataset, optimizer, epochs=25, batch_size=32, device='cpu')\n",
        "\n",
        "plot_results(loss,acc)"
      ],
      "execution_count": null,
      "outputs": [
        {
          "output_type": "stream",
          "name": "stderr",
          "text": [
            "100%|██████████| 25/25 [40:09<00:00, 96.39s/it]\n"
          ]
        },
        {
          "output_type": "display_data",
          "data": {
            "image/png": "[encoded data removed]",
            "text/plain": [
              "<Figure size 432x288 with 1 Axes>"
            ]
          },
          "metadata": {
            "needs_background": "light"
          }
        },
        {
          "output_type": "display_data",
          "data": {
            "image/png": "[encoded data removed]",
            "text/plain": [
              "<Figure size 432x288 with 1 Axes>"
            ]
          },
          "metadata": {
            "needs_background": "light"
          }
        }
      ]
    },
    {
      "cell_type": "markdown",
      "metadata": {
        "id": "bIYFwhIXLvTY"
      },
      "source": [
        "En esto caso los graficos no convergen en 25 epocas, una razón es porque el beta es muy grande, por lo que la ponderación realizada en RMSProp modifica muy poco los pesos en cada optimización"
      ]
    },
    {
      "cell_type": "code",
      "metadata": {
        "colab": {
          "base_uri": "https://localhost:8080/",
          "height": 591
        },
        "id": "_kTupc5X3rwp",
        "outputId": "9d49459a-b32b-4a70-f450-0451a3f35932"
      },
      "source": [
        "red = FFNN(784, [512, 1024, 128], [relu, relu, relu], [None,None,None], 10, l_keep_prob=[1.0, 0.7, 0.5]) #red = FFNN(F, [50,30], [relu,sig], C)\n",
        "#optimizer = SGD(red.parameters(), lr=1e-2, beta=0) #optimizador = SGD(red.parameters(), 0.001)\n",
        "#optimizer = SGD(red.parameters(), lr=1e-1, momentum=0.9)\n",
        "#optimizer = RMSProp(red.parameters(), lr=1e-1, beta=0.9, epsilon=1e-8)\n",
        "optimizer = Adam(red.parameters(), lr=0.001, beta1=0.9, beta2=0.999, epsilon=1e-8)\n",
        "\n",
        "with torch.no_grad():\n",
        "  loss, acc = entrenar_FFNN(red, mnist_dataset, optimizer, epochs=25, batch_size=32, device='cpu')\n",
        "\n",
        "plot_results(loss,acc)\n"
      ],
      "execution_count": null,
      "outputs": [
        {
          "output_type": "stream",
          "name": "stderr",
          "text": [
            "100%|██████████| 25/25 [45:03<00:00, 108.12s/it]\n"
          ]
        },
        {
          "output_type": "display_data",
          "data": {
            "image/png": "[encoded data removed]",
            "text/plain": [
              "<Figure size 432x288 with 1 Axes>"
            ]
          },
          "metadata": {
            "needs_background": "light"
          }
        },
        {
          "output_type": "display_data",
          "data": {
            "image/png": "[encoded data removed]",
            "text/plain": [
              "<Figure size 432x288 with 1 Axes>"
            ]
          },
          "metadata": {
            "needs_background": "light"
          }
        }
      ]
    },
    {
      "cell_type": "markdown",
      "metadata": {
        "id": "N9BrDDD7MByM"
      },
      "source": [
        "Esto también se aprecia con Adam, pero la variación de loss es menos que RMSProp"
      ]
    },
    {
      "cell_type": "markdown",
      "metadata": {
        "id": "0n29s-6zXDS1"
      },
      "source": [
        "# Parte 3 (Opcional): Batch Normalization"
      ]
    },
    {
      "cell_type": "code",
      "metadata": {
        "id": "ytN2y-FMXDS3"
      },
      "source": [
        "# Tu código debiera continuar como sigue\n",
        "\n",
        "class FFNN():\n",
        "  def __init__(self, F, l_h, l_a, l_a_params, C, l_keep_prob, bn=None):\n",
        "    # debes crear los parámetros necesarios para las capas de\n",
        "    # batch normalizacion\n",
        "    pass\n",
        "\n",
        "  def forward(x, predict=False):\n",
        "    # debes modificar esta función para considerar las capas para las que se\n",
        "    # usará batch normalization\n",
        "    # también debes preocuparte de guardar los datos estadísticos que se\n",
        "    # usaran en tiempo de test (predict=True)\n",
        "    pass\n",
        "\n",
        "  def backward(x,y,y_pred):\n",
        "    # computar acá todos los gradientes considerando las capas de\n",
        "    # batch normalization\n",
        "    # no olvides considerar los nuevos parámetros entrenables.\n",
        "    pass"
      ],
      "execution_count": null,
      "outputs": []
    }
  ]
}