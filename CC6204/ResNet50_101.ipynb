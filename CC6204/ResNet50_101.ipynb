{
  "nbformat": 4,
  "nbformat_minor": 0,
  "metadata": {
    "accelerator": "GPU",
    "colab": {
      "provenance": [],
      "collapsed_sections": [
        "kmALm7EtpFow",
        "PTd9gUB5xwta"
      ]
    },
    "kernelspec": {
      "display_name": "Python 3",
      "name": "python3"
    },
    "widgets": {
      "application/vnd.jupyter.widget-state+json": {
        "016d82fcf9664f129fb985ae5f1c1512": {
          "model_module": "@jupyter-widgets/controls",
          "model_name": "HBoxModel",
          "model_module_version": "1.5.0",
          "state": {
            "_view_name": "HBoxView",
            "_dom_classes": [],
            "_model_name": "HBoxModel",
            "_view_module": "@jupyter-widgets/controls",
            "_model_module_version": "1.5.0",
            "_view_count": null,
            "_view_module_version": "1.5.0",
            "box_style": "",
            "layout": "IPY_MODEL_6b195b90a41e4abda4640e62816f8f34",
            "_model_module": "@jupyter-widgets/controls",
            "children": [
              "IPY_MODEL_b47ccc38b03b410e915ad8ad39921b28",
              "IPY_MODEL_083713bdecfb44ff9897ac88a71d037c",
              "IPY_MODEL_6f9edbac0a114dbaa5e95e88fbf68513"
            ]
          }
        },
        "6b195b90a41e4abda4640e62816f8f34": {
          "model_module": "@jupyter-widgets/base",
          "model_name": "LayoutModel",
          "model_module_version": "1.2.0",
          "state": {
            "_view_name": "LayoutView",
            "grid_template_rows": null,
            "right": null,
            "justify_content": null,
            "_view_module": "@jupyter-widgets/base",
            "overflow": null,
            "_model_module_version": "1.2.0",
            "_view_count": null,
            "flex_flow": null,
            "width": null,
            "min_width": null,
            "border": null,
            "align_items": null,
            "bottom": null,
            "_model_module": "@jupyter-widgets/base",
            "top": null,
            "grid_column": null,
            "overflow_y": null,
            "overflow_x": null,
            "grid_auto_flow": null,
            "grid_area": null,
            "grid_template_columns": null,
            "flex": null,
            "_model_name": "LayoutModel",
            "justify_items": null,
            "grid_row": null,
            "max_height": null,
            "align_content": null,
            "visibility": null,
            "align_self": null,
            "height": null,
            "min_height": null,
            "padding": null,
            "grid_auto_rows": null,
            "grid_gap": null,
            "max_width": null,
            "order": null,
            "_view_module_version": "1.2.0",
            "grid_template_areas": null,
            "object_position": null,
            "object_fit": null,
            "grid_auto_columns": null,
            "margin": null,
            "display": null,
            "left": null
          }
        },
        "b47ccc38b03b410e915ad8ad39921b28": {
          "model_module": "@jupyter-widgets/controls",
          "model_name": "HTMLModel",
          "model_module_version": "1.5.0",
          "state": {
            "_view_name": "HTMLView",
            "style": "IPY_MODEL_9aae79cfd1064799a5183bb9bd9fc3a9",
            "_dom_classes": [],
            "description": "",
            "_model_name": "HTMLModel",
            "placeholder": "​",
            "_view_module": "@jupyter-widgets/controls",
            "_model_module_version": "1.5.0",
            "value": "",
            "_view_count": null,
            "_view_module_version": "1.5.0",
            "description_tooltip": null,
            "_model_module": "@jupyter-widgets/controls",
            "layout": "IPY_MODEL_6b31a03ffe1b436abc69c817785d0646"
          }
        },
        "083713bdecfb44ff9897ac88a71d037c": {
          "model_module": "@jupyter-widgets/controls",
          "model_name": "FloatProgressModel",
          "model_module_version": "1.5.0",
          "state": {
            "_view_name": "ProgressView",
            "style": "IPY_MODEL_bc41c6f0cbb242d590d34bea08a02ade",
            "_dom_classes": [],
            "description": "",
            "_model_name": "FloatProgressModel",
            "bar_style": "success",
            "max": 170498071,
            "_view_module": "@jupyter-widgets/controls",
            "_model_module_version": "1.5.0",
            "value": 170498071,
            "_view_count": null,
            "_view_module_version": "1.5.0",
            "orientation": "horizontal",
            "min": 0,
            "description_tooltip": null,
            "_model_module": "@jupyter-widgets/controls",
            "layout": "IPY_MODEL_9cd8eecc5dce48c9986bda2017694beb"
          }
        },
        "6f9edbac0a114dbaa5e95e88fbf68513": {
          "model_module": "@jupyter-widgets/controls",
          "model_name": "HTMLModel",
          "model_module_version": "1.5.0",
          "state": {
            "_view_name": "HTMLView",
            "style": "IPY_MODEL_f88433cd565b43248b46270d2b1018f7",
            "_dom_classes": [],
            "description": "",
            "_model_name": "HTMLModel",
            "placeholder": "​",
            "_view_module": "@jupyter-widgets/controls",
            "_model_module_version": "1.5.0",
            "value": " 170499072/? [00:05&lt;00:00, 54313615.26it/s]",
            "_view_count": null,
            "_view_module_version": "1.5.0",
            "description_tooltip": null,
            "_model_module": "@jupyter-widgets/controls",
            "layout": "IPY_MODEL_5d2e2d5d45fe44fba633dc1c0ef2c6d9"
          }
        },
        "9aae79cfd1064799a5183bb9bd9fc3a9": {
          "model_module": "@jupyter-widgets/controls",
          "model_name": "DescriptionStyleModel",
          "model_module_version": "1.5.0",
          "state": {
            "_view_name": "StyleView",
            "_model_name": "DescriptionStyleModel",
            "description_width": "",
            "_view_module": "@jupyter-widgets/base",
            "_model_module_version": "1.5.0",
            "_view_count": null,
            "_view_module_version": "1.2.0",
            "_model_module": "@jupyter-widgets/controls"
          }
        },
        "6b31a03ffe1b436abc69c817785d0646": {
          "model_module": "@jupyter-widgets/base",
          "model_name": "LayoutModel",
          "model_module_version": "1.2.0",
          "state": {
            "_view_name": "LayoutView",
            "grid_template_rows": null,
            "right": null,
            "justify_content": null,
            "_view_module": "@jupyter-widgets/base",
            "overflow": null,
            "_model_module_version": "1.2.0",
            "_view_count": null,
            "flex_flow": null,
            "width": null,
            "min_width": null,
            "border": null,
            "align_items": null,
            "bottom": null,
            "_model_module": "@jupyter-widgets/base",
            "top": null,
            "grid_column": null,
            "overflow_y": null,
            "overflow_x": null,
            "grid_auto_flow": null,
            "grid_area": null,
            "grid_template_columns": null,
            "flex": null,
            "_model_name": "LayoutModel",
            "justify_items": null,
            "grid_row": null,
            "max_height": null,
            "align_content": null,
            "visibility": null,
            "align_self": null,
            "height": null,
            "min_height": null,
            "padding": null,
            "grid_auto_rows": null,
            "grid_gap": null,
            "max_width": null,
            "order": null,
            "_view_module_version": "1.2.0",
            "grid_template_areas": null,
            "object_position": null,
            "object_fit": null,
            "grid_auto_columns": null,
            "margin": null,
            "display": null,
            "left": null
          }
        },
        "bc41c6f0cbb242d590d34bea08a02ade": {
          "model_module": "@jupyter-widgets/controls",
          "model_name": "ProgressStyleModel",
          "model_module_version": "1.5.0",
          "state": {
            "_view_name": "StyleView",
            "_model_name": "ProgressStyleModel",
            "description_width": "",
            "_view_module": "@jupyter-widgets/base",
            "_model_module_version": "1.5.0",
            "_view_count": null,
            "_view_module_version": "1.2.0",
            "bar_color": null,
            "_model_module": "@jupyter-widgets/controls"
          }
        },
        "9cd8eecc5dce48c9986bda2017694beb": {
          "model_module": "@jupyter-widgets/base",
          "model_name": "LayoutModel",
          "model_module_version": "1.2.0",
          "state": {
            "_view_name": "LayoutView",
            "grid_template_rows": null,
            "right": null,
            "justify_content": null,
            "_view_module": "@jupyter-widgets/base",
            "overflow": null,
            "_model_module_version": "1.2.0",
            "_view_count": null,
            "flex_flow": null,
            "width": null,
            "min_width": null,
            "border": null,
            "align_items": null,
            "bottom": null,
            "_model_module": "@jupyter-widgets/base",
            "top": null,
            "grid_column": null,
            "overflow_y": null,
            "overflow_x": null,
            "grid_auto_flow": null,
            "grid_area": null,
            "grid_template_columns": null,
            "flex": null,
            "_model_name": "LayoutModel",
            "justify_items": null,
            "grid_row": null,
            "max_height": null,
            "align_content": null,
            "visibility": null,
            "align_self": null,
            "height": null,
            "min_height": null,
            "padding": null,
            "grid_auto_rows": null,
            "grid_gap": null,
            "max_width": null,
            "order": null,
            "_view_module_version": "1.2.0",
            "grid_template_areas": null,
            "object_position": null,
            "object_fit": null,
            "grid_auto_columns": null,
            "margin": null,
            "display": null,
            "left": null
          }
        },
        "f88433cd565b43248b46270d2b1018f7": {
          "model_module": "@jupyter-widgets/controls",
          "model_name": "DescriptionStyleModel",
          "model_module_version": "1.5.0",
          "state": {
            "_view_name": "StyleView",
            "_model_name": "DescriptionStyleModel",
            "description_width": "",
            "_view_module": "@jupyter-widgets/base",
            "_model_module_version": "1.5.0",
            "_view_count": null,
            "_view_module_version": "1.2.0",
            "_model_module": "@jupyter-widgets/controls"
          }
        },
        "5d2e2d5d45fe44fba633dc1c0ef2c6d9": {
          "model_module": "@jupyter-widgets/base",
          "model_name": "LayoutModel",
          "model_module_version": "1.2.0",
          "state": {
            "_view_name": "LayoutView",
            "grid_template_rows": null,
            "right": null,
            "justify_content": null,
            "_view_module": "@jupyter-widgets/base",
            "overflow": null,
            "_model_module_version": "1.2.0",
            "_view_count": null,
            "flex_flow": null,
            "width": null,
            "min_width": null,
            "border": null,
            "align_items": null,
            "bottom": null,
            "_model_module": "@jupyter-widgets/base",
            "top": null,
            "grid_column": null,
            "overflow_y": null,
            "overflow_x": null,
            "grid_auto_flow": null,
            "grid_area": null,
            "grid_template_columns": null,
            "flex": null,
            "_model_name": "LayoutModel",
            "justify_items": null,
            "grid_row": null,
            "max_height": null,
            "align_content": null,
            "visibility": null,
            "align_self": null,
            "height": null,
            "min_height": null,
            "padding": null,
            "grid_auto_rows": null,
            "grid_gap": null,
            "max_width": null,
            "order": null,
            "_view_module_version": "1.2.0",
            "grid_template_areas": null,
            "object_position": null,
            "object_fit": null,
            "grid_auto_columns": null,
            "margin": null,
            "display": null,
            "left": null
          }
        }
      }
    }
  },
  "cells": [
    {
      "cell_type": "code",
      "metadata": {
        "id": "64BkmYga3UN_"
      },
      "source": [
        "import os\n",
        "import sys\n",
        "import random\n",
        "import pickle\n",
        "\n",
        "import torch\n",
        "import torch.nn as nn\n",
        "import torch.nn.functional as F\n",
        "import torch.optim as optim\n",
        "from torch.utils.data import Dataset, DataLoader\n",
        "import numpy as np\n",
        "from scipy.spatial import distance\n",
        "\n",
        "import torchvision\n",
        "import torchvision.transforms as transforms"
      ],
      "execution_count": null,
      "outputs": []
    },
    {
      "cell_type": "code",
      "metadata": {
        "id": "tnux9hNPSVYv"
      },
      "source": [
        "import matplotlib.pyplot as plt\n",
        "\n",
        "def plot_results(loss, score1, score1_title='Accuracy', score2=None, score2_title=None):\n",
        "  f1 = plt.figure(1)\n",
        "  ax1 = f1.add_subplot(111)\n",
        "  ax1.set_title(\"Loss\")\n",
        "  ax1.set_xlabel('epochs')\n",
        "  ax1.set_ylabel('loss')\n",
        "  ax1.plot(loss, c='r')\n",
        "  ax1.legend(['train-loss'])\n",
        "  f1.show()\n",
        "\n",
        "  f2 = plt.figure(2)\n",
        "  ax2 = f2.add_subplot(111)\n",
        "  ax2.set_title(score1_title)\n",
        "  ax2.set_xlabel('epochs')\n",
        "  ax2.set_ylabel(score1_title.lower())\n",
        "  ax2.plot(score1[0], c='b')\n",
        "  ax2.plot(score1[1], c='g')\n",
        "  ax2.legend([f'train-{score1_title.lower()}', f'val-{score1_title.lower()}'])\n",
        "  f2.show()\n",
        "\n",
        "  if score2:\n",
        "    f3= plt.figure(3)\n",
        "    ax3 = f3.add_subplot(111)\n",
        "    ax3.set_title(score2_title)\n",
        "    ax3.set_xlabel('epochs')\n",
        "    ax3.set_ylabel(score2_title.lower())\n",
        "    ax3.plot(score2[0], c='b')\n",
        "    ax3.plot(score2[1], c='g')\n",
        "    ax3.legend([f'train-{score2_title.lower()}', f'val-{score2_title.lower()}'])\n",
        "    f3.show()"
      ],
      "execution_count": null,
      "outputs": []
    },
    {
      "cell_type": "markdown",
      "metadata": {
        "id": "6Mw8PKh-uF7P"
      },
      "source": [
        "# Parte 1: Arquitectura ResNet para CIFAR10"
      ]
    },
    {
      "cell_type": "markdown",
      "metadata": {
        "id": "nwTQpC0eCKp3"
      },
      "source": [
        "##  Arquitectura Convolucional: ResNet50\n",
        "\n"
      ]
    },
    {
      "cell_type": "code",
      "metadata": {
        "id": "lHCTIn0FlcnS"
      },
      "source": [
        "class BottleneckModule(nn.Module):\n",
        "  expansion: int = 4\n",
        "  def __init__(self, inplanes, planes=64, stride=1, downsample = None):\n",
        "\n",
        "    super(BottleneckModule, self).__init__()\n",
        "\n",
        "\n",
        "\n",
        "    self.conv1 = nn.Conv2d(inplanes, planes, (1,1), stride=1)\n",
        "    self.bn1 = nn.BatchNorm2d(planes) #We adopt batch normalization (BN) right after each convolution and before activation\n",
        "    self.conv2 = nn.Conv2d(planes, planes, (3,3), stride=stride, padding=1)\n",
        "    self.bn2 = nn.BatchNorm2d(planes)\n",
        "    self.conv3 = nn.Conv2d(planes, planes * self.expansion, (1,1), stride=1)\n",
        "    self.bn3 = nn.BatchNorm2d(planes * self.expansion)\n",
        "\n",
        "    self.relu = nn.ReLU(inplace=True)\n",
        "\n",
        "    self.downsample = downsample\n",
        "\n",
        "  def forward(self, x):\n",
        "    identity = x\n",
        "\n",
        "    out = self.conv1(x)\n",
        "    out = self.bn1(out)\n",
        "    out = self.relu(out)\n",
        "\n",
        "    out = self.conv2(out)\n",
        "    out = self.bn2(out)\n",
        "    out = self.relu(out)\n",
        "\n",
        "    out = self.conv3(out)\n",
        "    out = self.bn3(out)\n",
        "\n",
        "    if self.downsample is not None:\n",
        "      identity = self.downsample(x)\n",
        "\n",
        "    out += identity\n",
        "    out = self.relu(out)\n",
        "\n",
        "    return out"
      ],
      "execution_count": null,
      "outputs": []
    },
    {
      "cell_type": "code",
      "metadata": {
        "id": "HMLkLKGFoTKa"
      },
      "source": [
        "class ResNet50(nn.Module):\n",
        "  def __init__(self, n_classes):\n",
        "    super(ResNet50, self).__init__()\n",
        "\n",
        "    self.inplanes = 64\n",
        "\n",
        "    # Define las capas de convolución y pooling de tu arquitectura\n",
        "    self.conv1 = nn.Conv2d(3, 64, kernel_size=7, stride=2, padding=3, bias=False)\n",
        "    self.bn1 = nn.BatchNorm2d(64)\n",
        "    self.relu = nn.ReLU(inplace=True)\n",
        "    self.maxpool = nn.MaxPool2d(kernel_size=3, stride=2, padding=1)\n",
        "\n",
        "    self.layer1 = self._make_layer(64, 3)\n",
        "    self.layer2 = self._make_layer(128, 4, stride=2)\n",
        "    self.layer3 = self._make_layer(256, 6, stride=2)\n",
        "    self.layer4 = self._make_layer(512, 3, stride=2)\n",
        "    self.avgpool = nn.AdaptiveAvgPool2d((1, 1))\n",
        "\n",
        "    self.dropout = nn.Dropout(p=0.4)\n",
        "    # Capa de salida (antes de la función de salida)\n",
        "    self.fc_out = nn.Linear(512 * BottleneckModule.expansion, n_classes)\n",
        "\n",
        "  def _make_layer(self, planes, blocks, stride=1):\n",
        "    downsample = None\n",
        "    if stride != 1 or self.inplanes != planes * BottleneckModule.expansion:\n",
        "      downsample = nn.Sequential(\n",
        "          nn.Conv2d(self.inplanes, planes * BottleneckModule.expansion, (1,1), stride),\n",
        "          nn.BatchNorm2d(planes * BottleneckModule.expansion)\n",
        "          )\n",
        "    layers = []\n",
        "    layers.append(BottleneckModule(self.inplanes, planes, stride, downsample))\n",
        "    self.inplanes = planes * BottleneckModule.expansion\n",
        "    for _ in range(1, blocks):\n",
        "        layers.append(BottleneckModule(self.inplanes, planes))\n",
        "\n",
        "    return nn.Sequential(*layers)\n",
        "\n",
        "  def forward(self, x):\n",
        "    # Computa las representaciones internas de la red\n",
        "    x = self.conv1(x)\n",
        "    x = self.bn1(x)\n",
        "    x = self.relu(x)\n",
        "    x = self.maxpool(x)\n",
        "    x = self.dropout(x)\n",
        "\n",
        "    x = self.layer1(x)\n",
        "    x = self.layer2(x)\n",
        "    x = self.layer3(x)\n",
        "    x = self.layer4(x)\n",
        "    h = x\n",
        "\n",
        "    x = self.avgpool(x)\n",
        "\n",
        "    x = self.dropout(x)\n",
        "\n",
        "    x = torch.flatten(x, 1)\n",
        "\n",
        "    logits = self.fc_out(x)\n",
        "\n",
        "    # En hidden debes devolver alguna de las capas oculta de la red\n",
        "    return {'hidden': h, 'logits': logits}"
      ],
      "execution_count": null,
      "outputs": []
    },
    {
      "cell_type": "code",
      "source": [
        "class ResNet101(nn.Module):\n",
        "  def __init__(self, n_classes):\n",
        "    super(ResNet50, self).__init__()\n",
        "\n",
        "    self.inplanes = 64\n",
        "\n",
        "    # Define las capas de convolución y pooling de tu arquitectura\n",
        "    self.conv1 = nn.Conv2d(3, 64, kernel_size=7, stride=2, padding=3, bias=False)\n",
        "    self.bn1 = nn.BatchNorm2d(64)\n",
        "    self.relu = nn.ReLU(inplace=True)\n",
        "    self.maxpool = nn.MaxPool2d(kernel_size=3, stride=2, padding=1)\n",
        "\n",
        "    self.layer1 = self._make_layer(64, 3)\n",
        "    self.layer2 = self._make_layer(128, 4, stride=2)\n",
        "    self.layer3 = self._make_layer(256, 23, stride=2)\n",
        "    self.layer4 = self._make_layer(512, 3, stride=2)\n",
        "    self.avgpool = nn.AdaptiveAvgPool2d((1, 1))\n",
        "\n",
        "    self.dropout = nn.Dropout(p=0.4)\n",
        "    # Capa de salida (antes de la función de salida)\n",
        "    self.fc_out = nn.Linear(512 * BottleneckModule.expansion, n_classes)\n",
        "\n",
        "  def _make_layer(self, planes, blocks, stride=1):\n",
        "    downsample = None\n",
        "    if stride != 1 or self.inplanes != planes * BottleneckModule.expansion:\n",
        "      downsample = nn.Sequential(\n",
        "          nn.Conv2d(self.inplanes, planes * BottleneckModule.expansion, (1,1), stride),\n",
        "          nn.BatchNorm2d(planes * BottleneckModule.expansion)\n",
        "          )\n",
        "    layers = []\n",
        "    layers.append(BottleneckModule(self.inplanes, planes, stride, downsample))\n",
        "    self.inplanes = planes * BottleneckModule.expansion\n",
        "    for _ in range(1, blocks):\n",
        "        layers.append(BottleneckModule(self.inplanes, planes))\n",
        "\n",
        "    return nn.Sequential(*layers)\n",
        "\n",
        "  def forward(self, x):\n",
        "    # Computa las representaciones internas de la red\n",
        "    x = self.conv1(x)\n",
        "    x = self.bn1(x)\n",
        "    x = self.relu(x)\n",
        "    x = self.maxpool(x)\n",
        "    x = self.dropout(x)\n",
        "\n",
        "    x = self.layer1(x)\n",
        "    x = self.layer2(x)\n",
        "    x = self.layer3(x)\n",
        "    x = self.layer4(x)\n",
        "    h = x\n",
        "\n",
        "    x = self.avgpool(x)\n",
        "\n",
        "    x = self.dropout(x)\n",
        "\n",
        "    x = torch.flatten(x, 1)\n",
        "\n",
        "    logits = self.fc_out(x)\n",
        "\n",
        "    # En hidden debes devolver alguna de las capas oculta de la red\n",
        "    return {'hidden': h, 'logits': logits}"
      ],
      "metadata": {
        "id": "vHRGVeWmFBmF"
      },
      "execution_count": null,
      "outputs": []
    },
    {
      "cell_type": "markdown",
      "metadata": {
        "id": "y5pSvSViZqWZ"
      },
      "source": [
        "## 1c.2) Arquitectura Convolucional: ResNet18\n",
        "\n"
      ]
    },
    {
      "cell_type": "code",
      "metadata": {
        "id": "EUCs4EJNZqWg"
      },
      "source": [
        "class BuildingBlock(nn.Module):\n",
        "  expansion: int = 1\n",
        "  def __init__(self, inplanes, planes=64, stride=1, downsample = None):\n",
        "\n",
        "    super(BuildingBlock, self).__init__()\n",
        "\n",
        "    self.conv1 = nn.Conv2d(inplanes, planes, (3,3), stride=stride, padding=1)\n",
        "    self.bn1 = nn.BatchNorm2d(planes)\n",
        "    self.conv2 = nn.Conv2d(planes, planes, (3,3), stride=stride, padding=1)\n",
        "    self.bn2 = nn.BatchNorm2d(planes)\n",
        "\n",
        "    self.relu = nn.ReLU(inplace=True)\n",
        "\n",
        "    self.downsample = downsample\n",
        "\n",
        "  def forward(self, x):\n",
        "    identity = x\n",
        "\n",
        "    out = self.conv1(x)\n",
        "    out = self.bn1(out)\n",
        "    out = self.relu(out)\n",
        "\n",
        "    out = self.conv2(out)\n",
        "    out = self.bn2(out)\n",
        "\n",
        "    if self.downsample is not None:\n",
        "      identity = self.downsample(x)\n",
        "    out += identity\n",
        "    out = self.relu(out)\n",
        "\n",
        "    return out"
      ],
      "execution_count": null,
      "outputs": []
    },
    {
      "cell_type": "code",
      "metadata": {
        "id": "ErxsrX_ZZqWg"
      },
      "source": [
        "# Acá el código para tu primera arquitectura\n",
        "\n",
        "class ResNet18(nn.Module):\n",
        "  def __init__(self, n_classes):\n",
        "    super(ResNet18, self).__init__()\n",
        "\n",
        "    self.inplanes = 64\n",
        "\n",
        "    # Define las capas de convolución y pooling de tu arquitectura\n",
        "    self.conv1 = nn.Conv2d(3, 64, kernel_size=7, stride=2, padding=3, bias=False)\n",
        "    self.bn1 = nn.BatchNorm2d(64)\n",
        "    self.relu = nn.ReLU(inplace=True)\n",
        "    self.maxpool = nn.MaxPool2d(kernel_size=3, stride=2, padding=1)\n",
        "\n",
        "    self.layer1 = self._make_layer(64, 2)\n",
        "    self.layer2 = self._make_layer(128, 2, stride=1)\n",
        "    self.layer3 = self._make_layer(256, 2, stride=1)\n",
        "    self.layer4 = self._make_layer(512, 2, stride=1)\n",
        "    self.avgpool = nn.AdaptiveAvgPool2d((1, 1))\n",
        "\n",
        "    self.dropout = nn.Dropout(p=0.5)\n",
        "    # Capa de salida (antes de la función de salida)\n",
        "    self.fc_out = nn.Linear(512 * BuildingBlock.expansion, n_classes)\n",
        "\n",
        "  def _make_layer(self, planes, blocks, stride=1):\n",
        "    downsample = None\n",
        "    if stride != 1 or self.inplanes != planes * BuildingBlock.expansion:\n",
        "      downsample = nn.Sequential(\n",
        "          nn.Conv2d(self.inplanes, planes * BuildingBlock.expansion, (1,1), stride),\n",
        "          nn.BatchNorm2d(planes * BuildingBlock.expansion)\n",
        "          )\n",
        "    layers = []\n",
        "    layers.append(BuildingBlock(self.inplanes, planes, stride, downsample))\n",
        "    self.inplanes = planes * BuildingBlock.expansion\n",
        "    for _ in range(1, blocks):\n",
        "        layers.append(BuildingBlock(self.inplanes, planes))\n",
        "\n",
        "    return nn.Sequential(*layers)\n",
        "\n",
        "  def forward(self, x):\n",
        "    # Computa las representaciones internas de la red\n",
        "    x = self.conv1(x)\n",
        "    x = self.bn1(x)\n",
        "    x = self.relu(x)\n",
        "    x = self.maxpool(x)\n",
        "\n",
        "    x = self.layer1(x)\n",
        "    x = self.layer2(x)\n",
        "    x = self.layer3(x)\n",
        "    x = self.layer4(x)\n",
        "\n",
        "    x = self.avgpool(x)\n",
        "    hidden = x\n",
        "\n",
        "    x = self.dropout(x)\n",
        "\n",
        "    x = torch.flatten(x, 1)\n",
        "\n",
        "    logits = self.fc_out(x)\n",
        "\n",
        "    # En hidden debes devolver alguna de las capas oculta de la red\n",
        "    return {'hidden': hidden, 'logits': logits}"
      ],
      "execution_count": null,
      "outputs": []
    },
    {
      "cell_type": "markdown",
      "metadata": {
        "id": "tE6uDwmJ94-W"
      },
      "source": [
        "## 1d) Clasificación de Imágenes en CIFAR10"
      ]
    },
    {
      "cell_type": "code",
      "metadata": {
        "colab": {
          "base_uri": "https://localhost:8080/",
          "height": 104,
          "referenced_widgets": [
            "016d82fcf9664f129fb985ae5f1c1512",
            "6b195b90a41e4abda4640e62816f8f34",
            "b47ccc38b03b410e915ad8ad39921b28",
            "083713bdecfb44ff9897ac88a71d037c",
            "6f9edbac0a114dbaa5e95e88fbf68513",
            "9aae79cfd1064799a5183bb9bd9fc3a9",
            "6b31a03ffe1b436abc69c817785d0646",
            "bc41c6f0cbb242d590d34bea08a02ade",
            "9cd8eecc5dce48c9986bda2017694beb",
            "f88433cd565b43248b46270d2b1018f7",
            "5d2e2d5d45fe44fba633dc1c0ef2c6d9"
          ]
        },
        "id": "1InBxxn28TJ4",
        "outputId": "127a12db-7f0f-418d-d336-45722874a2b5"
      },
      "source": [
        "##############################################################################\n",
        "# Todo este código sirve para descargar, preprocesar y dejar los datos\n",
        "# listos para usar después. Después de ejecutar las celdas tendrás los datos\n",
        "# trainset, trainloader y similar para test.\n",
        "##############################################################################\n",
        "\n",
        "transform = transforms.Compose(\n",
        "    [transforms.ToTensor(),\n",
        "     transforms.Normalize((0.5, 0.5, 0.5), (0.5, 0.5, 0.5))])\n",
        "\n",
        "trainset = torchvision.datasets.CIFAR10(root='./data', train=True,\n",
        "                                        download=True, transform=transform)\n",
        "trainloader = torch.utils.data.DataLoader(trainset, batch_size=4,\n",
        "                                          shuffle=True, num_workers=2)\n",
        "\n",
        "testset = torchvision.datasets.CIFAR10(root='./data', train=False,\n",
        "                                       download=True, transform=transform)\n",
        "testloader = torch.utils.data.DataLoader(testset, batch_size=4,\n",
        "                                         shuffle=False, num_workers=2)\n",
        "\n",
        "classes = ('plane', 'car', 'bird', 'cat',\n",
        "           'deer', 'dog', 'frog', 'horse', 'ship', 'truck')"
      ],
      "execution_count": null,
      "outputs": [
        {
          "output_type": "stream",
          "name": "stdout",
          "text": [
            "Downloading https://www.cs.toronto.edu/~kriz/cifar-10-python.tar.gz to ./data/cifar-10-python.tar.gz\n"
          ]
        },
        {
          "output_type": "display_data",
          "data": {
            "application/vnd.jupyter.widget-view+json": {
              "model_id": "016d82fcf9664f129fb985ae5f1c1512",
              "version_minor": 0,
              "version_major": 2
            },
            "text/plain": [
              "  0%|          | 0/170498071 [00:00<?, ?it/s]"
            ]
          },
          "metadata": {}
        },
        {
          "output_type": "stream",
          "name": "stdout",
          "text": [
            "Extracting ./data/cifar-10-python.tar.gz to ./data\n",
            "Files already downloaded and verified\n"
          ]
        }
      ]
    },
    {
      "cell_type": "markdown",
      "metadata": {
        "id": "hOGsmYZnj_x5"
      },
      "source": [
        "ResNet50 en CIFAR10\n",
        "Val_Acc = 60%"
      ]
    },
    {
      "cell_type": "code",
      "metadata": {
        "id": "7hK2SBLlIUB3"
      },
      "source": [
        "# Definamos algunos hiper-parámetros\n",
        "BATCH_SIZE = 128\n",
        "LR = 0.1\n",
        "EPOCHS = 40\n",
        "REPORTS_EVERY = 1\n",
        "\n",
        "net = ResNet50(n_classes=len(classes)) # tu modelo de CNN (para clasificar en 10 clases)\n",
        "optimizer = optim.SGD(net.parameters(), lr=LR, weight_decay=0.0001, momentum=0.9) # optimizador, e.g., optim.SGD, optim.Adam, ...\n",
        "criterion = nn.CrossEntropyLoss() # función de pérdida\n",
        "scheduler = StepLR(optimizer, step_size=8, gamma=0.1) # (opcional) optim.lr_scheduler proporciona varios métodos para ajustar el lr según el número de épocas\n",
        "\n",
        "train_loader = DataLoader(trainset, batch_size=BATCH_SIZE,\n",
        "                          shuffle=True, num_workers=2)\n",
        "test_loader = DataLoader(testset, batch_size=BATCH_SIZE,\n",
        "                         shuffle=False, num_workers=2)\n",
        "\n",
        "train_loss, acc = train_for_classification(net, train_loader,\n",
        "                                           test_loader, optimizer,\n",
        "                                           criterion, lr_scheduler=scheduler,\n",
        "                                           epochs=EPOCHS, reports_every=REPORTS_EVERY)\n",
        "\n",
        "plot_results(train_loss, acc)"
      ],
      "execution_count": null,
      "outputs": []
    },
    {
      "cell_type": "markdown",
      "metadata": {
        "id": "tAEJYL_xkLMt"
      },
      "source": [
        "### ResNet18 en CIFAR10\n",
        "Val_Acc = 82% (No DropOut)"
      ]
    },
    {
      "cell_type": "code",
      "metadata": {
        "colab": {
          "base_uri": "https://localhost:8080/",
          "height": 942
        },
        "id": "IjYefAVGCfs8",
        "outputId": "0bd1999b-20e4-475b-bf7f-f5157ac89582"
      },
      "source": [
        "# Definamos algunos hiper-parámetros\n",
        "BATCH_SIZE = 128\n",
        "LR = 0.1\n",
        "EPOCHS = 20\n",
        "REPORTS_EVERY = 1\n",
        "\n",
        "net = ResNet18(n_classes=len(classes)) # tu modelo de CNN (para clasificar en 10 clases)\n",
        "optimizer = optim.SGD(net.parameters(), lr=LR, weight_decay=0.0001, momentum=0.9) # optimizador, e.g., optim.SGD, optim.Adam, ...\n",
        "criterion = nn.CrossEntropyLoss() # función de pérdida\n",
        "scheduler = StepLR(optimizer, step_size=10, gamma=0.1) # (opcional) optim.lr_scheduler proporciona varios métodos para ajustar el lr según el número de épocas\n",
        "\n",
        "train_loader = DataLoader(trainset, batch_size=BATCH_SIZE,\n",
        "                          shuffle=True, num_workers=2)\n",
        "test_loader = DataLoader(testset, batch_size=BATCH_SIZE,\n",
        "                         shuffle=False, num_workers=2)\n",
        "\n",
        "train_loss, acc = train_for_classification(net, train_loader,\n",
        "                                           test_loader, optimizer,\n",
        "                                           criterion, lr_scheduler=scheduler,\n",
        "                                           epochs=EPOCHS, reports_every=REPORTS_EVERY)\n",
        "\n",
        "plot_results(train_loss, acc)"
      ],
      "execution_count": null,
      "outputs": [
        {
          "output_type": "stream",
          "name": "stdout",
          "text": [
            "Epoch:1(50000/50000), lr:0.1000000, Loss:1.83690, Train Acc:35.1%, Validating..., Val Acc:42.84%, Avg-Time:19.204s.\n",
            "Epoch:2(50000/50000), lr:0.1000000, Loss:1.31398, Train Acc:51.7%, Validating..., Val Acc:52.94%, Avg-Time:19.271s.\n",
            "Epoch:3(50000/50000), lr:0.1000000, Loss:1.09084, Train Acc:60.6%, Validating..., Val Acc:61.12%, Avg-Time:19.331s.\n",
            "Epoch:4(50000/50000), lr:0.1000000, Loss:0.93097, Train Acc:66.6%, Validating..., Val Acc:64.63%, Avg-Time:19.342s.\n",
            "Epoch:5(50000/50000), lr:0.1000000, Loss:0.81167, Train Acc:71.6%, Validating..., Val Acc:71.02%, Avg-Time:19.317s.\n",
            "Epoch:6(50000/50000), lr:0.1000000, Loss:0.71877, Train Acc:74.7%, Validating..., Val Acc:72.32%, Avg-Time:19.327s.\n",
            "Epoch:7(50000/50000), lr:0.1000000, Loss:0.64113, Train Acc:77.4%, Validating..., Val Acc:74.71%, Avg-Time:19.301s.\n",
            "Epoch:8(50000/50000), lr:0.1000000, Loss:0.57650, Train Acc:80.0%, Validating..., Val Acc:74.51%, Avg-Time:19.296s.\n",
            "Epoch:9(50000/50000), lr:0.1000000, Loss:0.53476, Train Acc:81.3%, Validating..., Val Acc:74.51%, Avg-Time:19.302s.\n",
            "Epoch:10(50000/50000), lr:0.1000000, Loss:0.48407, Train Acc:83.1%, Validating..., Val Acc:76.65%, Avg-Time:19.314s.\n",
            "Epoch:11(50000/50000), lr:0.0100000, Loss:0.28358, Train Acc:90.6%, Validating..., Val Acc:82.33%, Avg-Time:19.313s.\n",
            "Epoch:12(50000/50000), lr:0.0100000, Loss:0.22063, Train Acc:92.6%, Validating..., Val Acc:82.35%, Avg-Time:19.310s.\n",
            "Epoch:13(50000/50000), lr:0.0100000, Loss:0.18535, Train Acc:93.9%, Validating..., Val Acc:82.53%, Avg-Time:19.317s.\n",
            "Epoch:14(50000/50000), lr:0.0100000, Loss:0.15313, Train Acc:95.0%, Validating..., Val Acc:82.21%, Avg-Time:19.316s.\n",
            "Epoch:15(50000/50000), lr:0.0100000, Loss:0.12761, Train Acc:95.9%, Validating..., Val Acc:82.12%, Avg-Time:19.301s.\n",
            "Epoch:16(50000/50000), lr:0.0100000, Loss:0.10152, Train Acc:96.8%, Validating..., Val Acc:81.96%, Avg-Time:19.293s.\n",
            "Epoch:17(50000/50000), lr:0.0100000, Loss:0.07760, Train Acc:97.6%, Validating..., Val Acc:81.83%, Avg-Time:19.297s.\n",
            "Epoch:18(50000/50000), lr:0.0100000, Loss:0.05975, Train Acc:98.3%, Validating..., Val Acc:81.70%, Avg-Time:19.303s.\n",
            "Epoch:19(50000/50000), lr:0.0100000, Loss:0.04507, Train Acc:98.8%, Validating..., Val Acc:81.69%, Avg-Time:19.309s.\n",
            "Epoch:20(50000/50000), lr:0.0100000, Loss:0.03065, Train Acc:99.2%, Validating..., Val Acc:81.20%, Avg-Time:19.304s.\n"
          ]
        },
        {
          "output_type": "display_data",
          "data": {
            "image/png": "[encoded data removed]",
            "text/plain": [
              "<Figure size 432x288 with 1 Axes>"
            ]
          },
          "metadata": {
            "needs_background": "light"
          }
        },
        {
          "output_type": "display_data",
          "data": {
            "image/png": "[encoded data removed]",
            "text/plain": [
              "<Figure size 432x288 with 1 Axes>"
            ]
          },
          "metadata": {
            "needs_background": "light"
          }
        }
      ]
    },
    {
      "cell_type": "markdown",
      "metadata": {
        "id": "TKwZvKjJk8g3"
      },
      "source": [
        "### ResNet18 en CIFAR10\n",
        "Val_Acc = 82% (1xDropOut = 0.4)"
      ]
    },
    {
      "cell_type": "code",
      "metadata": {
        "colab": {
          "base_uri": "https://localhost:8080/",
          "height": 942
        },
        "id": "Gib1XSBFk8g3",
        "outputId": "6185083c-d3bf-4b3d-ed55-b7a86d1f6b4b"
      },
      "source": [
        "BATCH_SIZE = 128\n",
        "LR = 0.1\n",
        "EPOCHS = 20\n",
        "REPORTS_EVERY = 1\n",
        "\n",
        "net = ResNet18(n_classes=len(classes)) # tu modelo de CNN (para clasificar en 10 clases)\n",
        "optimizer = optim.SGD(net.parameters(), lr=LR, weight_decay=0.0001, momentum=0.9) # optimizador, e.g., optim.SGD, optim.Adam, ...\n",
        "criterion = nn.CrossEntropyLoss() # función de pérdida\n",
        "scheduler = StepLR(optimizer, step_size=10, gamma=0.1) # (opcional) optim.lr_scheduler proporciona varios métodos para ajustar el lr según el número de épocas\n",
        "\n",
        "train_loader = DataLoader(trainset, batch_size=BATCH_SIZE,\n",
        "                          shuffle=True, num_workers=2)\n",
        "test_loader = DataLoader(testset, batch_size=BATCH_SIZE,\n",
        "                         shuffle=False, num_workers=2)\n",
        "\n",
        "train_loss, acc = train_for_classification(net, train_loader,\n",
        "                                           test_loader, optimizer,\n",
        "                                           criterion, lr_scheduler=scheduler,\n",
        "                                           epochs=EPOCHS, reports_every=REPORTS_EVERY)\n",
        "\n",
        "plot_results(train_loss, acc)"
      ],
      "execution_count": null,
      "outputs": [
        {
          "output_type": "stream",
          "name": "stdout",
          "text": [
            "Epoch:1(50000/50000), lr:0.1000000, Loss:1.88541, Train Acc:32.2%, Validating..., Val Acc:42.50%, Avg-Time:19.355s.\n",
            "Epoch:2(50000/50000), lr:0.1000000, Loss:1.38921, Train Acc:49.2%, Validating..., Val Acc:53.76%, Avg-Time:19.303s.\n",
            "Epoch:3(50000/50000), lr:0.1000000, Loss:1.15914, Train Acc:58.3%, Validating..., Val Acc:58.13%, Avg-Time:19.224s.\n",
            "Epoch:4(50000/50000), lr:0.1000000, Loss:0.98643, Train Acc:65.0%, Validating..., Val Acc:65.87%, Avg-Time:19.189s.\n",
            "Epoch:5(50000/50000), lr:0.1000000, Loss:0.84266, Train Acc:70.3%, Validating..., Val Acc:69.74%, Avg-Time:19.197s.\n",
            "Epoch:6(50000/50000), lr:0.1000000, Loss:0.74183, Train Acc:74.4%, Validating..., Val Acc:73.01%, Avg-Time:19.201s.\n",
            "Epoch:7(50000/50000), lr:0.1000000, Loss:0.65831, Train Acc:77.1%, Validating..., Val Acc:73.03%, Avg-Time:19.204s.\n",
            "Epoch:8(50000/50000), lr:0.1000000, Loss:0.58722, Train Acc:79.5%, Validating..., Val Acc:72.40%, Avg-Time:19.220s.\n",
            "Epoch:9(50000/50000), lr:0.1000000, Loss:0.52545, Train Acc:81.7%, Validating..., Val Acc:76.70%, Avg-Time:19.240s.\n",
            "Epoch:10(50000/50000), lr:0.1000000, Loss:0.46977, Train Acc:83.7%, Validating..., Val Acc:75.35%, Avg-Time:19.256s.\n",
            "Epoch:11(50000/50000), lr:0.0100000, Loss:0.26903, Train Acc:91.1%, Validating..., Val Acc:82.63%, Avg-Time:19.244s.\n",
            "Epoch:12(50000/50000), lr:0.0100000, Loss:0.19933, Train Acc:93.4%, Validating..., Val Acc:82.48%, Avg-Time:19.255s.\n",
            "Epoch:13(50000/50000), lr:0.0100000, Loss:0.15992, Train Acc:94.9%, Validating..., Val Acc:82.57%, Avg-Time:19.238s.\n",
            "Epoch:14(50000/50000), lr:0.0100000, Loss:0.12939, Train Acc:95.8%, Validating..., Val Acc:82.63%, Avg-Time:19.230s.\n",
            "Epoch:15(50000/50000), lr:0.0100000, Loss:0.10150, Train Acc:96.9%, Validating..., Val Acc:81.95%, Avg-Time:19.230s.\n",
            "Epoch:16(50000/50000), lr:0.0100000, Loss:0.07602, Train Acc:97.8%, Validating..., Val Acc:82.21%, Avg-Time:19.226s.\n",
            "Epoch:17(50000/50000), lr:0.0100000, Loss:0.05456, Train Acc:98.5%, Validating..., Val Acc:82.23%, Avg-Time:19.218s.\n",
            "Epoch:18(50000/50000), lr:0.0100000, Loss:0.04061, Train Acc:99.0%, Validating..., Val Acc:82.05%, Avg-Time:19.212s.\n",
            "Epoch:19(50000/50000), lr:0.0100000, Loss:0.02674, Train Acc:99.5%, Validating..., Val Acc:81.78%, Avg-Time:19.218s.\n",
            "Epoch:20(50000/50000), lr:0.0100000, Loss:0.02068, Train Acc:99.6%, Validating..., Val Acc:81.94%, Avg-Time:19.212s.\n"
          ]
        },
        {
          "output_type": "display_data",
          "data": {
            "image/png": "[encoded data removed]",
            "text/plain": [
              "<Figure size 432x288 with 1 Axes>"
            ]
          },
          "metadata": {
            "needs_background": "light"
          }
        },
        {
          "output_type": "display_data",
          "data": {
            "image/png": "[encoded data removed]",
            "text/plain": [
              "<Figure size 432x288 with 1 Axes>"
            ]
          },
          "metadata": {
            "needs_background": "light"
          }
        }
      ]
    },
    {
      "cell_type": "markdown",
      "metadata": {
        "id": "nQqkLQLjHJbD"
      },
      "source": [
        "ResNet18 Funciona mejor que ResNet50 (hay menos overfit), esto tieen sentido ya que el dataset y las clases es muy pequeño para trabajar con tantas capas."
      ]
    },
    {
      "cell_type": "code",
      "metadata": {
        "colab": {
          "base_uri": "https://localhost:8080/"
        },
        "id": "QoEdEQnedJMY",
        "outputId": "5297b7a9-4dc6-4f60-ffb1-740b1f9f3c91"
      },
      "source": [
        "# Test\n",
        "x, y = list(test_loader)[0]\n",
        "net.cpu()\n",
        "net.eval()\n",
        "y_pred = net(x)['logits'].max(dim=1)[1]\n",
        "\n",
        "# Veamos como se comporta el modelo\n",
        "print(\"Correct Test!\" if (y==y_pred).sum()/len(x) >= .75 else \"Failed Test! [acc]\")"
      ],
      "execution_count": null,
      "outputs": [
        {
          "output_type": "stream",
          "name": "stdout",
          "text": [
            "Correct Test!\n"
          ]
        }
      ]
    },
    {
      "cell_type": "markdown",
      "metadata": {
        "id": "kmALm7EtpFow"
      },
      "source": [
        "##  CIFAR100"
      ]
    },
    {
      "cell_type": "code",
      "metadata": {
        "id": "prIQA-PjpqV7"
      },
      "source": [
        "##############################################################################\n",
        "# Toda esta parte es similar a la anterior pero para CIFAR100.\n",
        "##############################################################################\n",
        "\n",
        "transform = transforms.Compose(\n",
        "    [transforms.ToTensor(),\n",
        "     transforms.Normalize((0.5, 0.5, 0.5), (0.5, 0.5, 0.5))])\n",
        "\n",
        "trainset = torchvision.datasets.CIFAR100(root='./data/cifar100', train=True,\n",
        "                                         download=True, transform=transform)\n",
        "\n",
        "testset = torchvision.datasets.CIFAR100(root='./data/cifar100', train=False,\n",
        "                                        download=True, transform=transform)"
      ],
      "execution_count": null,
      "outputs": []
    },
    {
      "cell_type": "code",
      "metadata": {
        "id": "lDSB4v2x8T3k"
      },
      "source": [
        "# Definamos algunos hiper-parámetros\n",
        "BATCH_SIZE = ...\n",
        "LR = ...\n",
        "EPOCHS = ...\n",
        "REPORTS_EVERY = 1\n",
        "\n",
        "net = ... # tu modelo de CNN (para clasificar en 100 clases)\n",
        "optimizer = ... # optimizador, e.g., optim.SGD, optim.Adam, ...\n",
        "criterion = nn.CrossEntropyLoss() # función de pérdida\n",
        "scheduler = ... # (opcional) optim.lr_scheduler proporciona varios métodos para ajustar el lr según el número de épocas\n",
        "\n",
        "train_loader = DataLoader(trainset, batch_size=BATCH_SIZE,\n",
        "                          shuffle=True, num_workers=2)\n",
        "test_loader = DataLoader(testset, batch_size=4*BATCH_SIZE,\n",
        "                         shuffle=False, num_workers=2)\n",
        "\n",
        "train_loss, acc = train_for_classification(net, train_loader,\n",
        "                                           test_loader, optimizer,\n",
        "                                           criterion, lr_scheduler=scheduler,\n",
        "                                           epochs=EPOCHS, reports_every=REPORTS_EVERY)\n",
        "\n",
        "plot_results(train_loss, acc)"
      ],
      "execution_count": null,
      "outputs": []
    }
  ]
}